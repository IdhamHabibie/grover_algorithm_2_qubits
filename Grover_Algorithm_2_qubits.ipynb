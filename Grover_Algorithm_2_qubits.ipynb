{
  "nbformat": 4,
  "nbformat_minor": 0,
  "metadata": {
    "colab": {
      "name": "Grover_Algorithm_2 qubits.ipynb",
      "provenance": [],
      "collapsed_sections": []
    },
    "kernelspec": {
      "display_name": "Python 3",
      "language": "python",
      "name": "python3"
    },
    "language_info": {
      "codemirror_mode": {
        "name": "ipython",
        "version": 3
      },
      "file_extension": ".py",
      "mimetype": "text/x-python",
      "name": "python",
      "nbconvert_exporter": "python",
      "pygments_lexer": "ipython3",
      "version": "3.8.3"
    }
  },
  "cells": [
    {
      "cell_type": "markdown",
      "metadata": {
        "id": "inBrHiulzpNQ"
      },
      "source": [
        "# We are running Grover Algorithm : The Algorithm the search the database through the Quantum Algorithm. \n",
        "It is really important to understand the Grover Algorithm first, which is mainly used to reduce the complexity of the Searching Algorithm. This is the explanation of using the Grover Algorithm : https://qiskit.org/textbook/ch-algorithms/grover.html"
      ]
    },
    {
      "cell_type": "markdown",
      "metadata": {
        "id": "VXzlasRGu44T"
      },
      "source": [
        "## README : \n",
        "1. Run All The Program, by clicking Cell --> Run All. Or you also able to click the shortcut **CTRL+F9**.\n",
        "2. **Part 1** : Install the Library needed. Please bear in mind, if you have install this *qiskit*, *pylatexenc*, and *truth-table-generator*. You don't need to run this anymore.\n",
        "3. After running all the program, in **Part 4** : *Truth Table section*, we need to identify :\n",
        "   - Which qubits that you are searching\n",
        "   - Truth Table rules\n",
        "      * As discussed previously, we identify *1st argument : ~q* and *2nd argument : p xor q*. The table is illustrated as follows : \n",
        "\n",
        "| p | q | ~q  | p xor q  |   |\n",
        "|---|---|-----|----------|---|\n",
        "| 1 | 1 |  0  |     0    |   |\n",
        "| 1 | 0 |  1  |     1    |   |\n",
        "| 0 | 1 |  0  |     1    |   |\n",
        "| 0 | 0 |  1  |     0    |   |\n",
        "\n",
        "\n",
        "4. The Truth Table will be shown appropriately after choosing the desired rules of Truth Table\n",
        "5. Run **Part 6 : Main Program**, and fill the iteration program for the simulation.  \n",
        "6. You may see the result on the **7. Evaluation and Result** section."
      ]
    },
    {
      "cell_type": "markdown",
      "metadata": {
        "id": "cV3rYqgNu44V"
      },
      "source": [
        "## 1. Install Library needed\n",
        "Please bear in mind, if you have install this qiskit, pylatexenc, and truth-table-generator. You don't need to run this anymore. "
      ]
    },
    {
      "cell_type": "code",
      "metadata": {
        "colab": {
          "base_uri": "https://localhost:8080/"
        },
        "id": "0Dx8Ng76u44W",
        "outputId": "24c0d8f0-2e95-41fe-e1e4-33c9307e31f4"
      },
      "source": [
        "# Run this if you haven't install qiskit, pylatexenc, and truth-table-generator\n",
        "!pip install qiskit\n",
        "!pip install qiskit --upgrade\n",
        "!pip3 install pylatexenc\n",
        "!pip install truth-table-generator"
      ],
      "execution_count": 2,
      "outputs": [
        {
          "output_type": "stream",
          "text": [
            "Requirement already satisfied: qiskit in /usr/local/lib/python3.7/dist-packages (0.25.1)\n",
            "Requirement already satisfied: qiskit-ibmq-provider==0.12.2 in /usr/local/lib/python3.7/dist-packages (from qiskit) (0.12.2)\n",
            "Requirement already satisfied: qiskit-aer==0.8.1 in /usr/local/lib/python3.7/dist-packages (from qiskit) (0.8.1)\n",
            "Requirement already satisfied: qiskit-aqua==0.9.1 in /usr/local/lib/python3.7/dist-packages (from qiskit) (0.9.1)\n",
            "Requirement already satisfied: qiskit-ignis==0.6.0 in /usr/local/lib/python3.7/dist-packages (from qiskit) (0.6.0)\n",
            "Requirement already satisfied: qiskit-terra==0.17.1 in /usr/local/lib/python3.7/dist-packages (from qiskit) (0.17.1)\n",
            "Requirement already satisfied: urllib3>=1.21.1 in /usr/local/lib/python3.7/dist-packages (from qiskit-ibmq-provider==0.12.2->qiskit) (1.24.3)\n",
            "Requirement already satisfied: requests>=2.19 in /usr/local/lib/python3.7/dist-packages (from qiskit-ibmq-provider==0.12.2->qiskit) (2.23.0)\n",
            "Requirement already satisfied: requests-ntlm>=1.1.0 in /usr/local/lib/python3.7/dist-packages (from qiskit-ibmq-provider==0.12.2->qiskit) (1.1.0)\n",
            "Requirement already satisfied: nest-asyncio!=1.1.0,>=1.0.0 in /usr/local/lib/python3.7/dist-packages (from qiskit-ibmq-provider==0.12.2->qiskit) (1.5.1)\n",
            "Requirement already satisfied: numpy>=1.13 in /usr/local/lib/python3.7/dist-packages (from qiskit-ibmq-provider==0.12.2->qiskit) (1.19.5)\n",
            "Requirement already satisfied: python-dateutil>=2.8.0 in /usr/local/lib/python3.7/dist-packages (from qiskit-ibmq-provider==0.12.2->qiskit) (2.8.1)\n",
            "Requirement already satisfied: websockets>=8 in /usr/local/lib/python3.7/dist-packages (from qiskit-ibmq-provider==0.12.2->qiskit) (8.1)\n",
            "Requirement already satisfied: pybind11>=2.6 in /usr/local/lib/python3.7/dist-packages (from qiskit-aer==0.8.1->qiskit) (2.6.2)\n",
            "Requirement already satisfied: scipy>=1.0 in /usr/local/lib/python3.7/dist-packages (from qiskit-aer==0.8.1->qiskit) (1.4.1)\n",
            "Requirement already satisfied: pandas<=1.2.3 in /usr/local/lib/python3.7/dist-packages (from qiskit-aqua==0.9.1->qiskit) (1.1.5)\n",
            "Requirement already satisfied: quandl<=3.6.0 in /usr/local/lib/python3.7/dist-packages (from qiskit-aqua==0.9.1->qiskit) (3.6.0)\n",
            "Requirement already satisfied: yfinance<=0.1.55 in /usr/local/lib/python3.7/dist-packages (from qiskit-aqua==0.9.1->qiskit) (0.1.55)\n",
            "Requirement already satisfied: retworkx<=0.8.0,>=0.7.0 in /usr/local/lib/python3.7/dist-packages (from qiskit-aqua==0.9.1->qiskit) (0.8.0)\n",
            "Requirement already satisfied: h5py<=3.1.0 in /usr/local/lib/python3.7/dist-packages (from qiskit-aqua==0.9.1->qiskit) (2.10.0)\n",
            "Requirement already satisfied: setuptools>=40.1.0 in /usr/local/lib/python3.7/dist-packages (from qiskit-aqua==0.9.1->qiskit) (54.2.0)\n",
            "Requirement already satisfied: docplex<=2.20.204; sys_platform != \"darwin\" in /usr/local/lib/python3.7/dist-packages (from qiskit-aqua==0.9.1->qiskit) (2.20.204)\n",
            "Requirement already satisfied: dlx<=1.0.4 in /usr/local/lib/python3.7/dist-packages (from qiskit-aqua==0.9.1->qiskit) (1.0.4)\n",
            "Requirement already satisfied: sympy<=1.7.1,>=1.3 in /usr/local/lib/python3.7/dist-packages (from qiskit-aqua==0.9.1->qiskit) (1.7.1)\n",
            "Requirement already satisfied: fastdtw<=0.3.4 in /usr/local/lib/python3.7/dist-packages (from qiskit-aqua==0.9.1->qiskit) (0.3.4)\n",
            "Requirement already satisfied: scikit-learn<=0.24.1,>=0.20.0 in /usr/local/lib/python3.7/dist-packages (from qiskit-aqua==0.9.1->qiskit) (0.22.2.post1)\n",
            "Requirement already satisfied: psutil<=5.8.0,>=5 in /usr/local/lib/python3.7/dist-packages (from qiskit-aqua==0.9.1->qiskit) (5.4.8)\n",
            "Requirement already satisfied: jsonschema>=2.6 in /usr/local/lib/python3.7/dist-packages (from qiskit-terra==0.17.1->qiskit) (2.6.0)\n",
            "Requirement already satisfied: dill>=0.3 in /usr/local/lib/python3.7/dist-packages (from qiskit-terra==0.17.1->qiskit) (0.3.3)\n",
            "Requirement already satisfied: ply>=3.10 in /usr/local/lib/python3.7/dist-packages (from qiskit-terra==0.17.1->qiskit) (3.11)\n",
            "Requirement already satisfied: python-constraint>=1.4 in /usr/local/lib/python3.7/dist-packages (from qiskit-terra==0.17.1->qiskit) (1.4.0)\n",
            "Requirement already satisfied: fastjsonschema>=2.10 in /usr/local/lib/python3.7/dist-packages (from qiskit-terra==0.17.1->qiskit) (2.15.0)\n",
            "Requirement already satisfied: idna<3,>=2.5 in /usr/local/lib/python3.7/dist-packages (from requests>=2.19->qiskit-ibmq-provider==0.12.2->qiskit) (2.10)\n",
            "Requirement already satisfied: certifi>=2017.4.17 in /usr/local/lib/python3.7/dist-packages (from requests>=2.19->qiskit-ibmq-provider==0.12.2->qiskit) (2020.12.5)\n",
            "Requirement already satisfied: chardet<4,>=3.0.2 in /usr/local/lib/python3.7/dist-packages (from requests>=2.19->qiskit-ibmq-provider==0.12.2->qiskit) (3.0.4)\n",
            "Requirement already satisfied: ntlm-auth>=1.0.2 in /usr/local/lib/python3.7/dist-packages (from requests-ntlm>=1.1.0->qiskit-ibmq-provider==0.12.2->qiskit) (1.5.0)\n",
            "Requirement already satisfied: cryptography>=1.3 in /usr/local/lib/python3.7/dist-packages (from requests-ntlm>=1.1.0->qiskit-ibmq-provider==0.12.2->qiskit) (3.4.7)\n",
            "Requirement already satisfied: six>=1.5 in /usr/local/lib/python3.7/dist-packages (from python-dateutil>=2.8.0->qiskit-ibmq-provider==0.12.2->qiskit) (1.15.0)\n",
            "Requirement already satisfied: pytz>=2017.2 in /usr/local/lib/python3.7/dist-packages (from pandas<=1.2.3->qiskit-aqua==0.9.1->qiskit) (2018.9)\n",
            "Requirement already satisfied: more-itertools in /usr/local/lib/python3.7/dist-packages (from quandl<=3.6.0->qiskit-aqua==0.9.1->qiskit) (8.7.0)\n",
            "Requirement already satisfied: inflection>=0.3.1 in /usr/local/lib/python3.7/dist-packages (from quandl<=3.6.0->qiskit-aqua==0.9.1->qiskit) (0.5.1)\n",
            "Requirement already satisfied: lxml>=4.5.1 in /usr/local/lib/python3.7/dist-packages (from yfinance<=0.1.55->qiskit-aqua==0.9.1->qiskit) (4.6.3)\n",
            "Requirement already satisfied: multitasking>=0.0.7 in /usr/local/lib/python3.7/dist-packages (from yfinance<=0.1.55->qiskit-aqua==0.9.1->qiskit) (0.0.9)\n",
            "Requirement already satisfied: mpmath>=0.19 in /usr/local/lib/python3.7/dist-packages (from sympy<=1.7.1,>=1.3->qiskit-aqua==0.9.1->qiskit) (1.2.1)\n",
            "Requirement already satisfied: joblib>=0.11 in /usr/local/lib/python3.7/dist-packages (from scikit-learn<=0.24.1,>=0.20.0->qiskit-aqua==0.9.1->qiskit) (1.0.1)\n",
            "Requirement already satisfied: cffi>=1.12 in /usr/local/lib/python3.7/dist-packages (from cryptography>=1.3->requests-ntlm>=1.1.0->qiskit-ibmq-provider==0.12.2->qiskit) (1.14.5)\n",
            "Requirement already satisfied: pycparser in /usr/local/lib/python3.7/dist-packages (from cffi>=1.12->cryptography>=1.3->requests-ntlm>=1.1.0->qiskit-ibmq-provider==0.12.2->qiskit) (2.20)\n",
            "Requirement already up-to-date: qiskit in /usr/local/lib/python3.7/dist-packages (0.25.1)\n",
            "Requirement already satisfied, skipping upgrade: qiskit-aer==0.8.1 in /usr/local/lib/python3.7/dist-packages (from qiskit) (0.8.1)\n",
            "Requirement already satisfied, skipping upgrade: qiskit-terra==0.17.1 in /usr/local/lib/python3.7/dist-packages (from qiskit) (0.17.1)\n",
            "Requirement already satisfied, skipping upgrade: qiskit-ibmq-provider==0.12.2 in /usr/local/lib/python3.7/dist-packages (from qiskit) (0.12.2)\n",
            "Requirement already satisfied, skipping upgrade: qiskit-ignis==0.6.0 in /usr/local/lib/python3.7/dist-packages (from qiskit) (0.6.0)\n",
            "Requirement already satisfied, skipping upgrade: qiskit-aqua==0.9.1 in /usr/local/lib/python3.7/dist-packages (from qiskit) (0.9.1)\n",
            "Requirement already satisfied, skipping upgrade: pybind11>=2.6 in /usr/local/lib/python3.7/dist-packages (from qiskit-aer==0.8.1->qiskit) (2.6.2)\n",
            "Requirement already satisfied, skipping upgrade: scipy>=1.0 in /usr/local/lib/python3.7/dist-packages (from qiskit-aer==0.8.1->qiskit) (1.4.1)\n",
            "Requirement already satisfied, skipping upgrade: numpy>=1.16.3 in /usr/local/lib/python3.7/dist-packages (from qiskit-aer==0.8.1->qiskit) (1.19.5)\n",
            "Requirement already satisfied, skipping upgrade: dill>=0.3 in /usr/local/lib/python3.7/dist-packages (from qiskit-terra==0.17.1->qiskit) (0.3.3)\n",
            "Requirement already satisfied, skipping upgrade: retworkx>=0.8.0 in /usr/local/lib/python3.7/dist-packages (from qiskit-terra==0.17.1->qiskit) (0.8.0)\n",
            "Requirement already satisfied, skipping upgrade: sympy>=1.3 in /usr/local/lib/python3.7/dist-packages (from qiskit-terra==0.17.1->qiskit) (1.7.1)\n",
            "Requirement already satisfied, skipping upgrade: python-constraint>=1.4 in /usr/local/lib/python3.7/dist-packages (from qiskit-terra==0.17.1->qiskit) (1.4.0)\n",
            "Requirement already satisfied, skipping upgrade: psutil>=5 in /usr/local/lib/python3.7/dist-packages (from qiskit-terra==0.17.1->qiskit) (5.4.8)\n",
            "Requirement already satisfied, skipping upgrade: ply>=3.10 in /usr/local/lib/python3.7/dist-packages (from qiskit-terra==0.17.1->qiskit) (3.11)\n",
            "Requirement already satisfied, skipping upgrade: python-dateutil>=2.8.0 in /usr/local/lib/python3.7/dist-packages (from qiskit-terra==0.17.1->qiskit) (2.8.1)\n",
            "Requirement already satisfied, skipping upgrade: fastjsonschema>=2.10 in /usr/local/lib/python3.7/dist-packages (from qiskit-terra==0.17.1->qiskit) (2.15.0)\n",
            "Requirement already satisfied, skipping upgrade: jsonschema>=2.6 in /usr/local/lib/python3.7/dist-packages (from qiskit-terra==0.17.1->qiskit) (2.6.0)\n",
            "Requirement already satisfied, skipping upgrade: websockets>=8 in /usr/local/lib/python3.7/dist-packages (from qiskit-ibmq-provider==0.12.2->qiskit) (8.1)\n",
            "Requirement already satisfied, skipping upgrade: requests>=2.19 in /usr/local/lib/python3.7/dist-packages (from qiskit-ibmq-provider==0.12.2->qiskit) (2.23.0)\n",
            "Requirement already satisfied, skipping upgrade: nest-asyncio!=1.1.0,>=1.0.0 in /usr/local/lib/python3.7/dist-packages (from qiskit-ibmq-provider==0.12.2->qiskit) (1.5.1)\n",
            "Requirement already satisfied, skipping upgrade: urllib3>=1.21.1 in /usr/local/lib/python3.7/dist-packages (from qiskit-ibmq-provider==0.12.2->qiskit) (1.24.3)\n",
            "Requirement already satisfied, skipping upgrade: requests-ntlm>=1.1.0 in /usr/local/lib/python3.7/dist-packages (from qiskit-ibmq-provider==0.12.2->qiskit) (1.1.0)\n",
            "Requirement already satisfied, skipping upgrade: setuptools>=40.1.0 in /usr/local/lib/python3.7/dist-packages (from qiskit-ignis==0.6.0->qiskit) (54.2.0)\n",
            "Requirement already satisfied, skipping upgrade: fastdtw<=0.3.4 in /usr/local/lib/python3.7/dist-packages (from qiskit-aqua==0.9.1->qiskit) (0.3.4)\n",
            "Requirement already satisfied, skipping upgrade: h5py<=3.1.0 in /usr/local/lib/python3.7/dist-packages (from qiskit-aqua==0.9.1->qiskit) (2.10.0)\n",
            "Requirement already satisfied, skipping upgrade: quandl<=3.6.0 in /usr/local/lib/python3.7/dist-packages (from qiskit-aqua==0.9.1->qiskit) (3.6.0)\n",
            "Requirement already satisfied, skipping upgrade: pandas<=1.2.3 in /usr/local/lib/python3.7/dist-packages (from qiskit-aqua==0.9.1->qiskit) (1.1.5)\n",
            "Requirement already satisfied, skipping upgrade: docplex<=2.20.204; sys_platform != \"darwin\" in /usr/local/lib/python3.7/dist-packages (from qiskit-aqua==0.9.1->qiskit) (2.20.204)\n",
            "Requirement already satisfied, skipping upgrade: scikit-learn<=0.24.1,>=0.20.0 in /usr/local/lib/python3.7/dist-packages (from qiskit-aqua==0.9.1->qiskit) (0.22.2.post1)\n",
            "Requirement already satisfied, skipping upgrade: yfinance<=0.1.55 in /usr/local/lib/python3.7/dist-packages (from qiskit-aqua==0.9.1->qiskit) (0.1.55)\n",
            "Requirement already satisfied, skipping upgrade: dlx<=1.0.4 in /usr/local/lib/python3.7/dist-packages (from qiskit-aqua==0.9.1->qiskit) (1.0.4)\n",
            "Requirement already satisfied, skipping upgrade: mpmath>=0.19 in /usr/local/lib/python3.7/dist-packages (from sympy>=1.3->qiskit-terra==0.17.1->qiskit) (1.2.1)\n",
            "Requirement already satisfied, skipping upgrade: six>=1.5 in /usr/local/lib/python3.7/dist-packages (from python-dateutil>=2.8.0->qiskit-terra==0.17.1->qiskit) (1.15.0)\n",
            "Requirement already satisfied, skipping upgrade: certifi>=2017.4.17 in /usr/local/lib/python3.7/dist-packages (from requests>=2.19->qiskit-ibmq-provider==0.12.2->qiskit) (2020.12.5)\n",
            "Requirement already satisfied, skipping upgrade: chardet<4,>=3.0.2 in /usr/local/lib/python3.7/dist-packages (from requests>=2.19->qiskit-ibmq-provider==0.12.2->qiskit) (3.0.4)\n",
            "Requirement already satisfied, skipping upgrade: idna<3,>=2.5 in /usr/local/lib/python3.7/dist-packages (from requests>=2.19->qiskit-ibmq-provider==0.12.2->qiskit) (2.10)\n",
            "Requirement already satisfied, skipping upgrade: ntlm-auth>=1.0.2 in /usr/local/lib/python3.7/dist-packages (from requests-ntlm>=1.1.0->qiskit-ibmq-provider==0.12.2->qiskit) (1.5.0)\n",
            "Requirement already satisfied, skipping upgrade: cryptography>=1.3 in /usr/local/lib/python3.7/dist-packages (from requests-ntlm>=1.1.0->qiskit-ibmq-provider==0.12.2->qiskit) (3.4.7)\n",
            "Requirement already satisfied, skipping upgrade: more-itertools in /usr/local/lib/python3.7/dist-packages (from quandl<=3.6.0->qiskit-aqua==0.9.1->qiskit) (8.7.0)\n",
            "Requirement already satisfied, skipping upgrade: inflection>=0.3.1 in /usr/local/lib/python3.7/dist-packages (from quandl<=3.6.0->qiskit-aqua==0.9.1->qiskit) (0.5.1)\n",
            "Requirement already satisfied, skipping upgrade: pytz>=2017.2 in /usr/local/lib/python3.7/dist-packages (from pandas<=1.2.3->qiskit-aqua==0.9.1->qiskit) (2018.9)\n",
            "Requirement already satisfied, skipping upgrade: joblib>=0.11 in /usr/local/lib/python3.7/dist-packages (from scikit-learn<=0.24.1,>=0.20.0->qiskit-aqua==0.9.1->qiskit) (1.0.1)\n",
            "Requirement already satisfied, skipping upgrade: lxml>=4.5.1 in /usr/local/lib/python3.7/dist-packages (from yfinance<=0.1.55->qiskit-aqua==0.9.1->qiskit) (4.6.3)\n",
            "Requirement already satisfied, skipping upgrade: multitasking>=0.0.7 in /usr/local/lib/python3.7/dist-packages (from yfinance<=0.1.55->qiskit-aqua==0.9.1->qiskit) (0.0.9)\n",
            "Requirement already satisfied, skipping upgrade: cffi>=1.12 in /usr/local/lib/python3.7/dist-packages (from cryptography>=1.3->requests-ntlm>=1.1.0->qiskit-ibmq-provider==0.12.2->qiskit) (1.14.5)\n",
            "Requirement already satisfied, skipping upgrade: pycparser in /usr/local/lib/python3.7/dist-packages (from cffi>=1.12->cryptography>=1.3->requests-ntlm>=1.1.0->qiskit-ibmq-provider==0.12.2->qiskit) (2.20)\n",
            "Requirement already satisfied: pylatexenc in /usr/local/lib/python3.7/dist-packages (2.10)\n",
            "Requirement already satisfied: truth-table-generator in /usr/local/lib/python3.7/dist-packages (1.1.2)\n",
            "Requirement already satisfied: pyparsing in /usr/local/lib/python3.7/dist-packages (from truth-table-generator) (2.4.7)\n",
            "Requirement already satisfied: PTable in /usr/local/lib/python3.7/dist-packages (from truth-table-generator) (0.9.2)\n",
            "Requirement already satisfied: jinja2 in /usr/local/lib/python3.7/dist-packages (from truth-table-generator) (2.11.3)\n",
            "Requirement already satisfied: tabulate in /usr/local/lib/python3.7/dist-packages (from truth-table-generator) (0.8.9)\n",
            "Requirement already satisfied: pandas in /usr/local/lib/python3.7/dist-packages (from truth-table-generator) (1.1.5)\n",
            "Requirement already satisfied: numpy in /usr/local/lib/python3.7/dist-packages (from truth-table-generator) (1.19.5)\n",
            "Requirement already satisfied: MarkupSafe>=0.23 in /usr/local/lib/python3.7/dist-packages (from jinja2->truth-table-generator) (1.1.1)\n",
            "Requirement already satisfied: python-dateutil>=2.7.3 in /usr/local/lib/python3.7/dist-packages (from pandas->truth-table-generator) (2.8.1)\n",
            "Requirement already satisfied: pytz>=2017.2 in /usr/local/lib/python3.7/dist-packages (from pandas->truth-table-generator) (2018.9)\n",
            "Requirement already satisfied: six>=1.5 in /usr/local/lib/python3.7/dist-packages (from python-dateutil>=2.7.3->pandas->truth-table-generator) (1.15.0)\n"
          ],
          "name": "stdout"
        }
      ]
    },
    {
      "cell_type": "markdown",
      "metadata": {
        "id": "tjsfmFafu44a"
      },
      "source": [
        "## 2. Import all libraries"
      ]
    },
    {
      "cell_type": "code",
      "metadata": {
        "id": "75Bdz-80u44b"
      },
      "source": [
        "#initialization\n",
        "import matplotlib.pyplot as plt\n",
        "import numpy as np\n",
        "\n",
        "# importing Qiskit\n",
        "from qiskit import IBMQ, Aer, QuantumCircuit, ClassicalRegister, QuantumRegister, execute\n",
        "from qiskit.providers.ibmq import least_busy\n",
        "from qiskit.quantum_info import Statevector\n",
        "\n",
        "from qiskit.aqua.components import oracles\n",
        "\n",
        "# import basic plot tools\n",
        "from qiskit.visualization import plot_histogram"
      ],
      "execution_count": 21,
      "outputs": []
    },
    {
      "cell_type": "code",
      "metadata": {
        "id": "uDYX-zz7DcVW"
      },
      "source": [
        "# Bold Color\n",
        "class color:\n",
        "   PURPLE = '\\033[95m'\n",
        "   CYAN = '\\033[96m'\n",
        "   DARKCYAN = '\\033[36m'\n",
        "   BLUE = '\\033[94m'\n",
        "   GREEN = '\\033[92m'\n",
        "   YELLOW = '\\033[93m'\n",
        "   RED = '\\033[91m'\n",
        "   BOLD = '\\033[1m'\n",
        "   UNDERLINE = '\\033[4m'\n",
        "   END = '\\033[0m'"
      ],
      "execution_count": 22,
      "outputs": []
    },
    {
      "cell_type": "markdown",
      "metadata": {
        "id": "niV6lUKhu44e"
      },
      "source": [
        "## 3. Create Function Program needed"
      ]
    },
    {
      "cell_type": "code",
      "metadata": {
        "id": "KuGOLHPuu44e"
      },
      "source": [
        "# Apply the H Gate\n",
        "def initialize_s(qc, qubits):\n",
        "    \"\"\"Apply a H-gate to 'qubits' in qc\"\"\"\n",
        "    for q in qubits:\n",
        "        qc.h(q)\n",
        "    return qc"
      ],
      "execution_count": 23,
      "outputs": []
    },
    {
      "cell_type": "code",
      "metadata": {
        "id": "NZMSjtalu44h"
      },
      "source": [
        "# Quantum 2 qubits\n",
        "def list_qubit(n):\n",
        "    list_measurement = []\n",
        "    for i in range(n):\n",
        "        list_measurement.append(i)\n",
        "    return(list_measurement)"
      ],
      "execution_count": 24,
      "outputs": []
    },
    {
      "cell_type": "code",
      "metadata": {
        "id": "Sw0oppnnu44j"
      },
      "source": [
        "# Build the Oracle Function\n",
        "def oracle(n_qubits, reversed_qubit):\n",
        "    \n",
        "    # Define the Quantum Circuit\n",
        "    grover_circuit =  QuantumCircuit(3*n_qubits+1)\n",
        "    \n",
        "    # List Reversed\n",
        "    list_reversed = list(range(n_qubits))\n",
        "    list_reversed.reverse()\n",
        "\n",
        "    print(\"Vous avez\", n_qubits , \"qubits\")\n",
        "\n",
        "    grover_circuit = initialize_s(grover_circuit, list(range(n_qubits)))\n",
        "    \n",
        "    # Build the Oracle \n",
        "    for i in range(n_qubits):\n",
        "        grover_circuit.cx(i,i+n_qubits)\n",
        "\n",
        "    # Cx Gate\n",
        "    for i in range(n_qubits):\n",
        "        grover_circuit.cx(i+n_qubits, i + (2*n_qubits))\n",
        "\n",
        "    # X Gate\n",
        "    list_new = []\n",
        "    for j in range(2):\n",
        "        for i in range(n_qubits+1):\n",
        "            if(i == n_qubits):\n",
        "                grover_circuit.h(i + (2*n_qubits))\n",
        "            else:\n",
        "                grover_circuit.x(i + (2*n_qubits))\n",
        "        if(j != 1):\n",
        "            for i in range((n_qubits)):\n",
        "                list_new.append((2*n_qubits)+i)\n",
        "            grover_circuit.mct(list_new,(3*n_qubits))\n",
        "\n",
        "    # CX Gate\n",
        "    for i in list_reversed:\n",
        "        grover_circuit.cx(i+n_qubits,i + (2*n_qubits))\n",
        "\n",
        "    # CX Gate\n",
        "    for i in list_reversed:\n",
        "        grover_circuit.cx(i, i + n_qubits)\n",
        "        # We will return the diffuser as a gate\n",
        "    U_s = grover_circuit.to_gate()\n",
        "    U_s.name = \"Oracle\"\n",
        "    return(U_s)"
      ],
      "execution_count": 25,
      "outputs": []
    },
    {
      "cell_type": "code",
      "metadata": {
        "id": "fAfvBwpGu44m"
      },
      "source": [
        "# Build the Diffuser Function\n",
        "def diffuser(nqubits):\n",
        "    qc = QuantumCircuit(nqubits)\n",
        "    # Apply transformation |s> -> |00..0> (H-gates)\n",
        "    for qubit in range(nqubits):\n",
        "        qc.h(qubit)\n",
        "    # Apply transformation |00..0> -> |11..1> (X-gates)\n",
        "    for qubit in range(nqubits):\n",
        "        qc.x(qubit)\n",
        "    # Do multi-controlled-Z gate\n",
        "    qc.h(nqubits-1)\n",
        "    qc.mct(list(range(nqubits-1)), nqubits-1)  # multi-controlled-toffoli\n",
        "    qc.h(nqubits-1)\n",
        "    # Apply transformation |11..1> -> |00..0>\n",
        "    for qubit in range(nqubits):\n",
        "        qc.x(qubit)\n",
        "    # Apply transformation |00..0> -> |s>\n",
        "    for qubit in range(nqubits):\n",
        "        qc.h(qubit)\n",
        "    # We will return the diffuser as a gate\n",
        "    U_s = qc.to_gate()\n",
        "    U_s.name = \"Diffuser\"\n",
        "    return(U_s)"
      ],
      "execution_count": 26,
      "outputs": []
    },
    {
      "cell_type": "code",
      "metadata": {
        "id": "JEbGRoITu44p"
      },
      "source": [
        "# Build the Diffuser Function\n",
        "def diffuser_un(nqubits):\n",
        "    \n",
        "    # Quantum Circuit A little bit\n",
        "    qc = QuantumCircuit(nqubits)\n",
        "    \n",
        "    # Apply transformation |s> -> |00..0> (H-gates)\n",
        "    for qubit in range(nqubits):\n",
        "        qc.h(qubit)\n",
        "    # Apply transformation |00..0> -> |11..1> (X-gates)\n",
        "    for qubit in range(nqubits):\n",
        "        qc.x(qubit)\n",
        "        \n",
        "    # We will return the diffuser as a gate\n",
        "    U_s = qc.to_gate()\n",
        "    U_s.name = \"Diffuser\"\n",
        "    return U_s"
      ],
      "execution_count": 27,
      "outputs": []
    },
    {
      "cell_type": "code",
      "metadata": {
        "id": "62px-plyu44s"
      },
      "source": [
        "# Build the Statevector\n",
        "def state_vector(circuit):\n",
        "    sv_sim = Aer.get_backend('statevector_simulator')\n",
        "    job_sim = execute(grover_circuit, sv_sim)\n",
        "    statevec = job_sim.result().get_statevector()\n",
        "    from qiskit_textbook.tools import vector2latex\n",
        "    return vector2latex(statevec, pretext=\"|\\\\psi\\\\rangle =\")"
      ],
      "execution_count": 28,
      "outputs": []
    },
    {
      "cell_type": "code",
      "metadata": {
        "id": "SN9JzLQeu44v"
      },
      "source": [
        "# Running the Program\n",
        "def probabilities(grover_circuit):\n",
        "    backend = Aer.get_backend('qasm_simulator')\n",
        "    results = execute(grover_circuit, backend=backend, shots=1024).result()\n",
        "    answer = results.get_counts()\n",
        "    return(answer)"
      ],
      "execution_count": 29,
      "outputs": []
    },
    {
      "cell_type": "code",
      "metadata": {
        "id": "KyrhCDoou44x"
      },
      "source": [
        "# Load IBM Q account and get the least busy backend device\n",
        "def experiment_device(grover_circuit):\n",
        "    provider = IBMQ.load_account()\n",
        "    provider = IBMQ.get_provider(hub='ibm-q', group='open', project='main')\n",
        "    backend = provider.get_backend('ibmq_armonk')\n",
        "    # Run our circuit on the least busy backend. Monitor the execution of the job in the queue\n",
        "    from qiskit.tools.monitor import job_monitor\n",
        "    job = execute(grover_circuit, backend=backend, shots=1024, optimization_level=3)\n",
        "    job_monitor(job, interval = 2)\n",
        "\n",
        "    # Get the results from the computation\n",
        "    results = job.result()\n",
        "    answer = results.get_counts(grover_circuit)\n",
        "    plot_histogram(answer)"
      ],
      "execution_count": 30,
      "outputs": []
    },
    {
      "cell_type": "markdown",
      "metadata": {
        "id": "BlO86r1MWUD_"
      },
      "source": [
        "# 4. Create Function of Quantum -> Classical Gates\n"
      ]
    },
    {
      "cell_type": "code",
      "metadata": {
        "id": "dUP8eAy0XOuY"
      },
      "source": [
        "# AND Gate\n",
        "# Position Argument : It depends on the argument of where you put in the Truth Table (1st, 2nd, 3rd)\n",
        "def and_gate(n_qubits):\n",
        "    # Define the Quantum Circuit\n",
        "    qc = QuantumCircuit(n_qubits + 1)\n",
        "    \n",
        "    # Multi Controlled Toffoli Gate\n",
        "    qc.mcx([0,1], n_qubits)\n",
        "    \n",
        "    # We will return the diffuser as a gate\n",
        "    U_s = qc.to_gate()\n",
        "    U_s.name = \"$AND Gate$\"\n",
        "    return(U_s)"
      ],
      "execution_count": 31,
      "outputs": []
    },
    {
      "cell_type": "code",
      "metadata": {
        "id": "SeBqlE6xXOuY"
      },
      "source": [
        "# NAND Gate\n",
        "# Position Argument : It depends on the argument of where you put in the Truth Table (1st, 2nd, 3rd)\n",
        "def nand_gate(n_qubits):\n",
        "    \n",
        "    # Define the Quantum Circuit\n",
        "    qc = QuantumCircuit(n_qubits + 1)\n",
        "    \n",
        "    # X-Gate NAND Gate\n",
        "    for i in range(n_qubits+1):\n",
        "        qc.x(i)\n",
        "    \n",
        "    # Multi Controlled Toffoli Gate\n",
        "    qc.mcx([0,1], n_qubits)\n",
        "    \n",
        "    # We will return the diffuser as a gate\n",
        "    U_s = qc.to_gate()\n",
        "    U_s.name = \"$NAND Gate$\"\n",
        "    return(U_s)"
      ],
      "execution_count": 32,
      "outputs": []
    },
    {
      "cell_type": "code",
      "metadata": {
        "id": "NCaqq3wXXOuY"
      },
      "source": [
        "# OR GATE\n",
        "# Position Argument : It depends on the argument of where you put in the Truth Table (1st, 2nd, 3rd)\n",
        "def or_gate(n_qubits):\n",
        "    # Define the Quantum Circuit\n",
        "    qc = QuantumCircuit(n_qubits + 1)\n",
        "    \n",
        "    # Range n_qubits\n",
        "    for i in range(2):\n",
        "        qc.x(i)\n",
        "    \n",
        "    # Besides of the Toffoli\n",
        "    qc.x(n_qubits)\n",
        "    \n",
        "    # Multi Controlled Toffoli Gate\n",
        "    qc.mcx([0,1], n_qubits)\n",
        "    \n",
        "    # We will return the OR as a gate\n",
        "    U_s = qc.to_gate()\n",
        "    U_s.name = \"$OR GATE$\"\n",
        "    return(U_s)"
      ],
      "execution_count": 33,
      "outputs": []
    },
    {
      "cell_type": "code",
      "metadata": {
        "id": "y-izExbLXOuY"
      },
      "source": [
        "# XOR Gate\n",
        "# Position Argument : It depends on the XOR Gate\n",
        "def xor_gate(n_qubits):\n",
        "    \n",
        "    # Define the Quantum Circuit\n",
        "    qc = QuantumCircuit(n_qubits)\n",
        "    \n",
        "    # This is the CNOT Gate and X Gate\n",
        "    qc.cx(0,1)\n",
        "    \n",
        "    # We will return the OR as a gate\n",
        "    U_s = qc.to_gate()\n",
        "    U_s.name = \"$XOR GATE$\"\n",
        "    return(U_s)"
      ],
      "execution_count": 34,
      "outputs": []
    },
    {
      "cell_type": "code",
      "metadata": {
        "id": "n2TXsX7MXOuY"
      },
      "source": [
        "# XnOR Gate\n",
        "# Position Argument : It depends on the XOR Gate\n",
        "def xnor_gate(n_qubits):\n",
        "    \n",
        "    # Define the Quantum Circuit\n",
        "    qc = QuantumCircuit(n_qubits)\n",
        "    \n",
        "    # This is the CNOT Gate and X Gate\n",
        "    qc.x(n_qubits-1)\n",
        "    qc.cx(0,n_qubits-1)\n",
        "    \n",
        "    # We will return the OR as a gate\n",
        "    U_s = qc.to_gate()\n",
        "    U_s.name = \"$XNOR GATE$\"\n",
        "    return(U_s)"
      ],
      "execution_count": 35,
      "outputs": []
    },
    {
      "cell_type": "code",
      "metadata": {
        "id": "RFoCCXTyXOuY"
      },
      "source": [
        "# Implication Gate\n",
        "def implies_gate(n_qubits):\n",
        "    \n",
        "    # Define the Quantum Circuit\n",
        "    qc = QuantumCircuit(n_qubits+1)\n",
        "    \n",
        "    # This is the CNOT Gate and Toffoli Gate. \n",
        "    # The existing implies in here. \n",
        "    qc.x(n_qubits)\n",
        "    qc.cx(0,1)\n",
        "    qc.x(0)\n",
        "    qc.mcx([0,1], n_qubits)\n",
        "    \n",
        "    # We will return the OR as a gate\n",
        "    U_s = qc.to_gate()\n",
        "    U_s.name = \"$Implies GATE$\"\n",
        "    return(U_s)"
      ],
      "execution_count": 36,
      "outputs": []
    },
    {
      "cell_type": "code",
      "metadata": {
        "id": "FiT8FpNaXOuY"
      },
      "source": [
        "# Special Gate\n",
        "def special_gate(n_qubits):\n",
        "    # Define the Quantum Circuit\n",
        "    qc = QuantumCircuit(n_qubits+1)\n",
        "    \n",
        "    # This is the CNOT Gate and Toffoli Gate. \n",
        "    # The existing implies in here. \n",
        "    qc.x([0,1])\n",
        "    qc.mcx([0,1], n_qubits)\n",
        "    qc.cx(0,1)\n",
        "    qc.cx(1,2)\n",
        "    qc.mcx([0,1], n_qubits)\n",
        "    \n",
        "    # We will return the OR as a gate\n",
        "    U_s = qc.to_gate()\n",
        "    U_s.name = \"$Special GATE$\"\n",
        "    return(U_s)"
      ],
      "execution_count": 37,
      "outputs": []
    },
    {
      "cell_type": "markdown",
      "metadata": {
        "id": "Oguah7Agu440"
      },
      "source": [
        "# 5. Choose Truth Table"
      ]
    },
    {
      "cell_type": "code",
      "metadata": {
        "colab": {
          "base_uri": "https://localhost:8080/",
          "height": 380
        },
        "id": "7TB5HRexu440",
        "outputId": "d28c87b8-420e-4ff8-8b24-bf08bb540ca9"
      },
      "source": [
        "import ttg\n",
        "import pandas as pd\n",
        "\n",
        "# For example 2 qubits\n",
        "# ~q\n",
        "# p xor q\n",
        "\n",
        "statement = True\n",
        "while(statement != False):\n",
        "    # Define Variable\n",
        "    list_calculation = []\n",
        "    list_input = []\n",
        "    iniput = ''\n",
        "    output = ''\n",
        "\n",
        "    # Defining how many qubits used for this gate\n",
        "    print(\"How many qubits that you are looking?\" + color.BOLD + \" Par Exemple : 1 for 1 qubit, 2 for qubits, 3 for qubits\" + color.END)\n",
        "    print(\"----------------------------------------\")\n",
        "    n_qubits = int(input())\n",
        "    print(\"----------------------------------------\")\n",
        "\n",
        "    # Rules of the Truth Table\n",
        "    print(f\"You have filled\" + color.BOLD + f\" {n_qubits} qubits,\" +color.END + \" so you must filled\" + color.BOLD + f\" {n_qubits} argument\" + color.END+ \" as follows\")\n",
        "    # The Calculation qubits\n",
        "    for i in range(n_qubits):\n",
        "        print(f\"The {i+1}-th Argument\")\n",
        "        print(\"----------------------\")\n",
        "        # String output\n",
        "        string = input()\n",
        "        list_calculation.append(string)\n",
        "\n",
        "        # String input \n",
        "        inputan = chr(ord('p')+i)\n",
        "        list_input.append(inputan)\n",
        "\n",
        "    # Create the Table \n",
        "    table = ttg.Truths(list_input, list_calculation)\n",
        "    table_pd = table.as_pandas()\n",
        "    display(table_pd)\n",
        "\n",
        "    # Inputan and Output\n",
        "    for i in range(n_qubits):\n",
        "        iniput  = iniput + \" \" + table_pd.iloc[:,i].astype(str) \n",
        "        output  = output + table_pd.iloc[:,i+n_qubits].astype(str)\n",
        "\n",
        "    # Convert to the dataframe\n",
        "    dataframe = pd.DataFrame({\"input\":iniput, \n",
        "                \"output\":output})\n",
        "\n",
        "    # Check if there is any duplicates in the output (which is not correspond to what we want)\n",
        "    statement = dataframe.output.duplicated().any()\n",
        "    if(statement == True):\n",
        "        print(color.RED + \"Sorry, there is a duplicate output!\" + color.END)\n",
        "    # Successful \n",
        "print(\"Well done you have \" + color.BLUE + \"filled it correctly\" + color.END)"
      ],
      "execution_count": 38,
      "outputs": [
        {
          "output_type": "stream",
          "text": [
            "How many qubits that you are looking?\u001b[1m Par Exemple : 1 for 1 qubit, 2 for qubits, 3 for qubits\u001b[0m\n",
            "----------------------------------------\n",
            "2\n",
            "----------------------------------------\n",
            "You have filled\u001b[1m 2 qubits,\u001b[0m so you must filled\u001b[1m 2 argument\u001b[0m as follows\n",
            "The 1-th Argument\n",
            "----------------------\n",
            "~q\n",
            "The 2-th Argument\n",
            "----------------------\n",
            "p xor q\n"
          ],
          "name": "stdout"
        },
        {
          "output_type": "display_data",
          "data": {
            "text/html": [
              "<div>\n",
              "<style scoped>\n",
              "    .dataframe tbody tr th:only-of-type {\n",
              "        vertical-align: middle;\n",
              "    }\n",
              "\n",
              "    .dataframe tbody tr th {\n",
              "        vertical-align: top;\n",
              "    }\n",
              "\n",
              "    .dataframe thead th {\n",
              "        text-align: right;\n",
              "    }\n",
              "</style>\n",
              "<table border=\"1\" class=\"dataframe\">\n",
              "  <thead>\n",
              "    <tr style=\"text-align: right;\">\n",
              "      <th></th>\n",
              "      <th>p</th>\n",
              "      <th>q</th>\n",
              "      <th>~q</th>\n",
              "      <th>p xor q</th>\n",
              "    </tr>\n",
              "  </thead>\n",
              "  <tbody>\n",
              "    <tr>\n",
              "      <th>1</th>\n",
              "      <td>1</td>\n",
              "      <td>1</td>\n",
              "      <td>0</td>\n",
              "      <td>0</td>\n",
              "    </tr>\n",
              "    <tr>\n",
              "      <th>2</th>\n",
              "      <td>1</td>\n",
              "      <td>0</td>\n",
              "      <td>1</td>\n",
              "      <td>1</td>\n",
              "    </tr>\n",
              "    <tr>\n",
              "      <th>3</th>\n",
              "      <td>0</td>\n",
              "      <td>1</td>\n",
              "      <td>0</td>\n",
              "      <td>1</td>\n",
              "    </tr>\n",
              "    <tr>\n",
              "      <th>4</th>\n",
              "      <td>0</td>\n",
              "      <td>0</td>\n",
              "      <td>1</td>\n",
              "      <td>0</td>\n",
              "    </tr>\n",
              "  </tbody>\n",
              "</table>\n",
              "</div>"
            ],
            "text/plain": [
              "   p  q ~q p xor q\n",
              "1  1  1  0       0\n",
              "2  1  0  1       1\n",
              "3  0  1  0       1\n",
              "4  0  0  1       0"
            ]
          },
          "metadata": {
            "tags": []
          }
        },
        {
          "output_type": "stream",
          "text": [
            "Well done you have \u001b[94mfilled it correctly\u001b[0m\n"
          ],
          "name": "stdout"
        }
      ]
    },
    {
      "cell_type": "markdown",
      "metadata": {
        "id": "4N2jfGDWu443"
      },
      "source": [
        "# 6. Main Program \n"
      ]
    },
    {
      "cell_type": "code",
      "metadata": {
        "id": "2-p0tpJWu443",
        "colab": {
          "base_uri": "https://localhost:8080/"
        },
        "outputId": "64779111-f4f1-4384-82b6-13ade0c8bd99"
      },
      "source": [
        "# Question remark of my qubits\n",
        "print(\"--------------------------------------------------\")\n",
        "print(\"Quels qubits souhaitez-vous rechercher? \" + color.BOLD + \"Par Exemple : 0, 01, 101, 1100\" + color.END)\n",
        "qubit = input()\n",
        "print(\"--------------------------------------------------\")\n",
        "\n",
        "# Argument\n",
        "arg = 0\n",
        "while arg !=1:\n",
        "    if(len(qubit)!= n_qubits):\n",
        "        print(color.RED + \"Sorry, it's wrong!\" + color.END + \" Please put the same input with the \" + color.BOLD + \"total qubits before\" + color.END)\n",
        "        # Question remark of my qubits\n",
        "        print(\"--------------------------------------------------\")\n",
        "        print(\"Quels qubits souhaitez-vous rechercher? \" + color.BOLD + \"Par Exemple : 0, 01, 101, 1100\" + color.END)\n",
        "        qubit = input()\n",
        "        print(\"--------------------------------------------------\")\n",
        "        arg = 0\n",
        "    else:\n",
        "        print(\"Correct\")\n",
        "        print(\"--------------------------------------------------\")\n",
        "        arg = 1"
      ],
      "execution_count": 47,
      "outputs": [
        {
          "output_type": "stream",
          "text": [
            "--------------------------------------------------\n",
            "Quels qubits souhaitez-vous rechercher? \u001b[1mPar Exemple : 0, 01, 101, 1100\u001b[0m\n",
            "10\n",
            "--------------------------------------------------\n",
            "Correct\n",
            "--------------------------------------------------\n"
          ],
          "name": "stdout"
        }
      ]
    },
    {
      "cell_type": "code",
      "metadata": {
        "id": "GnFDz6u64mNZ",
        "colab": {
          "base_uri": "https://localhost:8080/",
          "height": 1000
        },
        "outputId": "bf0eb6b0-ae9d-47ae-ff96-9b2e0c71189b"
      },
      "source": [
        "# Analysis the input qubit\n",
        "# Initialize to 1\n",
        "# %config InlineBackend.figure_format = 'svg' # Makes the images fit\n",
        "initial_state = [0,1]\n",
        "analyse_iteration = []\n",
        "\n",
        "# Reversing the Qubit Information\n",
        "reversed_qubit = qubit[::-1]\n",
        "\n",
        "# Initialize the Quantum Circuit\n",
        "if(n_qubits != 1):\n",
        "    grover_circuit = QuantumCircuit((3*(n_qubits)) + 1, n_qubits)\n",
        "else:\n",
        "    grover_circuit = QuantumCircuit((3*(n_qubits)) + 2, n_qubits)\n",
        "\n",
        "# List Reversed\n",
        "if(n_qubits !=1):\n",
        "    list_reversed = list(range(n_qubits))\n",
        "    list_reversed.reverse()\n",
        "else:\n",
        "    list_reversed = list(range(n_qubits+2))\n",
        "    list_reversed.reverse()\n",
        "    \n",
        "# Define the classical bits\n",
        "cbit = n_qubits \n",
        "print(\"Vous Avez\", n_qubits , \"qubits\")\n",
        "\n",
        "# Initialize the Quantum Circuit (How much the total qubits + ancilla qubits needed)\n",
        "grover_circuit = initialize_s(grover_circuit, list(range(n_qubits)))\n",
        "\n",
        "# Iteration\n",
        "print(\"How many interation do you want?\")\n",
        "iteration = int(input())\n",
        "print(\"--------------------------------------------------\")\n",
        "\n",
        "# Desired Value ->(&)\n",
        "for i,j in enumerate(reversed_qubit):\n",
        "    if(n_qubits != 1): # If n_qubits is not equal to 1\n",
        "        if(int(j) == 1):\n",
        "            grover_circuit.initialize(initial_state, int(i) + (3*(n_qubits))-2)\n",
        "    else: # If equal to 1\n",
        "        if(int(j) == 1):\n",
        "            grover_circuit.initialize(initial_state, int(i) + (3*(n_qubits))-1)\n",
        "\n",
        "# All the Circuits            \n",
        "for i in range(iteration):\n",
        "    if(n_qubits != 1):\n",
        "        # Initialize the Hadamard on the last\n",
        "        grover_circuit.initialize(initial_state, (3*(n_qubits)))\n",
        "        grover_circuit.barrier()\n",
        "\n",
        "        # Build the Flip Gate for Truth Table. Tres IMPORTANT !!\n",
        "        for i in range(n_qubits):\n",
        "            grover_circuit.cx(i, i + n_qubits)\n",
        "        grover_circuit.barrier()\n",
        "        \n",
        "        #### C'est un important -> Truth Table Gate         \n",
        "        # # X Gate aja\n",
        "        grover_circuit.swap(2,3)\n",
        "        grover_circuit.x([2,3])\n",
        "        grover_circuit.cx(3,2)\n",
        "        \n",
        "        # This is swapping gates (It should be on the above)\n",
        "        grover_circuit.barrier()\n",
        "\n",
        "        # CX Gate\n",
        "        for i in range(n_qubits):\n",
        "            grover_circuit.cx(i+n_qubits, i + (2*n_qubits))\n",
        "        grover_circuit.barrier()\n",
        "\n",
        "        # X Gate\n",
        "        list_new = []\n",
        "        for j in range(2):\n",
        "            for i in range(n_qubits+1):\n",
        "                if(i == n_qubits):\n",
        "                    grover_circuit.h(i + (2*n_qubits))\n",
        "                else:\n",
        "                    grover_circuit.x(i + (2*n_qubits))\n",
        "            if(j != 1):\n",
        "                for i in range((n_qubits)):\n",
        "                    list_new.append((2*n_qubits)+i)\n",
        "                grover_circuit.mct(list_new,(3*n_qubits))\n",
        "        \n",
        "        grover_circuit.barrier()\n",
        "\n",
        "        # CX Gate\n",
        "        for i in list_reversed:\n",
        "            grover_circuit.cx(i+n_qubits,i + (2*n_qubits))\n",
        "        grover_circuit.barrier()\n",
        "        \n",
        "        # # # CNOT Gate\n",
        "        grover_circuit.cx(3,2)\n",
        "        grover_circuit.x([2,3])\n",
        "        grover_circuit.swap(2,3)\n",
        "        \n",
        "        # Last Oracle\n",
        "        for i in list_reversed:\n",
        "            grover_circuit.cx(i, i + n_qubits)\n",
        "        grover_circuit.barrier()\n",
        "\n",
        "        # Diffusion\n",
        "        grover_circuit.append(diffuser(n_qubits), list(range(n_qubits)))\n",
        "        grover_circuit.barrier()\n",
        "    \n",
        "        # # Result Oriented\n",
        "        # result_2 = probabilities(grover_circuit)\n",
        "\n",
        "        # analyse_iteration.append(result_2[qubit])\n",
        "    # If there is a Single Qubit over it\n",
        "    else:\n",
        "        # Initialize the Hazamard on the last\n",
        "        grover_circuit.initialize(initial_state, (3*(n_qubits))+1)\n",
        "        \n",
        "        grover_circuit.barrier()\n",
        "        # Build the Oracle \n",
        "        for i in range(n_qubits+2):\n",
        "            grover_circuit.cx(i,i+n_qubits)\n",
        "        grover_circuit.barrier()\n",
        "\n",
        "        # X Gate \n",
        "        list_new = []\n",
        "        for j in range(2):\n",
        "            for i in range(n_qubits+2):\n",
        "                if(i == n_qubits+1):\n",
        "                    grover_circuit.h(i + (2*n_qubits))\n",
        "                else:\n",
        "                    grover_circuit.x(i + (2*n_qubits))\n",
        "            if(j != 1):\n",
        "                for i in range((n_qubits)+1):\n",
        "                    list_new.append((2*n_qubits)+i)\n",
        "                grover_circuit.mct(list_new,(3*n_qubits)+1)\n",
        "        grover_circuit.barrier()\n",
        "        \n",
        "        # Last Oracle\n",
        "        for i in list_reversed:\n",
        "            grover_circuit.cx(i, i + n_qubits)\n",
        "        grover_circuit.barrier()\n",
        "        \n",
        "        # Grover Diffuser Un\n",
        "        grover_circuit.append(diffuser_un(n_qubits), list(range(n_qubits)))\n",
        "      \n",
        "# Measurement\n",
        "grover_circuit.measure(list(range(n_qubits)),list(range(n_qubits)))\n",
        "grover_circuit.draw(output = 'mpl')"
      ],
      "execution_count": 48,
      "outputs": [
        {
          "output_type": "stream",
          "text": [
            "Vous Avez 2 qubits\n",
            "How many interation do you want?\n",
            "1\n",
            "--------------------------------------------------\n"
          ],
          "name": "stdout"
        },
        {
          "output_type": "execute_result",
          "data": {
            "text/plain": [
              "<Figure size 1591.6x1047.48 with 1 Axes>"
            ],
            "image/svg+xml": "<?xml version=\"1.0\" encoding=\"utf-8\" standalone=\"no\"?>\n<!DOCTYPE svg PUBLIC \"-//W3C//DTD SVG 1.1//EN\"\n  \"http://www.w3.org/Graphics/SVG/1.1/DTD/svg11.dtd\">\n<!-- Created with matplotlib (https://matplotlib.org/) -->\n<svg height=\"805.2474pt\" version=\"1.1\" viewBox=\"0 0 1216.056036 805.2474\" width=\"1216.056036pt\" xmlns=\"http://www.w3.org/2000/svg\" xmlns:xlink=\"http://www.w3.org/1999/xlink\">\n <defs>\n  <style type=\"text/css\">\n*{stroke-linecap:butt;stroke-linejoin:round;}\n  </style>\n </defs>\n <g id=\"figure_1\">\n  <g id=\"patch_1\">\n   <path d=\"M 0 805.2474 \nL 1216.056036 805.2474 \nL 1216.056036 0 \nL 0 0 \nz\n\" style=\"fill:#ffffff;\"/>\n  </g>\n  <g id=\"axes_1\">\n   <g id=\"patch_2\">\n    <path clip-path=\"url(#pee9acba707)\" d=\"M 218.478746 760.436697 \nL 230.296006 760.436697 \nL 224.387376 768.95876 \nz\n\" style=\"fill:#778899;\"/>\n   </g>\n   <g id=\"patch_3\">\n    <path clip-path=\"url(#pee9acba707)\" d=\"M 263.929746 760.436697 \nL 275.747006 760.436697 \nL 269.838376 768.95876 \nz\n\" style=\"fill:#778899;\"/>\n   </g>\n   <g id=\"line2d_1\">\n    <path clip-path=\"url(#pee9acba707)\" d=\"M 63.490836 43.5608 \nL 1204.310936 43.5608 \n\" style=\"fill:none;stroke:#000000;stroke-linecap:square;stroke-width:2;\"/>\n   </g>\n   <g id=\"line2d_2\">\n    <path clip-path=\"url(#pee9acba707)\" d=\"M 63.490836 89.0118 \nL 1204.310936 89.0118 \n\" style=\"fill:none;stroke:#000000;stroke-linecap:square;stroke-width:2;\"/>\n   </g>\n   <g id=\"line2d_3\">\n    <path clip-path=\"url(#pee9acba707)\" d=\"M 63.490836 134.4628 \nL 1204.310936 134.4628 \n\" style=\"fill:none;stroke:#000000;stroke-linecap:square;stroke-width:2;\"/>\n   </g>\n   <g id=\"line2d_4\">\n    <path clip-path=\"url(#pee9acba707)\" d=\"M 63.490836 179.9138 \nL 1204.310936 179.9138 \n\" style=\"fill:none;stroke:#000000;stroke-linecap:square;stroke-width:2;\"/>\n   </g>\n   <g id=\"line2d_5\">\n    <path clip-path=\"url(#pee9acba707)\" d=\"M 63.490836 225.3648 \nL 1204.310936 225.3648 \n\" style=\"fill:none;stroke:#000000;stroke-linecap:square;stroke-width:2;\"/>\n   </g>\n   <g id=\"line2d_6\">\n    <path clip-path=\"url(#pee9acba707)\" d=\"M 63.490836 270.8158 \nL 1204.310936 270.8158 \n\" style=\"fill:none;stroke:#000000;stroke-linecap:square;stroke-width:2;\"/>\n   </g>\n   <g id=\"line2d_7\">\n    <path clip-path=\"url(#pee9acba707)\" d=\"M 63.490836 316.2668 \nL 1204.310936 316.2668 \n\" style=\"fill:none;stroke:#000000;stroke-linecap:square;stroke-width:2;\"/>\n   </g>\n   <g id=\"line2d_8\">\n    <path clip-path=\"url(#pee9acba707)\" d=\"M 63.490836 360.240642 \nL 1204.310936 360.240642 \n\" style=\"fill:none;stroke:#778899;stroke-linecap:square;stroke-width:2;\"/>\n   </g>\n   <g id=\"line2d_9\">\n    <path clip-path=\"url(#pee9acba707)\" d=\"M 63.490836 363.194957 \nL 1204.310936 363.194957 \n\" style=\"fill:none;stroke:#778899;stroke-linecap:square;stroke-width:2;\"/>\n   </g>\n   <g id=\"line2d_10\">\n    <path clip-path=\"url(#pee9acba707)\" d=\"M 63.490836 452.6198 \nL 1204.310936 452.6198 \n\" style=\"fill:none;stroke:#000000;stroke-linecap:square;stroke-width:2;\"/>\n   </g>\n   <g id=\"line2d_11\">\n    <path clip-path=\"url(#pee9acba707)\" d=\"M 63.490836 498.0708 \nL 1204.310936 498.0708 \n\" style=\"fill:none;stroke:#000000;stroke-linecap:square;stroke-width:2;\"/>\n   </g>\n   <g id=\"line2d_12\">\n    <path clip-path=\"url(#pee9acba707)\" d=\"M 63.490836 543.5218 \nL 1204.310936 543.5218 \n\" style=\"fill:none;stroke:#000000;stroke-linecap:square;stroke-width:2;\"/>\n   </g>\n   <g id=\"line2d_13\">\n    <path clip-path=\"url(#pee9acba707)\" d=\"M 63.490836 588.9728 \nL 1204.310936 588.9728 \n\" style=\"fill:none;stroke:#000000;stroke-linecap:square;stroke-width:2;\"/>\n   </g>\n   <g id=\"line2d_14\">\n    <path clip-path=\"url(#pee9acba707)\" d=\"M 63.490836 634.4238 \nL 1204.310936 634.4238 \n\" style=\"fill:none;stroke:#000000;stroke-linecap:square;stroke-width:2;\"/>\n   </g>\n   <g id=\"line2d_15\">\n    <path clip-path=\"url(#pee9acba707)\" d=\"M 63.490836 679.8748 \nL 1204.310936 679.8748 \n\" style=\"fill:none;stroke:#000000;stroke-linecap:square;stroke-width:2;\"/>\n   </g>\n   <g id=\"line2d_16\">\n    <path clip-path=\"url(#pee9acba707)\" d=\"M 63.490836 725.3258 \nL 1204.310936 725.3258 \n\" style=\"fill:none;stroke:#000000;stroke-linecap:square;stroke-width:2;\"/>\n   </g>\n   <g id=\"line2d_17\">\n    <path clip-path=\"url(#pee9acba707)\" d=\"M 63.490836 769.299642 \nL 1204.310936 769.299642 \n\" style=\"fill:none;stroke:#778899;stroke-linecap:square;stroke-width:2;\"/>\n   </g>\n   <g id=\"line2d_18\">\n    <path clip-path=\"url(#pee9acba707)\" d=\"M 63.490836 772.253957 \nL 1204.310936 772.253957 \n\" style=\"fill:none;stroke:#778899;stroke-linecap:square;stroke-width:2;\"/>\n   </g>\n   <g id=\"patch_4\">\n    <path clip-path=\"url(#pee9acba707)\" d=\"M 124.622431 66.2863 \nL 142.348321 66.2863 \nL 142.348321 20.8353 \nL 124.622431 20.8353 \nz\n\" style=\"fill:#bdbdbd;opacity:0.6;\"/>\n   </g>\n   <g id=\"patch_5\">\n    <path clip-path=\"url(#pee9acba707)\" d=\"M 124.622431 111.7373 \nL 142.348321 111.7373 \nL 142.348321 66.2863 \nL 124.622431 66.2863 \nz\n\" style=\"fill:#bdbdbd;opacity:0.6;\"/>\n   </g>\n   <g id=\"patch_6\">\n    <path clip-path=\"url(#pee9acba707)\" d=\"M 124.622431 157.1883 \nL 142.348321 157.1883 \nL 142.348321 111.7373 \nL 124.622431 111.7373 \nz\n\" style=\"fill:#bdbdbd;opacity:0.6;\"/>\n   </g>\n   <g id=\"patch_7\">\n    <path clip-path=\"url(#pee9acba707)\" d=\"M 124.622431 202.6393 \nL 142.348321 202.6393 \nL 142.348321 157.1883 \nL 124.622431 157.1883 \nz\n\" style=\"fill:#bdbdbd;opacity:0.6;\"/>\n   </g>\n   <g id=\"patch_8\">\n    <path clip-path=\"url(#pee9acba707)\" d=\"M 124.622431 248.0903 \nL 142.348321 248.0903 \nL 142.348321 202.6393 \nL 124.622431 202.6393 \nz\n\" style=\"fill:#bdbdbd;opacity:0.6;\"/>\n   </g>\n   <g id=\"patch_9\">\n    <path clip-path=\"url(#pee9acba707)\" d=\"M 124.622431 293.5413 \nL 142.348321 293.5413 \nL 142.348321 248.0903 \nL 124.622431 248.0903 \nz\n\" style=\"fill:#bdbdbd;opacity:0.6;\"/>\n   </g>\n   <g id=\"patch_10\">\n    <path clip-path=\"url(#pee9acba707)\" d=\"M 124.622431 338.9923 \nL 142.348321 338.9923 \nL 142.348321 293.5413 \nL 124.622431 293.5413 \nz\n\" style=\"fill:#bdbdbd;opacity:0.6;\"/>\n   </g>\n   <g id=\"patch_11\">\n    <path clip-path=\"url(#pee9acba707)\" d=\"M 260.975431 66.2863 \nL 278.701321 66.2863 \nL 278.701321 20.8353 \nL 260.975431 20.8353 \nz\n\" style=\"fill:#bdbdbd;opacity:0.6;\"/>\n   </g>\n   <g id=\"patch_12\">\n    <path clip-path=\"url(#pee9acba707)\" d=\"M 260.975431 111.7373 \nL 278.701321 111.7373 \nL 278.701321 66.2863 \nL 260.975431 66.2863 \nz\n\" style=\"fill:#bdbdbd;opacity:0.6;\"/>\n   </g>\n   <g id=\"patch_13\">\n    <path clip-path=\"url(#pee9acba707)\" d=\"M 260.975431 157.1883 \nL 278.701321 157.1883 \nL 278.701321 111.7373 \nL 260.975431 111.7373 \nz\n\" style=\"fill:#bdbdbd;opacity:0.6;\"/>\n   </g>\n   <g id=\"patch_14\">\n    <path clip-path=\"url(#pee9acba707)\" d=\"M 260.975431 202.6393 \nL 278.701321 202.6393 \nL 278.701321 157.1883 \nL 260.975431 157.1883 \nz\n\" style=\"fill:#bdbdbd;opacity:0.6;\"/>\n   </g>\n   <g id=\"patch_15\">\n    <path clip-path=\"url(#pee9acba707)\" d=\"M 260.975431 248.0903 \nL 278.701321 248.0903 \nL 278.701321 202.6393 \nL 260.975431 202.6393 \nz\n\" style=\"fill:#bdbdbd;opacity:0.6;\"/>\n   </g>\n   <g id=\"patch_16\">\n    <path clip-path=\"url(#pee9acba707)\" d=\"M 260.975431 293.5413 \nL 278.701321 293.5413 \nL 278.701321 248.0903 \nL 260.975431 248.0903 \nz\n\" style=\"fill:#bdbdbd;opacity:0.6;\"/>\n   </g>\n   <g id=\"patch_17\">\n    <path clip-path=\"url(#pee9acba707)\" d=\"M 260.975431 338.9923 \nL 278.701321 338.9923 \nL 278.701321 293.5413 \nL 260.975431 293.5413 \nz\n\" style=\"fill:#bdbdbd;opacity:0.6;\"/>\n   </g>\n   <g id=\"patch_18\">\n    <path clip-path=\"url(#pee9acba707)\" d=\"M 442.779431 66.2863 \nL 460.505321 66.2863 \nL 460.505321 20.8353 \nL 442.779431 20.8353 \nz\n\" style=\"fill:#bdbdbd;opacity:0.6;\"/>\n   </g>\n   <g id=\"patch_19\">\n    <path clip-path=\"url(#pee9acba707)\" d=\"M 442.779431 111.7373 \nL 460.505321 111.7373 \nL 460.505321 66.2863 \nL 442.779431 66.2863 \nz\n\" style=\"fill:#bdbdbd;opacity:0.6;\"/>\n   </g>\n   <g id=\"patch_20\">\n    <path clip-path=\"url(#pee9acba707)\" d=\"M 442.779431 157.1883 \nL 460.505321 157.1883 \nL 460.505321 111.7373 \nL 442.779431 111.7373 \nz\n\" style=\"fill:#bdbdbd;opacity:0.6;\"/>\n   </g>\n   <g id=\"patch_21\">\n    <path clip-path=\"url(#pee9acba707)\" d=\"M 442.779431 202.6393 \nL 460.505321 202.6393 \nL 460.505321 157.1883 \nL 442.779431 157.1883 \nz\n\" style=\"fill:#bdbdbd;opacity:0.6;\"/>\n   </g>\n   <g id=\"patch_22\">\n    <path clip-path=\"url(#pee9acba707)\" d=\"M 442.779431 248.0903 \nL 460.505321 248.0903 \nL 460.505321 202.6393 \nL 442.779431 202.6393 \nz\n\" style=\"fill:#bdbdbd;opacity:0.6;\"/>\n   </g>\n   <g id=\"patch_23\">\n    <path clip-path=\"url(#pee9acba707)\" d=\"M 442.779431 293.5413 \nL 460.505321 293.5413 \nL 460.505321 248.0903 \nL 442.779431 248.0903 \nz\n\" style=\"fill:#bdbdbd;opacity:0.6;\"/>\n   </g>\n   <g id=\"patch_24\">\n    <path clip-path=\"url(#pee9acba707)\" d=\"M 442.779431 338.9923 \nL 460.505321 338.9923 \nL 460.505321 293.5413 \nL 442.779431 293.5413 \nz\n\" style=\"fill:#bdbdbd;opacity:0.6;\"/>\n   </g>\n   <g id=\"patch_25\">\n    <path clip-path=\"url(#pee9acba707)\" d=\"M 579.132431 66.2863 \nL 596.858321 66.2863 \nL 596.858321 20.8353 \nL 579.132431 20.8353 \nz\n\" style=\"fill:#bdbdbd;opacity:0.6;\"/>\n   </g>\n   <g id=\"patch_26\">\n    <path clip-path=\"url(#pee9acba707)\" d=\"M 579.132431 111.7373 \nL 596.858321 111.7373 \nL 596.858321 66.2863 \nL 579.132431 66.2863 \nz\n\" style=\"fill:#bdbdbd;opacity:0.6;\"/>\n   </g>\n   <g id=\"patch_27\">\n    <path clip-path=\"url(#pee9acba707)\" d=\"M 579.132431 157.1883 \nL 596.858321 157.1883 \nL 596.858321 111.7373 \nL 579.132431 111.7373 \nz\n\" style=\"fill:#bdbdbd;opacity:0.6;\"/>\n   </g>\n   <g id=\"patch_28\">\n    <path clip-path=\"url(#pee9acba707)\" d=\"M 579.132431 202.6393 \nL 596.858321 202.6393 \nL 596.858321 157.1883 \nL 579.132431 157.1883 \nz\n\" style=\"fill:#bdbdbd;opacity:0.6;\"/>\n   </g>\n   <g id=\"patch_29\">\n    <path clip-path=\"url(#pee9acba707)\" d=\"M 579.132431 248.0903 \nL 596.858321 248.0903 \nL 596.858321 202.6393 \nL 579.132431 202.6393 \nz\n\" style=\"fill:#bdbdbd;opacity:0.6;\"/>\n   </g>\n   <g id=\"patch_30\">\n    <path clip-path=\"url(#pee9acba707)\" d=\"M 579.132431 293.5413 \nL 596.858321 293.5413 \nL 596.858321 248.0903 \nL 579.132431 248.0903 \nz\n\" style=\"fill:#bdbdbd;opacity:0.6;\"/>\n   </g>\n   <g id=\"patch_31\">\n    <path clip-path=\"url(#pee9acba707)\" d=\"M 579.132431 338.9923 \nL 596.858321 338.9923 \nL 596.858321 293.5413 \nL 579.132431 293.5413 \nz\n\" style=\"fill:#bdbdbd;opacity:0.6;\"/>\n   </g>\n   <g id=\"patch_32\">\n    <path clip-path=\"url(#pee9acba707)\" d=\"M 760.936431 66.2863 \nL 778.662321 66.2863 \nL 778.662321 20.8353 \nL 760.936431 20.8353 \nz\n\" style=\"fill:#bdbdbd;opacity:0.6;\"/>\n   </g>\n   <g id=\"patch_33\">\n    <path clip-path=\"url(#pee9acba707)\" d=\"M 760.936431 111.7373 \nL 778.662321 111.7373 \nL 778.662321 66.2863 \nL 760.936431 66.2863 \nz\n\" style=\"fill:#bdbdbd;opacity:0.6;\"/>\n   </g>\n   <g id=\"patch_34\">\n    <path clip-path=\"url(#pee9acba707)\" d=\"M 760.936431 157.1883 \nL 778.662321 157.1883 \nL 778.662321 111.7373 \nL 760.936431 111.7373 \nz\n\" style=\"fill:#bdbdbd;opacity:0.6;\"/>\n   </g>\n   <g id=\"patch_35\">\n    <path clip-path=\"url(#pee9acba707)\" d=\"M 760.936431 202.6393 \nL 778.662321 202.6393 \nL 778.662321 157.1883 \nL 760.936431 157.1883 \nz\n\" style=\"fill:#bdbdbd;opacity:0.6;\"/>\n   </g>\n   <g id=\"patch_36\">\n    <path clip-path=\"url(#pee9acba707)\" d=\"M 760.936431 248.0903 \nL 778.662321 248.0903 \nL 778.662321 202.6393 \nL 760.936431 202.6393 \nz\n\" style=\"fill:#bdbdbd;opacity:0.6;\"/>\n   </g>\n   <g id=\"patch_37\">\n    <path clip-path=\"url(#pee9acba707)\" d=\"M 760.936431 293.5413 \nL 778.662321 293.5413 \nL 778.662321 248.0903 \nL 760.936431 248.0903 \nz\n\" style=\"fill:#bdbdbd;opacity:0.6;\"/>\n   </g>\n   <g id=\"patch_38\">\n    <path clip-path=\"url(#pee9acba707)\" d=\"M 760.936431 338.9923 \nL 778.662321 338.9923 \nL 778.662321 293.5413 \nL 760.936431 293.5413 \nz\n\" style=\"fill:#bdbdbd;opacity:0.6;\"/>\n   </g>\n   <g id=\"patch_39\">\n    <path clip-path=\"url(#pee9acba707)\" d=\"M 897.289431 66.2863 \nL 915.015321 66.2863 \nL 915.015321 20.8353 \nL 897.289431 20.8353 \nz\n\" style=\"fill:#bdbdbd;opacity:0.6;\"/>\n   </g>\n   <g id=\"patch_40\">\n    <path clip-path=\"url(#pee9acba707)\" d=\"M 897.289431 111.7373 \nL 915.015321 111.7373 \nL 915.015321 66.2863 \nL 897.289431 66.2863 \nz\n\" style=\"fill:#bdbdbd;opacity:0.6;\"/>\n   </g>\n   <g id=\"patch_41\">\n    <path clip-path=\"url(#pee9acba707)\" d=\"M 897.289431 157.1883 \nL 915.015321 157.1883 \nL 915.015321 111.7373 \nL 897.289431 111.7373 \nz\n\" style=\"fill:#bdbdbd;opacity:0.6;\"/>\n   </g>\n   <g id=\"patch_42\">\n    <path clip-path=\"url(#pee9acba707)\" d=\"M 897.289431 202.6393 \nL 915.015321 202.6393 \nL 915.015321 157.1883 \nL 897.289431 157.1883 \nz\n\" style=\"fill:#bdbdbd;opacity:0.6;\"/>\n   </g>\n   <g id=\"patch_43\">\n    <path clip-path=\"url(#pee9acba707)\" d=\"M 897.289431 248.0903 \nL 915.015321 248.0903 \nL 915.015321 202.6393 \nL 897.289431 202.6393 \nz\n\" style=\"fill:#bdbdbd;opacity:0.6;\"/>\n   </g>\n   <g id=\"patch_44\">\n    <path clip-path=\"url(#pee9acba707)\" d=\"M 897.289431 293.5413 \nL 915.015321 293.5413 \nL 915.015321 248.0903 \nL 897.289431 248.0903 \nz\n\" style=\"fill:#bdbdbd;opacity:0.6;\"/>\n   </g>\n   <g id=\"patch_45\">\n    <path clip-path=\"url(#pee9acba707)\" d=\"M 897.289431 338.9923 \nL 915.015321 338.9923 \nL 915.015321 293.5413 \nL 897.289431 293.5413 \nz\n\" style=\"fill:#bdbdbd;opacity:0.6;\"/>\n   </g>\n   <g id=\"patch_46\">\n    <path clip-path=\"url(#pee9acba707)\" d=\"M 1169.995431 66.2863 \nL 1187.721321 66.2863 \nL 1187.721321 20.8353 \nL 1169.995431 20.8353 \nz\n\" style=\"fill:#bdbdbd;opacity:0.6;\"/>\n   </g>\n   <g id=\"patch_47\">\n    <path clip-path=\"url(#pee9acba707)\" d=\"M 1169.995431 111.7373 \nL 1187.721321 111.7373 \nL 1187.721321 66.2863 \nL 1169.995431 66.2863 \nz\n\" style=\"fill:#bdbdbd;opacity:0.6;\"/>\n   </g>\n   <g id=\"patch_48\">\n    <path clip-path=\"url(#pee9acba707)\" d=\"M 1169.995431 157.1883 \nL 1187.721321 157.1883 \nL 1187.721321 111.7373 \nL 1169.995431 111.7373 \nz\n\" style=\"fill:#bdbdbd;opacity:0.6;\"/>\n   </g>\n   <g id=\"patch_49\">\n    <path clip-path=\"url(#pee9acba707)\" d=\"M 1169.995431 202.6393 \nL 1187.721321 202.6393 \nL 1187.721321 157.1883 \nL 1169.995431 157.1883 \nz\n\" style=\"fill:#bdbdbd;opacity:0.6;\"/>\n   </g>\n   <g id=\"patch_50\">\n    <path clip-path=\"url(#pee9acba707)\" d=\"M 1169.995431 248.0903 \nL 1187.721321 248.0903 \nL 1187.721321 202.6393 \nL 1169.995431 202.6393 \nz\n\" style=\"fill:#bdbdbd;opacity:0.6;\"/>\n   </g>\n   <g id=\"patch_51\">\n    <path clip-path=\"url(#pee9acba707)\" d=\"M 1169.995431 293.5413 \nL 1187.721321 293.5413 \nL 1187.721321 248.0903 \nL 1169.995431 248.0903 \nz\n\" style=\"fill:#bdbdbd;opacity:0.6;\"/>\n   </g>\n   <g id=\"patch_52\">\n    <path clip-path=\"url(#pee9acba707)\" d=\"M 1169.995431 338.9923 \nL 1187.721321 338.9923 \nL 1187.721321 293.5413 \nL 1169.995431 293.5413 \nz\n\" style=\"fill:#bdbdbd;opacity:0.6;\"/>\n   </g>\n   <g id=\"patch_53\">\n    <path clip-path=\"url(#pee9acba707)\" d=\"M 170.073431 475.3453 \nL 187.799321 475.3453 \nL 187.799321 429.8943 \nL 170.073431 429.8943 \nz\n\" style=\"fill:#bdbdbd;opacity:0.6;\"/>\n   </g>\n   <g id=\"patch_54\">\n    <path clip-path=\"url(#pee9acba707)\" d=\"M 170.073431 520.7963 \nL 187.799321 520.7963 \nL 187.799321 475.3453 \nL 170.073431 475.3453 \nz\n\" style=\"fill:#bdbdbd;opacity:0.6;\"/>\n   </g>\n   <g id=\"patch_55\">\n    <path clip-path=\"url(#pee9acba707)\" d=\"M 170.073431 566.2473 \nL 187.799321 566.2473 \nL 187.799321 520.7963 \nL 170.073431 520.7963 \nz\n\" style=\"fill:#bdbdbd;opacity:0.6;\"/>\n   </g>\n   <g id=\"patch_56\">\n    <path clip-path=\"url(#pee9acba707)\" d=\"M 170.073431 611.6983 \nL 187.799321 611.6983 \nL 187.799321 566.2473 \nL 170.073431 566.2473 \nz\n\" style=\"fill:#bdbdbd;opacity:0.6;\"/>\n   </g>\n   <g id=\"patch_57\">\n    <path clip-path=\"url(#pee9acba707)\" d=\"M 170.073431 657.1493 \nL 187.799321 657.1493 \nL 187.799321 611.6983 \nL 170.073431 611.6983 \nz\n\" style=\"fill:#bdbdbd;opacity:0.6;\"/>\n   </g>\n   <g id=\"patch_58\">\n    <path clip-path=\"url(#pee9acba707)\" d=\"M 170.073431 702.6003 \nL 187.799321 702.6003 \nL 187.799321 657.1493 \nL 170.073431 657.1493 \nz\n\" style=\"fill:#bdbdbd;opacity:0.6;\"/>\n   </g>\n   <g id=\"patch_59\">\n    <path clip-path=\"url(#pee9acba707)\" d=\"M 170.073431 748.0513 \nL 187.799321 748.0513 \nL 187.799321 702.6003 \nL 170.073431 702.6003 \nz\n\" style=\"fill:#bdbdbd;opacity:0.6;\"/>\n   </g>\n   <g id=\"line2d_19\">\n    <path clip-path=\"url(#pee9acba707)\" d=\"M 178.936376 134.4628 \nL 178.936376 43.5608 \n\" style=\"fill:none;stroke:#6fa4ff;stroke-linecap:square;stroke-width:2;\"/>\n   </g>\n   <g id=\"line2d_20\">\n    <path clip-path=\"url(#pee9acba707)\" d=\"M 224.387376 179.9138 \nL 224.387376 89.0118 \n\" style=\"fill:none;stroke:#6fa4ff;stroke-linecap:square;stroke-width:2;\"/>\n   </g>\n   <g id=\"line2d_21\">\n    <path clip-path=\"url(#pee9acba707)\" d=\"M 315.289376 179.9138 \nL 315.289376 134.4628 \n\" style=\"fill:none;stroke:#6fa4ff;stroke-linecap:square;stroke-width:2;\"/>\n   </g>\n   <g id=\"line2d_22\">\n    <path clip-path=\"url(#pee9acba707)\" d=\"M 406.191376 179.9138 \nL 406.191376 134.4628 \n\" style=\"fill:none;stroke:#6fa4ff;stroke-linecap:square;stroke-width:2;\"/>\n   </g>\n   <g id=\"line2d_23\">\n    <path clip-path=\"url(#pee9acba707)\" d=\"M 497.093376 225.3648 \nL 497.093376 134.4628 \n\" style=\"fill:none;stroke:#6fa4ff;stroke-linecap:square;stroke-width:2;\"/>\n   </g>\n   <g id=\"line2d_24\">\n    <path clip-path=\"url(#pee9acba707)\" d=\"M 542.544376 270.8158 \nL 542.544376 179.9138 \n\" style=\"fill:none;stroke:#6fa4ff;stroke-linecap:square;stroke-width:2;\"/>\n   </g>\n   <g id=\"line2d_25\">\n    <path clip-path=\"url(#pee9acba707)\" d=\"M 678.897376 316.2668 \nL 678.897376 225.3648 \n\" style=\"fill:none;stroke:#bb8bff;stroke-linecap:square;stroke-width:2;\"/>\n   </g>\n   <g id=\"line2d_26\">\n    <path clip-path=\"url(#pee9acba707)\" d=\"M 815.250376 270.8158 \nL 815.250376 179.9138 \n\" style=\"fill:none;stroke:#6fa4ff;stroke-linecap:square;stroke-width:2;\"/>\n   </g>\n   <g id=\"line2d_27\">\n    <path clip-path=\"url(#pee9acba707)\" d=\"M 860.701376 225.3648 \nL 860.701376 134.4628 \n\" style=\"fill:none;stroke:#6fa4ff;stroke-linecap:square;stroke-width:2;\"/>\n   </g>\n   <g id=\"line2d_28\">\n    <path clip-path=\"url(#pee9acba707)\" d=\"M 951.603376 179.9138 \nL 951.603376 134.4628 \n\" style=\"fill:none;stroke:#6fa4ff;stroke-linecap:square;stroke-width:2;\"/>\n   </g>\n   <g id=\"line2d_29\">\n    <path clip-path=\"url(#pee9acba707)\" d=\"M 1042.505376 179.9138 \nL 1042.505376 134.4628 \n\" style=\"fill:none;stroke:#6fa4ff;stroke-linecap:square;stroke-width:2;\"/>\n   </g>\n   <g id=\"line2d_30\">\n    <path clip-path=\"url(#pee9acba707)\" d=\"M 1087.956376 179.9138 \nL 1087.956376 89.0118 \n\" style=\"fill:none;stroke:#6fa4ff;stroke-linecap:square;stroke-width:2;\"/>\n   </g>\n   <g id=\"line2d_31\">\n    <path clip-path=\"url(#pee9acba707)\" d=\"M 1133.407376 134.4628 \nL 1133.407376 43.5608 \n\" style=\"fill:none;stroke:#6fa4ff;stroke-linecap:square;stroke-width:2;\"/>\n   </g>\n   <g id=\"line2d_32\">\n    <path clip-path=\"url(#pee9acba707)\" d=\"M 225.864534 452.6198 \nL 225.864534 760.436697 \n\" style=\"fill:none;stroke:#778899;stroke-linecap:square;stroke-width:2;\"/>\n   </g>\n   <g id=\"line2d_33\">\n    <path clip-path=\"url(#pee9acba707)\" d=\"M 222.910219 452.6198 \nL 222.910219 760.436697 \n\" style=\"fill:none;stroke:#778899;stroke-linecap:square;stroke-width:2;\"/>\n   </g>\n   <g id=\"line2d_34\">\n    <path clip-path=\"url(#pee9acba707)\" d=\"M 271.315534 498.0708 \nL 271.315534 760.436697 \n\" style=\"fill:none;stroke:#778899;stroke-linecap:square;stroke-width:2;\"/>\n   </g>\n   <g id=\"line2d_35\">\n    <path clip-path=\"url(#pee9acba707)\" d=\"M 268.361219 498.0708 \nL 268.361219 760.436697 \n\" style=\"fill:none;stroke:#778899;stroke-linecap:square;stroke-width:2;\"/>\n   </g>\n   <g id=\"line2d_36\">\n    <path clip-path=\"url(#pee9acba707)\" d=\"M 72.581036 366.2629 \nL 77.126136 357.1727 \n\" style=\"fill:none;stroke:#778899;stroke-linecap:square;stroke-width:1.5;\"/>\n   </g>\n   <g id=\"line2d_37\">\n    <path clip-path=\"url(#pee9acba707)\" d=\"M 1204.310936 43.5608 \nL 1204.310936 361.7178 \n\" style=\"fill:none;stroke:#000000;stroke-linecap:square;stroke-width:1.5;\"/>\n   </g>\n   <g id=\"line2d_38\">\n    <path clip-path=\"url(#pee9acba707)\" d=\"M 72.581036 775.3219 \nL 77.126136 766.2317 \n\" style=\"fill:none;stroke:#778899;stroke-linecap:square;stroke-width:1.5;\"/>\n   </g>\n   <g id=\"line2d_39\">\n    <path clip-path=\"url(#pee9acba707)\" d=\"M 63.036326 452.6198 \nL 63.036326 770.7768 \n\" style=\"fill:none;stroke:#000000;stroke-linecap:square;stroke-width:1.5;\"/>\n   </g>\n   <g id=\"line2d_40\">\n    <path clip-path=\"url(#pee9acba707)\" d=\"M 309.380746 140.37143 \nL 321.198006 128.55417 \n\" style=\"fill:none;stroke:#6fa4ff;stroke-linecap:square;stroke-width:2;\"/>\n   </g>\n   <g id=\"line2d_41\">\n    <path clip-path=\"url(#pee9acba707)\" d=\"M 309.380746 128.55417 \nL 321.198006 140.37143 \n\" style=\"fill:none;stroke:#6fa4ff;stroke-linecap:square;stroke-width:2;\"/>\n   </g>\n   <g id=\"line2d_42\">\n    <path clip-path=\"url(#pee9acba707)\" d=\"M 309.380746 185.82243 \nL 321.198006 174.00517 \n\" style=\"fill:none;stroke:#6fa4ff;stroke-linecap:square;stroke-width:2;\"/>\n   </g>\n   <g id=\"line2d_43\">\n    <path clip-path=\"url(#pee9acba707)\" d=\"M 309.380746 174.00517 \nL 321.198006 185.82243 \n\" style=\"fill:none;stroke:#6fa4ff;stroke-linecap:square;stroke-width:2;\"/>\n   </g>\n   <g id=\"line2d_44\">\n    <path clip-path=\"url(#pee9acba707)\" d=\"M 1036.596746 140.37143 \nL 1048.414006 128.55417 \n\" style=\"fill:none;stroke:#6fa4ff;stroke-linecap:square;stroke-width:2;\"/>\n   </g>\n   <g id=\"line2d_45\">\n    <path clip-path=\"url(#pee9acba707)\" d=\"M 1036.596746 128.55417 \nL 1048.414006 140.37143 \n\" style=\"fill:none;stroke:#6fa4ff;stroke-linecap:square;stroke-width:2;\"/>\n   </g>\n   <g id=\"line2d_46\">\n    <path clip-path=\"url(#pee9acba707)\" d=\"M 1036.596746 185.82243 \nL 1048.414006 174.00517 \n\" style=\"fill:none;stroke:#6fa4ff;stroke-linecap:square;stroke-width:2;\"/>\n   </g>\n   <g id=\"line2d_47\">\n    <path clip-path=\"url(#pee9acba707)\" d=\"M 1036.596746 174.00517 \nL 1048.414006 185.82243 \n\" style=\"fill:none;stroke:#6fa4ff;stroke-linecap:square;stroke-width:2;\"/>\n   </g>\n   <g id=\"patch_60\">\n    <path clip-path=\"url(#pee9acba707)\" d=\"M 73.262801 58.332375 \nL 102.805951 58.332375 \nL 102.805951 28.789225 \nL 73.262801 28.789225 \nz\n\" style=\"fill:#6fa4ff;stroke:#6fa4ff;stroke-linejoin:miter;stroke-width:1.5;\"/>\n   </g>\n   <g id=\"patch_61\">\n    <path clip-path=\"url(#pee9acba707)\" d=\"M 73.262801 103.783375 \nL 102.805951 103.783375 \nL 102.805951 74.240225 \nL 73.262801 74.240225 \nz\n\" style=\"fill:#6fa4ff;stroke:#6fa4ff;stroke-linejoin:miter;stroke-width:1.5;\"/>\n   </g>\n   <g id=\"patch_62\">\n    <path clip-path=\"url(#pee9acba707)\" d=\"M 73.262801 285.587375 \nL 102.805951 285.587375 \nL 102.805951 256.044225 \nL 73.262801 256.044225 \nz\n\" style=\"fill:#bb8bff;stroke:#bb8bff;stroke-linejoin:miter;stroke-width:1.5;\"/>\n   </g>\n   <g id=\"patch_63\">\n    <path clip-path=\"url(#pee9acba707)\" d=\"M 73.262801 331.038375 \nL 102.805951 331.038375 \nL 102.805951 301.495225 \nL 73.262801 301.495225 \nz\n\" style=\"fill:#bb8bff;stroke:#bb8bff;stroke-linejoin:miter;stroke-width:1.5;\"/>\n   </g>\n   <g id=\"patch_64\">\n    <path clip-path=\"url(#pee9acba707)\" d=\"M 178.936376 47.992272 \nC 180.111616 47.992272 181.23888 47.525345 182.069901 46.694324 \nC 182.900921 45.863304 183.367849 44.73604 183.367849 43.5608 \nC 183.367849 42.38556 182.900921 41.258296 182.069901 40.427276 \nC 181.23888 39.596255 180.111616 39.129327 178.936376 39.129327 \nC 177.761136 39.129327 176.633872 39.596255 175.802852 40.427276 \nC 174.971832 41.258296 174.504904 42.38556 174.504904 43.5608 \nC 174.504904 44.73604 174.971832 45.863304 175.802852 46.694324 \nC 176.633872 47.525345 177.761136 47.992272 178.936376 47.992272 \nz\n\" style=\"fill:#6fa4ff;stroke:#6fa4ff;stroke-linejoin:miter;stroke-width:1.5;\"/>\n   </g>\n   <g id=\"patch_65\">\n    <path clip-path=\"url(#pee9acba707)\" d=\"M 178.936376 144.802902 \nC 181.678603 144.802902 184.308885 143.713404 186.247933 141.774357 \nC 188.18698 139.835309 189.276479 137.205027 189.276479 134.4628 \nC 189.276479 131.720573 188.18698 129.090291 186.247933 127.151243 \nC 184.308885 125.212196 181.678603 124.122697 178.936376 124.122697 \nC 176.194149 124.122697 173.563867 125.212196 171.62482 127.151243 \nC 169.685772 129.090291 168.596274 131.720573 168.596274 134.4628 \nC 168.596274 137.205027 169.685772 139.835309 171.62482 141.774357 \nC 173.563867 143.713404 176.194149 144.802902 178.936376 144.802902 \nz\n\" style=\"fill:#6fa4ff;stroke:#6fa4ff;stroke-linejoin:miter;stroke-width:2;\"/>\n   </g>\n   <g id=\"patch_66\">\n    <path clip-path=\"url(#pee9acba707)\" d=\"M 224.387376 93.443272 \nC 225.562616 93.443272 226.68988 92.976345 227.520901 92.145324 \nC 228.351921 91.314304 228.818849 90.18704 228.818849 89.0118 \nC 228.818849 87.83656 228.351921 86.709296 227.520901 85.878276 \nC 226.68988 85.047255 225.562616 84.580327 224.387376 84.580327 \nC 223.212136 84.580327 222.084872 85.047255 221.253852 85.878276 \nC 220.422832 86.709296 219.955904 87.83656 219.955904 89.0118 \nC 219.955904 90.18704 220.422832 91.314304 221.253852 92.145324 \nC 222.084872 92.976345 223.212136 93.443272 224.387376 93.443272 \nz\n\" style=\"fill:#6fa4ff;stroke:#6fa4ff;stroke-linejoin:miter;stroke-width:1.5;\"/>\n   </g>\n   <g id=\"patch_67\">\n    <path clip-path=\"url(#pee9acba707)\" d=\"M 224.387376 190.253902 \nC 227.129603 190.253902 229.759885 189.164404 231.698933 187.225357 \nC 233.63798 185.286309 234.727479 182.656027 234.727479 179.9138 \nC 234.727479 177.171573 233.63798 174.541291 231.698933 172.602243 \nC 229.759885 170.663196 227.129603 169.573697 224.387376 169.573697 \nC 221.645149 169.573697 219.014867 170.663196 217.07582 172.602243 \nC 215.136772 174.541291 214.047274 177.171573 214.047274 179.9138 \nC 214.047274 182.656027 215.136772 185.286309 217.07582 187.225357 \nC 219.014867 189.164404 221.645149 190.253902 224.387376 190.253902 \nz\n\" style=\"fill:#6fa4ff;stroke:#6fa4ff;stroke-linejoin:miter;stroke-width:2;\"/>\n   </g>\n   <g id=\"patch_68\">\n    <path clip-path=\"url(#pee9acba707)\" d=\"M 345.968801 149.234375 \nL 375.511951 149.234375 \nL 375.511951 119.691225 \nL 345.968801 119.691225 \nz\n\" style=\"fill:#05bab6;stroke:#05bab6;stroke-linejoin:miter;stroke-width:1.5;\"/>\n   </g>\n   <g id=\"patch_69\">\n    <path clip-path=\"url(#pee9acba707)\" d=\"M 345.968801 194.685375 \nL 375.511951 194.685375 \nL 375.511951 165.142225 \nL 345.968801 165.142225 \nz\n\" style=\"fill:#05bab6;stroke:#05bab6;stroke-linejoin:miter;stroke-width:1.5;\"/>\n   </g>\n   <g id=\"patch_70\">\n    <path clip-path=\"url(#pee9acba707)\" d=\"M 406.191376 184.345272 \nC 407.366616 184.345272 408.49388 183.878345 409.324901 183.047324 \nC 410.155921 182.216304 410.622849 181.08904 410.622849 179.9138 \nC 410.622849 178.73856 410.155921 177.611296 409.324901 176.780276 \nC 408.49388 175.949255 407.366616 175.482327 406.191376 175.482327 \nC 405.016136 175.482327 403.888872 175.949255 403.057852 176.780276 \nC 402.226832 177.611296 401.759904 178.73856 401.759904 179.9138 \nC 401.759904 181.08904 402.226832 182.216304 403.057852 183.047324 \nC 403.888872 183.878345 405.016136 184.345272 406.191376 184.345272 \nz\n\" style=\"fill:#6fa4ff;stroke:#6fa4ff;stroke-linejoin:miter;stroke-width:1.5;\"/>\n   </g>\n   <g id=\"patch_71\">\n    <path clip-path=\"url(#pee9acba707)\" d=\"M 406.191376 144.802902 \nC 408.933603 144.802902 411.563885 143.713404 413.502933 141.774357 \nC 415.44198 139.835309 416.531479 137.205027 416.531479 134.4628 \nC 416.531479 131.720573 415.44198 129.090291 413.502933 127.151243 \nC 411.563885 125.212196 408.933603 124.122697 406.191376 124.122697 \nC 403.449149 124.122697 400.818867 125.212196 398.87982 127.151243 \nC 396.940772 129.090291 395.851274 131.720573 395.851274 134.4628 \nC 395.851274 137.205027 396.940772 139.835309 398.87982 141.774357 \nC 400.818867 143.713404 403.449149 144.802902 406.191376 144.802902 \nz\n\" style=\"fill:#6fa4ff;stroke:#6fa4ff;stroke-linejoin:miter;stroke-width:2;\"/>\n   </g>\n   <g id=\"patch_72\">\n    <path clip-path=\"url(#pee9acba707)\" d=\"M 497.093376 138.894272 \nC 498.268616 138.894272 499.39588 138.427345 500.226901 137.596324 \nC 501.057921 136.765304 501.524849 135.63804 501.524849 134.4628 \nC 501.524849 133.28756 501.057921 132.160296 500.226901 131.329276 \nC 499.39588 130.498255 498.268616 130.031327 497.093376 130.031327 \nC 495.918136 130.031327 494.790872 130.498255 493.959852 131.329276 \nC 493.128832 132.160296 492.661904 133.28756 492.661904 134.4628 \nC 492.661904 135.63804 493.128832 136.765304 493.959852 137.596324 \nC 494.790872 138.427345 495.918136 138.894272 497.093376 138.894272 \nz\n\" style=\"fill:#6fa4ff;stroke:#6fa4ff;stroke-linejoin:miter;stroke-width:1.5;\"/>\n   </g>\n   <g id=\"patch_73\">\n    <path clip-path=\"url(#pee9acba707)\" d=\"M 497.093376 235.704902 \nC 499.835603 235.704902 502.465885 234.615404 504.404933 232.676357 \nC 506.34398 230.737309 507.433479 228.107027 507.433479 225.3648 \nC 507.433479 222.622573 506.34398 219.992291 504.404933 218.053243 \nC 502.465885 216.114196 499.835603 215.024697 497.093376 215.024697 \nC 494.351149 215.024697 491.720867 216.114196 489.78182 218.053243 \nC 487.842772 219.992291 486.753274 222.622573 486.753274 225.3648 \nC 486.753274 228.107027 487.842772 230.737309 489.78182 232.676357 \nC 491.720867 234.615404 494.351149 235.704902 497.093376 235.704902 \nz\n\" style=\"fill:#6fa4ff;stroke:#6fa4ff;stroke-linejoin:miter;stroke-width:2;\"/>\n   </g>\n   <g id=\"patch_74\">\n    <path clip-path=\"url(#pee9acba707)\" d=\"M 542.544376 184.345272 \nC 543.719616 184.345272 544.84688 183.878345 545.677901 183.047324 \nC 546.508921 182.216304 546.975849 181.08904 546.975849 179.9138 \nC 546.975849 178.73856 546.508921 177.611296 545.677901 176.780276 \nC 544.84688 175.949255 543.719616 175.482327 542.544376 175.482327 \nC 541.369136 175.482327 540.241872 175.949255 539.410852 176.780276 \nC 538.579832 177.611296 538.112904 178.73856 538.112904 179.9138 \nC 538.112904 181.08904 538.579832 182.216304 539.410852 183.047324 \nC 540.241872 183.878345 541.369136 184.345272 542.544376 184.345272 \nz\n\" style=\"fill:#6fa4ff;stroke:#6fa4ff;stroke-linejoin:miter;stroke-width:1.5;\"/>\n   </g>\n   <g id=\"patch_75\">\n    <path clip-path=\"url(#pee9acba707)\" d=\"M 542.544376 281.155902 \nC 545.286603 281.155902 547.916885 280.066404 549.855933 278.127357 \nC 551.79498 276.188309 552.884479 273.558027 552.884479 270.8158 \nC 552.884479 268.073573 551.79498 265.443291 549.855933 263.504243 \nC 547.916885 261.565196 545.286603 260.475697 542.544376 260.475697 \nC 539.802149 260.475697 537.171867 261.565196 535.23282 263.504243 \nC 533.293772 265.443291 532.204274 268.073573 532.204274 270.8158 \nC 532.204274 273.558027 533.293772 276.188309 535.23282 278.127357 \nC 537.171867 280.066404 539.802149 281.155902 542.544376 281.155902 \nz\n\" style=\"fill:#6fa4ff;stroke:#6fa4ff;stroke-linejoin:miter;stroke-width:2;\"/>\n   </g>\n   <g id=\"patch_76\">\n    <path clip-path=\"url(#pee9acba707)\" d=\"M 618.674801 240.136375 \nL 648.217951 240.136375 \nL 648.217951 210.593225 \nL 618.674801 210.593225 \nz\n\" style=\"fill:#05bab6;stroke:#05bab6;stroke-linejoin:miter;stroke-width:1.5;\"/>\n   </g>\n   <g id=\"patch_77\">\n    <path clip-path=\"url(#pee9acba707)\" d=\"M 618.674801 285.587375 \nL 648.217951 285.587375 \nL 648.217951 256.044225 \nL 618.674801 256.044225 \nz\n\" style=\"fill:#05bab6;stroke:#05bab6;stroke-linejoin:miter;stroke-width:1.5;\"/>\n   </g>\n   <g id=\"patch_78\">\n    <path clip-path=\"url(#pee9acba707)\" d=\"M 618.674801 331.038375 \nL 648.217951 331.038375 \nL 648.217951 301.495225 \nL 618.674801 301.495225 \nz\n\" style=\"fill:#6fa4ff;stroke:#6fa4ff;stroke-linejoin:miter;stroke-width:1.5;\"/>\n   </g>\n   <g id=\"patch_79\">\n    <path clip-path=\"url(#pee9acba707)\" d=\"M 678.897376 229.796272 \nC 680.072616 229.796272 681.19988 229.329345 682.030901 228.498324 \nC 682.861921 227.667304 683.328849 226.54004 683.328849 225.3648 \nC 683.328849 224.18956 682.861921 223.062296 682.030901 222.231276 \nC 681.19988 221.400255 680.072616 220.933327 678.897376 220.933327 \nC 677.722136 220.933327 676.594872 221.400255 675.763852 222.231276 \nC 674.932832 223.062296 674.465904 224.18956 674.465904 225.3648 \nC 674.465904 226.54004 674.932832 227.667304 675.763852 228.498324 \nC 676.594872 229.329345 677.722136 229.796272 678.897376 229.796272 \nz\n\" style=\"fill:#bb8bff;stroke:#bb8bff;stroke-linejoin:miter;stroke-width:1.5;\"/>\n   </g>\n   <g id=\"patch_80\">\n    <path clip-path=\"url(#pee9acba707)\" d=\"M 678.897376 275.247272 \nC 680.072616 275.247272 681.19988 274.780345 682.030901 273.949324 \nC 682.861921 273.118304 683.328849 271.99104 683.328849 270.8158 \nC 683.328849 269.64056 682.861921 268.513296 682.030901 267.682276 \nC 681.19988 266.851255 680.072616 266.384327 678.897376 266.384327 \nC 677.722136 266.384327 676.594872 266.851255 675.763852 267.682276 \nC 674.932832 268.513296 674.465904 269.64056 674.465904 270.8158 \nC 674.465904 271.99104 674.932832 273.118304 675.763852 273.949324 \nC 676.594872 274.780345 677.722136 275.247272 678.897376 275.247272 \nz\n\" style=\"fill:#bb8bff;stroke:#bb8bff;stroke-linejoin:miter;stroke-width:1.5;\"/>\n   </g>\n   <g id=\"patch_81\">\n    <path clip-path=\"url(#pee9acba707)\" d=\"M 678.897376 326.606902 \nC 681.639603 326.606902 684.269885 325.517404 686.208933 323.578357 \nC 688.14798 321.639309 689.237479 319.009027 689.237479 316.2668 \nC 689.237479 313.524573 688.14798 310.894291 686.208933 308.955243 \nC 684.269885 307.016196 681.639603 305.926697 678.897376 305.926697 \nC 676.155149 305.926697 673.524867 307.016196 671.58582 308.955243 \nC 669.646772 310.894291 668.557274 313.524573 668.557274 316.2668 \nC 668.557274 319.009027 669.646772 321.639309 671.58582 323.578357 \nC 673.524867 325.517404 676.155149 326.606902 678.897376 326.606902 \nz\n\" style=\"fill:#bb8bff;stroke:#bb8bff;stroke-linejoin:miter;stroke-width:2;\"/>\n   </g>\n   <g id=\"patch_82\">\n    <path clip-path=\"url(#pee9acba707)\" d=\"M 709.576801 240.136375 \nL 739.119951 240.136375 \nL 739.119951 210.593225 \nL 709.576801 210.593225 \nz\n\" style=\"fill:#05bab6;stroke:#05bab6;stroke-linejoin:miter;stroke-width:1.5;\"/>\n   </g>\n   <g id=\"patch_83\">\n    <path clip-path=\"url(#pee9acba707)\" d=\"M 709.576801 285.587375 \nL 739.119951 285.587375 \nL 739.119951 256.044225 \nL 709.576801 256.044225 \nz\n\" style=\"fill:#05bab6;stroke:#05bab6;stroke-linejoin:miter;stroke-width:1.5;\"/>\n   </g>\n   <g id=\"patch_84\">\n    <path clip-path=\"url(#pee9acba707)\" d=\"M 709.576801 331.038375 \nL 739.119951 331.038375 \nL 739.119951 301.495225 \nL 709.576801 301.495225 \nz\n\" style=\"fill:#6fa4ff;stroke:#6fa4ff;stroke-linejoin:miter;stroke-width:1.5;\"/>\n   </g>\n   <g id=\"patch_85\">\n    <path clip-path=\"url(#pee9acba707)\" d=\"M 815.250376 184.345272 \nC 816.425616 184.345272 817.55288 183.878345 818.383901 183.047324 \nC 819.214921 182.216304 819.681849 181.08904 819.681849 179.9138 \nC 819.681849 178.73856 819.214921 177.611296 818.383901 176.780276 \nC 817.55288 175.949255 816.425616 175.482327 815.250376 175.482327 \nC 814.075136 175.482327 812.947872 175.949255 812.116852 176.780276 \nC 811.285832 177.611296 810.818904 178.73856 810.818904 179.9138 \nC 810.818904 181.08904 811.285832 182.216304 812.116852 183.047324 \nC 812.947872 183.878345 814.075136 184.345272 815.250376 184.345272 \nz\n\" style=\"fill:#6fa4ff;stroke:#6fa4ff;stroke-linejoin:miter;stroke-width:1.5;\"/>\n   </g>\n   <g id=\"patch_86\">\n    <path clip-path=\"url(#pee9acba707)\" d=\"M 815.250376 281.155902 \nC 817.992603 281.155902 820.622885 280.066404 822.561933 278.127357 \nC 824.50098 276.188309 825.590479 273.558027 825.590479 270.8158 \nC 825.590479 268.073573 824.50098 265.443291 822.561933 263.504243 \nC 820.622885 261.565196 817.992603 260.475697 815.250376 260.475697 \nC 812.508149 260.475697 809.877867 261.565196 807.93882 263.504243 \nC 805.999772 265.443291 804.910274 268.073573 804.910274 270.8158 \nC 804.910274 273.558027 805.999772 276.188309 807.93882 278.127357 \nC 809.877867 280.066404 812.508149 281.155902 815.250376 281.155902 \nz\n\" style=\"fill:#6fa4ff;stroke:#6fa4ff;stroke-linejoin:miter;stroke-width:2;\"/>\n   </g>\n   <g id=\"patch_87\">\n    <path clip-path=\"url(#pee9acba707)\" d=\"M 860.701376 138.894272 \nC 861.876616 138.894272 863.00388 138.427345 863.834901 137.596324 \nC 864.665921 136.765304 865.132849 135.63804 865.132849 134.4628 \nC 865.132849 133.28756 864.665921 132.160296 863.834901 131.329276 \nC 863.00388 130.498255 861.876616 130.031327 860.701376 130.031327 \nC 859.526136 130.031327 858.398872 130.498255 857.567852 131.329276 \nC 856.736832 132.160296 856.269904 133.28756 856.269904 134.4628 \nC 856.269904 135.63804 856.736832 136.765304 857.567852 137.596324 \nC 858.398872 138.427345 859.526136 138.894272 860.701376 138.894272 \nz\n\" style=\"fill:#6fa4ff;stroke:#6fa4ff;stroke-linejoin:miter;stroke-width:1.5;\"/>\n   </g>\n   <g id=\"patch_88\">\n    <path clip-path=\"url(#pee9acba707)\" d=\"M 860.701376 235.704902 \nC 863.443603 235.704902 866.073885 234.615404 868.012933 232.676357 \nC 869.95198 230.737309 871.041479 228.107027 871.041479 225.3648 \nC 871.041479 222.622573 869.95198 219.992291 868.012933 218.053243 \nC 866.073885 216.114196 863.443603 215.024697 860.701376 215.024697 \nC 857.959149 215.024697 855.328867 216.114196 853.38982 218.053243 \nC 851.450772 219.992291 850.361274 222.622573 850.361274 225.3648 \nC 850.361274 228.107027 851.450772 230.737309 853.38982 232.676357 \nC 855.328867 234.615404 857.959149 235.704902 860.701376 235.704902 \nz\n\" style=\"fill:#6fa4ff;stroke:#6fa4ff;stroke-linejoin:miter;stroke-width:2;\"/>\n   </g>\n   <g id=\"patch_89\">\n    <path clip-path=\"url(#pee9acba707)\" d=\"M 951.603376 184.345272 \nC 952.778616 184.345272 953.90588 183.878345 954.736901 183.047324 \nC 955.567921 182.216304 956.034849 181.08904 956.034849 179.9138 \nC 956.034849 178.73856 955.567921 177.611296 954.736901 176.780276 \nC 953.90588 175.949255 952.778616 175.482327 951.603376 175.482327 \nC 950.428136 175.482327 949.300872 175.949255 948.469852 176.780276 \nC 947.638832 177.611296 947.171904 178.73856 947.171904 179.9138 \nC 947.171904 181.08904 947.638832 182.216304 948.469852 183.047324 \nC 949.300872 183.878345 950.428136 184.345272 951.603376 184.345272 \nz\n\" style=\"fill:#6fa4ff;stroke:#6fa4ff;stroke-linejoin:miter;stroke-width:1.5;\"/>\n   </g>\n   <g id=\"patch_90\">\n    <path clip-path=\"url(#pee9acba707)\" d=\"M 951.603376 144.802902 \nC 954.345603 144.802902 956.975885 143.713404 958.914933 141.774357 \nC 960.85398 139.835309 961.943479 137.205027 961.943479 134.4628 \nC 961.943479 131.720573 960.85398 129.090291 958.914933 127.151243 \nC 956.975885 125.212196 954.345603 124.122697 951.603376 124.122697 \nC 948.861149 124.122697 946.230867 125.212196 944.29182 127.151243 \nC 942.352772 129.090291 941.263274 131.720573 941.263274 134.4628 \nC 941.263274 137.205027 942.352772 139.835309 944.29182 141.774357 \nC 946.230867 143.713404 948.861149 144.802902 951.603376 144.802902 \nz\n\" style=\"fill:#6fa4ff;stroke:#6fa4ff;stroke-linejoin:miter;stroke-width:2;\"/>\n   </g>\n   <g id=\"patch_91\">\n    <path clip-path=\"url(#pee9acba707)\" d=\"M 982.282801 149.234375 \nL 1011.825951 149.234375 \nL 1011.825951 119.691225 \nL 982.282801 119.691225 \nz\n\" style=\"fill:#05bab6;stroke:#05bab6;stroke-linejoin:miter;stroke-width:1.5;\"/>\n   </g>\n   <g id=\"patch_92\">\n    <path clip-path=\"url(#pee9acba707)\" d=\"M 982.282801 194.685375 \nL 1011.825951 194.685375 \nL 1011.825951 165.142225 \nL 982.282801 165.142225 \nz\n\" style=\"fill:#05bab6;stroke:#05bab6;stroke-linejoin:miter;stroke-width:1.5;\"/>\n   </g>\n   <g id=\"patch_93\">\n    <path clip-path=\"url(#pee9acba707)\" d=\"M 1087.956376 93.443272 \nC 1089.131616 93.443272 1090.25888 92.976345 1091.089901 92.145324 \nC 1091.920921 91.314304 1092.387849 90.18704 1092.387849 89.0118 \nC 1092.387849 87.83656 1091.920921 86.709296 1091.089901 85.878276 \nC 1090.25888 85.047255 1089.131616 84.580327 1087.956376 84.580327 \nC 1086.781136 84.580327 1085.653872 85.047255 1084.822852 85.878276 \nC 1083.991832 86.709296 1083.524904 87.83656 1083.524904 89.0118 \nC 1083.524904 90.18704 1083.991832 91.314304 1084.822852 92.145324 \nC 1085.653872 92.976345 1086.781136 93.443272 1087.956376 93.443272 \nz\n\" style=\"fill:#6fa4ff;stroke:#6fa4ff;stroke-linejoin:miter;stroke-width:1.5;\"/>\n   </g>\n   <g id=\"patch_94\">\n    <path clip-path=\"url(#pee9acba707)\" d=\"M 1087.956376 190.253902 \nC 1090.698603 190.253902 1093.328885 189.164404 1095.267933 187.225357 \nC 1097.20698 185.286309 1098.296479 182.656027 1098.296479 179.9138 \nC 1098.296479 177.171573 1097.20698 174.541291 1095.267933 172.602243 \nC 1093.328885 170.663196 1090.698603 169.573697 1087.956376 169.573697 \nC 1085.214149 169.573697 1082.583867 170.663196 1080.64482 172.602243 \nC 1078.705772 174.541291 1077.616274 177.171573 1077.616274 179.9138 \nC 1077.616274 182.656027 1078.705772 185.286309 1080.64482 187.225357 \nC 1082.583867 189.164404 1085.214149 190.253902 1087.956376 190.253902 \nz\n\" style=\"fill:#6fa4ff;stroke:#6fa4ff;stroke-linejoin:miter;stroke-width:2;\"/>\n   </g>\n   <g id=\"patch_95\">\n    <path clip-path=\"url(#pee9acba707)\" d=\"M 1133.407376 47.992272 \nC 1134.582616 47.992272 1135.70988 47.525345 1136.540901 46.694324 \nC 1137.371921 45.863304 1137.838849 44.73604 1137.838849 43.5608 \nC 1137.838849 42.38556 1137.371921 41.258296 1136.540901 40.427276 \nC 1135.70988 39.596255 1134.582616 39.129327 1133.407376 39.129327 \nC 1132.232136 39.129327 1131.104872 39.596255 1130.273852 40.427276 \nC 1129.442832 41.258296 1128.975904 42.38556 1128.975904 43.5608 \nC 1128.975904 44.73604 1129.442832 45.863304 1130.273852 46.694324 \nC 1131.104872 47.525345 1132.232136 47.992272 1133.407376 47.992272 \nz\n\" style=\"fill:#6fa4ff;stroke:#6fa4ff;stroke-linejoin:miter;stroke-width:1.5;\"/>\n   </g>\n   <g id=\"patch_96\">\n    <path clip-path=\"url(#pee9acba707)\" d=\"M 1133.407376 144.802902 \nC 1136.149603 144.802902 1138.779885 143.713404 1140.718933 141.774357 \nC 1142.65798 139.835309 1143.747479 137.205027 1143.747479 134.4628 \nC 1143.747479 131.720573 1142.65798 129.090291 1140.718933 127.151243 \nC 1138.779885 125.212196 1136.149603 124.122697 1133.407376 124.122697 \nC 1130.665149 124.122697 1128.034867 125.212196 1126.09582 127.151243 \nC 1124.156772 129.090291 1123.067274 131.720573 1123.067274 134.4628 \nC 1123.067274 137.205027 1124.156772 139.835309 1126.09582 141.774357 \nC 1128.034867 143.713404 1130.665149 144.802902 1133.407376 144.802902 \nz\n\" style=\"fill:#6fa4ff;stroke:#6fa4ff;stroke-linejoin:miter;stroke-width:2;\"/>\n   </g>\n   <g id=\"patch_97\">\n    <path clip-path=\"url(#pee9acba707)\" d=\"M 79.144161 512.842375 \nL 142.375592 512.842375 \nL 142.375592 437.848225 \nL 79.144161 437.848225 \nz\n\" style=\"fill:#bb8bff;stroke:#bb8bff;stroke-linejoin:miter;stroke-width:1.5;\"/>\n   </g>\n   <g id=\"patch_98\">\n    <path clip-path=\"url(#pee9acba707)\" d=\"M 209.615801 467.391375 \nL 239.158951 467.391375 \nL 239.158951 437.848225 \nL 209.615801 437.848225 \nz\n\" style=\"stroke:#000000;stroke-linejoin:miter;stroke-width:1.5;\"/>\n   </g>\n   <g id=\"patch_99\">\n    <path clip-path=\"url(#pee9acba707)\" d=\"M 234.727479 457.051272 \nC 234.727479 454.309959 233.637335 451.678118 231.698933 449.739716 \nC 229.760531 447.801314 227.12869 446.71117 224.387376 446.71117 \nC 221.646062 446.71117 219.014221 447.801314 217.07582 449.739716 \nC 215.137418 451.678118 214.047274 454.309959 214.047274 457.051272 \n\" style=\"fill:none;stroke:#ffffff;stroke-linejoin:miter;stroke-width:2;\"/>\n   </g>\n   <g id=\"patch_100\">\n    <path clip-path=\"url(#pee9acba707)\" d=\"M 255.066801 512.842375 \nL 284.609951 512.842375 \nL 284.609951 483.299225 \nL 255.066801 483.299225 \nz\n\" style=\"stroke:#000000;stroke-linejoin:miter;stroke-width:1.5;\"/>\n   </g>\n   <g id=\"patch_101\">\n    <path clip-path=\"url(#pee9acba707)\" d=\"M 280.178479 502.502272 \nC 280.178479 499.760959 279.088335 497.129118 277.149933 495.190716 \nC 275.211531 493.252314 272.57969 492.16217 269.838376 492.16217 \nC 267.097062 492.16217 264.465221 493.252314 262.52682 495.190716 \nC 260.588418 497.129118 259.498274 499.760959 259.498274 502.502272 \n\" style=\"fill:none;stroke:#ffffff;stroke-linejoin:miter;stroke-width:2;\"/>\n   </g>\n   <g id=\"line2d_48\">\n    <path clip-path=\"url(#pee9acba707)\" d=\"M 224.387376 457.051272 \nL 234.727479 446.71117 \n\" style=\"fill:none;stroke:#ffffff;stroke-linecap:square;stroke-width:2;\"/>\n   </g>\n   <g id=\"line2d_49\">\n    <path clip-path=\"url(#pee9acba707)\" d=\"M 269.838376 502.502272 \nL 280.178479 492.16217 \n\" style=\"fill:none;stroke:#ffffff;stroke-linecap:square;stroke-width:2;\"/>\n   </g>\n   <g id=\"line2d_50\">\n    <path clip-path=\"url(#pee9acba707)\" d=\"M 133.485376 20.8353 \nL 133.485376 66.2863 \n\" style=\"fill:none;stroke:#000000;stroke-dasharray:3.7,1.6;stroke-dashoffset:0;\"/>\n   </g>\n   <g id=\"line2d_51\">\n    <path clip-path=\"url(#pee9acba707)\" d=\"M 133.485376 66.2863 \nL 133.485376 111.7373 \n\" style=\"fill:none;stroke:#000000;stroke-dasharray:3.7,1.6;stroke-dashoffset:0;\"/>\n   </g>\n   <g id=\"line2d_52\">\n    <path clip-path=\"url(#pee9acba707)\" d=\"M 133.485376 111.7373 \nL 133.485376 157.1883 \n\" style=\"fill:none;stroke:#000000;stroke-dasharray:3.7,1.6;stroke-dashoffset:0;\"/>\n   </g>\n   <g id=\"line2d_53\">\n    <path clip-path=\"url(#pee9acba707)\" d=\"M 133.485376 157.1883 \nL 133.485376 202.6393 \n\" style=\"fill:none;stroke:#000000;stroke-dasharray:3.7,1.6;stroke-dashoffset:0;\"/>\n   </g>\n   <g id=\"line2d_54\">\n    <path clip-path=\"url(#pee9acba707)\" d=\"M 133.485376 202.6393 \nL 133.485376 248.0903 \n\" style=\"fill:none;stroke:#000000;stroke-dasharray:3.7,1.6;stroke-dashoffset:0;\"/>\n   </g>\n   <g id=\"line2d_55\">\n    <path clip-path=\"url(#pee9acba707)\" d=\"M 133.485376 248.0903 \nL 133.485376 293.5413 \n\" style=\"fill:none;stroke:#000000;stroke-dasharray:3.7,1.6;stroke-dashoffset:0;\"/>\n   </g>\n   <g id=\"line2d_56\">\n    <path clip-path=\"url(#pee9acba707)\" d=\"M 133.485376 293.5413 \nL 133.485376 338.9923 \n\" style=\"fill:none;stroke:#000000;stroke-dasharray:3.7,1.6;stroke-dashoffset:0;\"/>\n   </g>\n   <g id=\"line2d_57\">\n    <path clip-path=\"url(#pee9acba707)\" d=\"M 178.936376 140.37143 \nL 178.936376 128.55417 \n\" style=\"fill:none;stroke:#ffffff;stroke-linecap:square;stroke-width:2;\"/>\n   </g>\n   <g id=\"line2d_58\">\n    <path clip-path=\"url(#pee9acba707)\" d=\"M 173.027746 134.4628 \nL 184.845006 134.4628 \n\" style=\"fill:none;stroke:#ffffff;stroke-linecap:square;stroke-width:2;\"/>\n   </g>\n   <g id=\"line2d_59\">\n    <path clip-path=\"url(#pee9acba707)\" d=\"M 224.387376 185.82243 \nL 224.387376 174.00517 \n\" style=\"fill:none;stroke:#ffffff;stroke-linecap:square;stroke-width:2;\"/>\n   </g>\n   <g id=\"line2d_60\">\n    <path clip-path=\"url(#pee9acba707)\" d=\"M 218.478746 179.9138 \nL 230.296006 179.9138 \n\" style=\"fill:none;stroke:#ffffff;stroke-linecap:square;stroke-width:2;\"/>\n   </g>\n   <g id=\"line2d_61\">\n    <path clip-path=\"url(#pee9acba707)\" d=\"M 269.838376 20.8353 \nL 269.838376 66.2863 \n\" style=\"fill:none;stroke:#000000;stroke-dasharray:3.7,1.6;stroke-dashoffset:0;\"/>\n   </g>\n   <g id=\"line2d_62\">\n    <path clip-path=\"url(#pee9acba707)\" d=\"M 269.838376 66.2863 \nL 269.838376 111.7373 \n\" style=\"fill:none;stroke:#000000;stroke-dasharray:3.7,1.6;stroke-dashoffset:0;\"/>\n   </g>\n   <g id=\"line2d_63\">\n    <path clip-path=\"url(#pee9acba707)\" d=\"M 269.838376 111.7373 \nL 269.838376 157.1883 \n\" style=\"fill:none;stroke:#000000;stroke-dasharray:3.7,1.6;stroke-dashoffset:0;\"/>\n   </g>\n   <g id=\"line2d_64\">\n    <path clip-path=\"url(#pee9acba707)\" d=\"M 269.838376 157.1883 \nL 269.838376 202.6393 \n\" style=\"fill:none;stroke:#000000;stroke-dasharray:3.7,1.6;stroke-dashoffset:0;\"/>\n   </g>\n   <g id=\"line2d_65\">\n    <path clip-path=\"url(#pee9acba707)\" d=\"M 269.838376 202.6393 \nL 269.838376 248.0903 \n\" style=\"fill:none;stroke:#000000;stroke-dasharray:3.7,1.6;stroke-dashoffset:0;\"/>\n   </g>\n   <g id=\"line2d_66\">\n    <path clip-path=\"url(#pee9acba707)\" d=\"M 269.838376 248.0903 \nL 269.838376 293.5413 \n\" style=\"fill:none;stroke:#000000;stroke-dasharray:3.7,1.6;stroke-dashoffset:0;\"/>\n   </g>\n   <g id=\"line2d_67\">\n    <path clip-path=\"url(#pee9acba707)\" d=\"M 269.838376 293.5413 \nL 269.838376 338.9923 \n\" style=\"fill:none;stroke:#000000;stroke-dasharray:3.7,1.6;stroke-dashoffset:0;\"/>\n   </g>\n   <g id=\"line2d_68\">\n    <path clip-path=\"url(#pee9acba707)\" d=\"M 406.191376 140.37143 \nL 406.191376 128.55417 \n\" style=\"fill:none;stroke:#ffffff;stroke-linecap:square;stroke-width:2;\"/>\n   </g>\n   <g id=\"line2d_69\">\n    <path clip-path=\"url(#pee9acba707)\" d=\"M 400.282746 134.4628 \nL 412.100006 134.4628 \n\" style=\"fill:none;stroke:#ffffff;stroke-linecap:square;stroke-width:2;\"/>\n   </g>\n   <g id=\"line2d_70\">\n    <path clip-path=\"url(#pee9acba707)\" d=\"M 451.642376 20.8353 \nL 451.642376 66.2863 \n\" style=\"fill:none;stroke:#000000;stroke-dasharray:3.7,1.6;stroke-dashoffset:0;\"/>\n   </g>\n   <g id=\"line2d_71\">\n    <path clip-path=\"url(#pee9acba707)\" d=\"M 451.642376 66.2863 \nL 451.642376 111.7373 \n\" style=\"fill:none;stroke:#000000;stroke-dasharray:3.7,1.6;stroke-dashoffset:0;\"/>\n   </g>\n   <g id=\"line2d_72\">\n    <path clip-path=\"url(#pee9acba707)\" d=\"M 451.642376 111.7373 \nL 451.642376 157.1883 \n\" style=\"fill:none;stroke:#000000;stroke-dasharray:3.7,1.6;stroke-dashoffset:0;\"/>\n   </g>\n   <g id=\"line2d_73\">\n    <path clip-path=\"url(#pee9acba707)\" d=\"M 451.642376 157.1883 \nL 451.642376 202.6393 \n\" style=\"fill:none;stroke:#000000;stroke-dasharray:3.7,1.6;stroke-dashoffset:0;\"/>\n   </g>\n   <g id=\"line2d_74\">\n    <path clip-path=\"url(#pee9acba707)\" d=\"M 451.642376 202.6393 \nL 451.642376 248.0903 \n\" style=\"fill:none;stroke:#000000;stroke-dasharray:3.7,1.6;stroke-dashoffset:0;\"/>\n   </g>\n   <g id=\"line2d_75\">\n    <path clip-path=\"url(#pee9acba707)\" d=\"M 451.642376 248.0903 \nL 451.642376 293.5413 \n\" style=\"fill:none;stroke:#000000;stroke-dasharray:3.7,1.6;stroke-dashoffset:0;\"/>\n   </g>\n   <g id=\"line2d_76\">\n    <path clip-path=\"url(#pee9acba707)\" d=\"M 451.642376 293.5413 \nL 451.642376 338.9923 \n\" style=\"fill:none;stroke:#000000;stroke-dasharray:3.7,1.6;stroke-dashoffset:0;\"/>\n   </g>\n   <g id=\"line2d_77\">\n    <path clip-path=\"url(#pee9acba707)\" d=\"M 497.093376 231.27343 \nL 497.093376 219.45617 \n\" style=\"fill:none;stroke:#ffffff;stroke-linecap:square;stroke-width:2;\"/>\n   </g>\n   <g id=\"line2d_78\">\n    <path clip-path=\"url(#pee9acba707)\" d=\"M 491.184746 225.3648 \nL 503.002006 225.3648 \n\" style=\"fill:none;stroke:#ffffff;stroke-linecap:square;stroke-width:2;\"/>\n   </g>\n   <g id=\"line2d_79\">\n    <path clip-path=\"url(#pee9acba707)\" d=\"M 542.544376 276.72443 \nL 542.544376 264.90717 \n\" style=\"fill:none;stroke:#ffffff;stroke-linecap:square;stroke-width:2;\"/>\n   </g>\n   <g id=\"line2d_80\">\n    <path clip-path=\"url(#pee9acba707)\" d=\"M 536.635746 270.8158 \nL 548.453006 270.8158 \n\" style=\"fill:none;stroke:#ffffff;stroke-linecap:square;stroke-width:2;\"/>\n   </g>\n   <g id=\"line2d_81\">\n    <path clip-path=\"url(#pee9acba707)\" d=\"M 587.995376 20.8353 \nL 587.995376 66.2863 \n\" style=\"fill:none;stroke:#000000;stroke-dasharray:3.7,1.6;stroke-dashoffset:0;\"/>\n   </g>\n   <g id=\"line2d_82\">\n    <path clip-path=\"url(#pee9acba707)\" d=\"M 587.995376 66.2863 \nL 587.995376 111.7373 \n\" style=\"fill:none;stroke:#000000;stroke-dasharray:3.7,1.6;stroke-dashoffset:0;\"/>\n   </g>\n   <g id=\"line2d_83\">\n    <path clip-path=\"url(#pee9acba707)\" d=\"M 587.995376 111.7373 \nL 587.995376 157.1883 \n\" style=\"fill:none;stroke:#000000;stroke-dasharray:3.7,1.6;stroke-dashoffset:0;\"/>\n   </g>\n   <g id=\"line2d_84\">\n    <path clip-path=\"url(#pee9acba707)\" d=\"M 587.995376 157.1883 \nL 587.995376 202.6393 \n\" style=\"fill:none;stroke:#000000;stroke-dasharray:3.7,1.6;stroke-dashoffset:0;\"/>\n   </g>\n   <g id=\"line2d_85\">\n    <path clip-path=\"url(#pee9acba707)\" d=\"M 587.995376 202.6393 \nL 587.995376 248.0903 \n\" style=\"fill:none;stroke:#000000;stroke-dasharray:3.7,1.6;stroke-dashoffset:0;\"/>\n   </g>\n   <g id=\"line2d_86\">\n    <path clip-path=\"url(#pee9acba707)\" d=\"M 587.995376 248.0903 \nL 587.995376 293.5413 \n\" style=\"fill:none;stroke:#000000;stroke-dasharray:3.7,1.6;stroke-dashoffset:0;\"/>\n   </g>\n   <g id=\"line2d_87\">\n    <path clip-path=\"url(#pee9acba707)\" d=\"M 587.995376 293.5413 \nL 587.995376 338.9923 \n\" style=\"fill:none;stroke:#000000;stroke-dasharray:3.7,1.6;stroke-dashoffset:0;\"/>\n   </g>\n   <g id=\"line2d_88\">\n    <path clip-path=\"url(#pee9acba707)\" d=\"M 678.897376 322.17543 \nL 678.897376 310.35817 \n\" style=\"fill:none;stroke:#ffffff;stroke-linecap:square;stroke-width:2;\"/>\n   </g>\n   <g id=\"line2d_89\">\n    <path clip-path=\"url(#pee9acba707)\" d=\"M 672.988746 316.2668 \nL 684.806006 316.2668 \n\" style=\"fill:none;stroke:#ffffff;stroke-linecap:square;stroke-width:2;\"/>\n   </g>\n   <g id=\"line2d_90\">\n    <path clip-path=\"url(#pee9acba707)\" d=\"M 769.799376 20.8353 \nL 769.799376 66.2863 \n\" style=\"fill:none;stroke:#000000;stroke-dasharray:3.7,1.6;stroke-dashoffset:0;\"/>\n   </g>\n   <g id=\"line2d_91\">\n    <path clip-path=\"url(#pee9acba707)\" d=\"M 769.799376 66.2863 \nL 769.799376 111.7373 \n\" style=\"fill:none;stroke:#000000;stroke-dasharray:3.7,1.6;stroke-dashoffset:0;\"/>\n   </g>\n   <g id=\"line2d_92\">\n    <path clip-path=\"url(#pee9acba707)\" d=\"M 769.799376 111.7373 \nL 769.799376 157.1883 \n\" style=\"fill:none;stroke:#000000;stroke-dasharray:3.7,1.6;stroke-dashoffset:0;\"/>\n   </g>\n   <g id=\"line2d_93\">\n    <path clip-path=\"url(#pee9acba707)\" d=\"M 769.799376 157.1883 \nL 769.799376 202.6393 \n\" style=\"fill:none;stroke:#000000;stroke-dasharray:3.7,1.6;stroke-dashoffset:0;\"/>\n   </g>\n   <g id=\"line2d_94\">\n    <path clip-path=\"url(#pee9acba707)\" d=\"M 769.799376 202.6393 \nL 769.799376 248.0903 \n\" style=\"fill:none;stroke:#000000;stroke-dasharray:3.7,1.6;stroke-dashoffset:0;\"/>\n   </g>\n   <g id=\"line2d_95\">\n    <path clip-path=\"url(#pee9acba707)\" d=\"M 769.799376 248.0903 \nL 769.799376 293.5413 \n\" style=\"fill:none;stroke:#000000;stroke-dasharray:3.7,1.6;stroke-dashoffset:0;\"/>\n   </g>\n   <g id=\"line2d_96\">\n    <path clip-path=\"url(#pee9acba707)\" d=\"M 769.799376 293.5413 \nL 769.799376 338.9923 \n\" style=\"fill:none;stroke:#000000;stroke-dasharray:3.7,1.6;stroke-dashoffset:0;\"/>\n   </g>\n   <g id=\"line2d_97\">\n    <path clip-path=\"url(#pee9acba707)\" d=\"M 815.250376 276.72443 \nL 815.250376 264.90717 \n\" style=\"fill:none;stroke:#ffffff;stroke-linecap:square;stroke-width:2;\"/>\n   </g>\n   <g id=\"line2d_98\">\n    <path clip-path=\"url(#pee9acba707)\" d=\"M 809.341746 270.8158 \nL 821.159006 270.8158 \n\" style=\"fill:none;stroke:#ffffff;stroke-linecap:square;stroke-width:2;\"/>\n   </g>\n   <g id=\"line2d_99\">\n    <path clip-path=\"url(#pee9acba707)\" d=\"M 860.701376 231.27343 \nL 860.701376 219.45617 \n\" style=\"fill:none;stroke:#ffffff;stroke-linecap:square;stroke-width:2;\"/>\n   </g>\n   <g id=\"line2d_100\">\n    <path clip-path=\"url(#pee9acba707)\" d=\"M 854.792746 225.3648 \nL 866.610006 225.3648 \n\" style=\"fill:none;stroke:#ffffff;stroke-linecap:square;stroke-width:2;\"/>\n   </g>\n   <g id=\"line2d_101\">\n    <path clip-path=\"url(#pee9acba707)\" d=\"M 906.152376 20.8353 \nL 906.152376 66.2863 \n\" style=\"fill:none;stroke:#000000;stroke-dasharray:3.7,1.6;stroke-dashoffset:0;\"/>\n   </g>\n   <g id=\"line2d_102\">\n    <path clip-path=\"url(#pee9acba707)\" d=\"M 906.152376 66.2863 \nL 906.152376 111.7373 \n\" style=\"fill:none;stroke:#000000;stroke-dasharray:3.7,1.6;stroke-dashoffset:0;\"/>\n   </g>\n   <g id=\"line2d_103\">\n    <path clip-path=\"url(#pee9acba707)\" d=\"M 906.152376 111.7373 \nL 906.152376 157.1883 \n\" style=\"fill:none;stroke:#000000;stroke-dasharray:3.7,1.6;stroke-dashoffset:0;\"/>\n   </g>\n   <g id=\"line2d_104\">\n    <path clip-path=\"url(#pee9acba707)\" d=\"M 906.152376 157.1883 \nL 906.152376 202.6393 \n\" style=\"fill:none;stroke:#000000;stroke-dasharray:3.7,1.6;stroke-dashoffset:0;\"/>\n   </g>\n   <g id=\"line2d_105\">\n    <path clip-path=\"url(#pee9acba707)\" d=\"M 906.152376 202.6393 \nL 906.152376 248.0903 \n\" style=\"fill:none;stroke:#000000;stroke-dasharray:3.7,1.6;stroke-dashoffset:0;\"/>\n   </g>\n   <g id=\"line2d_106\">\n    <path clip-path=\"url(#pee9acba707)\" d=\"M 906.152376 248.0903 \nL 906.152376 293.5413 \n\" style=\"fill:none;stroke:#000000;stroke-dasharray:3.7,1.6;stroke-dashoffset:0;\"/>\n   </g>\n   <g id=\"line2d_107\">\n    <path clip-path=\"url(#pee9acba707)\" d=\"M 906.152376 293.5413 \nL 906.152376 338.9923 \n\" style=\"fill:none;stroke:#000000;stroke-dasharray:3.7,1.6;stroke-dashoffset:0;\"/>\n   </g>\n   <g id=\"line2d_108\">\n    <path clip-path=\"url(#pee9acba707)\" d=\"M 951.603376 140.37143 \nL 951.603376 128.55417 \n\" style=\"fill:none;stroke:#ffffff;stroke-linecap:square;stroke-width:2;\"/>\n   </g>\n   <g id=\"line2d_109\">\n    <path clip-path=\"url(#pee9acba707)\" d=\"M 945.694746 134.4628 \nL 957.512006 134.4628 \n\" style=\"fill:none;stroke:#ffffff;stroke-linecap:square;stroke-width:2;\"/>\n   </g>\n   <g id=\"line2d_110\">\n    <path clip-path=\"url(#pee9acba707)\" d=\"M 1087.956376 185.82243 \nL 1087.956376 174.00517 \n\" style=\"fill:none;stroke:#ffffff;stroke-linecap:square;stroke-width:2;\"/>\n   </g>\n   <g id=\"line2d_111\">\n    <path clip-path=\"url(#pee9acba707)\" d=\"M 1082.047746 179.9138 \nL 1093.865006 179.9138 \n\" style=\"fill:none;stroke:#ffffff;stroke-linecap:square;stroke-width:2;\"/>\n   </g>\n   <g id=\"line2d_112\">\n    <path clip-path=\"url(#pee9acba707)\" d=\"M 1133.407376 140.37143 \nL 1133.407376 128.55417 \n\" style=\"fill:none;stroke:#ffffff;stroke-linecap:square;stroke-width:2;\"/>\n   </g>\n   <g id=\"line2d_113\">\n    <path clip-path=\"url(#pee9acba707)\" d=\"M 1127.498746 134.4628 \nL 1139.316006 134.4628 \n\" style=\"fill:none;stroke:#ffffff;stroke-linecap:square;stroke-width:2;\"/>\n   </g>\n   <g id=\"line2d_114\">\n    <path clip-path=\"url(#pee9acba707)\" d=\"M 1178.858376 20.8353 \nL 1178.858376 66.2863 \n\" style=\"fill:none;stroke:#000000;stroke-dasharray:3.7,1.6;stroke-dashoffset:0;\"/>\n   </g>\n   <g id=\"line2d_115\">\n    <path clip-path=\"url(#pee9acba707)\" d=\"M 1178.858376 66.2863 \nL 1178.858376 111.7373 \n\" style=\"fill:none;stroke:#000000;stroke-dasharray:3.7,1.6;stroke-dashoffset:0;\"/>\n   </g>\n   <g id=\"line2d_116\">\n    <path clip-path=\"url(#pee9acba707)\" d=\"M 1178.858376 111.7373 \nL 1178.858376 157.1883 \n\" style=\"fill:none;stroke:#000000;stroke-dasharray:3.7,1.6;stroke-dashoffset:0;\"/>\n   </g>\n   <g id=\"line2d_117\">\n    <path clip-path=\"url(#pee9acba707)\" d=\"M 1178.858376 157.1883 \nL 1178.858376 202.6393 \n\" style=\"fill:none;stroke:#000000;stroke-dasharray:3.7,1.6;stroke-dashoffset:0;\"/>\n   </g>\n   <g id=\"line2d_118\">\n    <path clip-path=\"url(#pee9acba707)\" d=\"M 1178.858376 202.6393 \nL 1178.858376 248.0903 \n\" style=\"fill:none;stroke:#000000;stroke-dasharray:3.7,1.6;stroke-dashoffset:0;\"/>\n   </g>\n   <g id=\"line2d_119\">\n    <path clip-path=\"url(#pee9acba707)\" d=\"M 1178.858376 248.0903 \nL 1178.858376 293.5413 \n\" style=\"fill:none;stroke:#000000;stroke-dasharray:3.7,1.6;stroke-dashoffset:0;\"/>\n   </g>\n   <g id=\"line2d_120\">\n    <path clip-path=\"url(#pee9acba707)\" d=\"M 1178.858376 293.5413 \nL 1178.858376 338.9923 \n\" style=\"fill:none;stroke:#000000;stroke-dasharray:3.7,1.6;stroke-dashoffset:0;\"/>\n   </g>\n   <g id=\"line2d_121\">\n    <path clip-path=\"url(#pee9acba707)\" d=\"M 178.936376 429.8943 \nL 178.936376 475.3453 \n\" style=\"fill:none;stroke:#000000;stroke-dasharray:3.7,1.6;stroke-dashoffset:0;\"/>\n   </g>\n   <g id=\"line2d_122\">\n    <path clip-path=\"url(#pee9acba707)\" d=\"M 178.936376 475.3453 \nL 178.936376 520.7963 \n\" style=\"fill:none;stroke:#000000;stroke-dasharray:3.7,1.6;stroke-dashoffset:0;\"/>\n   </g>\n   <g id=\"line2d_123\">\n    <path clip-path=\"url(#pee9acba707)\" d=\"M 178.936376 520.7963 \nL 178.936376 566.2473 \n\" style=\"fill:none;stroke:#000000;stroke-dasharray:3.7,1.6;stroke-dashoffset:0;\"/>\n   </g>\n   <g id=\"line2d_124\">\n    <path clip-path=\"url(#pee9acba707)\" d=\"M 178.936376 566.2473 \nL 178.936376 611.6983 \n\" style=\"fill:none;stroke:#000000;stroke-dasharray:3.7,1.6;stroke-dashoffset:0;\"/>\n   </g>\n   <g id=\"line2d_125\">\n    <path clip-path=\"url(#pee9acba707)\" d=\"M 178.936376 611.6983 \nL 178.936376 657.1493 \n\" style=\"fill:none;stroke:#000000;stroke-dasharray:3.7,1.6;stroke-dashoffset:0;\"/>\n   </g>\n   <g id=\"line2d_126\">\n    <path clip-path=\"url(#pee9acba707)\" d=\"M 178.936376 657.1493 \nL 178.936376 702.6003 \n\" style=\"fill:none;stroke:#000000;stroke-dasharray:3.7,1.6;stroke-dashoffset:0;\"/>\n   </g>\n   <g id=\"line2d_127\">\n    <path clip-path=\"url(#pee9acba707)\" d=\"M 178.936376 702.6003 \nL 178.936376 748.0513 \n\" style=\"fill:none;stroke:#000000;stroke-dasharray:3.7,1.6;stroke-dashoffset:0;\"/>\n   </g>\n   <g id=\"text_1\">\n    <g clip-path=\"url(#pee9acba707)\">\n     <!-- H -->\n     <defs>\n      <path d=\"M 9.8125 72.90625 \nL 19.671875 72.90625 \nL 19.671875 43.015625 \nL 55.515625 43.015625 \nL 55.515625 72.90625 \nL 65.375 72.90625 \nL 65.375 0 \nL 55.515625 0 \nL 55.515625 34.71875 \nL 19.671875 34.71875 \nL 19.671875 0 \nL 9.8125 0 \nz\n\" id=\"DejaVuSans-72\"/>\n     </defs>\n     <g transform=\"translate(83.146173 47.147987)scale(0.13 -0.13)\">\n      <use xlink:href=\"#DejaVuSans-72\"/>\n     </g>\n    </g>\n   </g>\n   <g id=\"text_2\">\n    <g clip-path=\"url(#pee9acba707)\">\n     <!-- H -->\n     <g transform=\"translate(83.146173 92.598987)scale(0.13 -0.13)\">\n      <use xlink:href=\"#DejaVuSans-72\"/>\n     </g>\n    </g>\n   </g>\n   <g id=\"text_3\">\n    <g clip-path=\"url(#pee9acba707)\">\n     <!-- $|\\psi\\rangle$ -->\n     <defs>\n      <path d=\"M 21 76.421875 \nL 21 -23.578125 \nL 12.703125 -23.578125 \nL 12.703125 76.421875 \nz\n\" id=\"DejaVuSans-124\"/>\n      <path d=\"M 24.859375 -1.21875 \nQ 13.921875 0.59375 9.625 5.328125 \nQ 4.34375 11.140625 6.640625 23 \nL 12.796875 54.6875 \nL 21.875 54.6875 \nL 15.765625 23.34375 \nQ 14.0625 14.40625 17.484375 10.6875 \nQ 20.515625 7.46875 26.421875 6.78125 \nL 35.6875 54.6875 \nL 44.625 54.6875 \nL 35.359375 6.84375 \nQ 41.890625 7.515625 45.75 10.75 \nQ 50.734375 14.84375 52.390625 23.390625 \nL 58.453125 54.6875 \nL 67.53125 54.6875 \nL 61.375 23.046875 \nQ 58.984375 10.75 51.5625 5.375 \nQ 44.875 0.53125 33.796875 -1.171875 \nL 29.984375 -20.796875 \nL 21.046875 -20.796875 \nz\n\" id=\"DejaVuSans-Oblique-968\"/>\n      <path d=\"M 30.078125 31.34375 \nL 16.3125 -13.1875 \nL 8.015625 -13.1875 \nL 21.78125 31.34375 \nL 8.015625 75.875 \nL 16.3125 75.875 \nz\n\" id=\"DejaVuSans-10217\"/>\n     </defs>\n     <g transform=\"translate(78.999376 269.829327)scale(0.13 -0.13)\">\n      <use transform=\"translate(0 0.578125)\" xlink:href=\"#DejaVuSans-124\"/>\n      <use transform=\"translate(33.691406 0.578125)\" xlink:href=\"#DejaVuSans-Oblique-968\"/>\n      <use transform=\"translate(99.658203 0.578125)\" xlink:href=\"#DejaVuSans-10217\"/>\n     </g>\n    </g>\n   </g>\n   <g id=\"text_4\">\n    <g clip-path=\"url(#pee9acba707)\">\n     <!-- $[0, 1]$ -->\n     <defs>\n      <path d=\"M 8.59375 75.984375 \nL 29.296875 75.984375 \nL 29.296875 69 \nL 17.578125 69 \nL 17.578125 -6.203125 \nL 29.296875 -6.203125 \nL 29.296875 -13.1875 \nL 8.59375 -13.1875 \nz\n\" id=\"DejaVuSans-91\"/>\n      <path d=\"M 31.78125 66.40625 \nQ 24.171875 66.40625 20.328125 58.90625 \nQ 16.5 51.421875 16.5 36.375 \nQ 16.5 21.390625 20.328125 13.890625 \nQ 24.171875 6.390625 31.78125 6.390625 \nQ 39.453125 6.390625 43.28125 13.890625 \nQ 47.125 21.390625 47.125 36.375 \nQ 47.125 51.421875 43.28125 58.90625 \nQ 39.453125 66.40625 31.78125 66.40625 \nz\nM 31.78125 74.21875 \nQ 44.046875 74.21875 50.515625 64.515625 \nQ 56.984375 54.828125 56.984375 36.375 \nQ 56.984375 17.96875 50.515625 8.265625 \nQ 44.046875 -1.421875 31.78125 -1.421875 \nQ 19.53125 -1.421875 13.0625 8.265625 \nQ 6.59375 17.96875 6.59375 36.375 \nQ 6.59375 54.828125 13.0625 64.515625 \nQ 19.53125 74.21875 31.78125 74.21875 \nz\n\" id=\"DejaVuSans-48\"/>\n      <path d=\"M 11.71875 12.40625 \nL 22.015625 12.40625 \nL 22.015625 4 \nL 14.015625 -11.625 \nL 7.71875 -11.625 \nL 11.71875 4 \nz\n\" id=\"DejaVuSans-44\"/>\n      <path d=\"M 12.40625 8.296875 \nL 28.515625 8.296875 \nL 28.515625 63.921875 \nL 10.984375 60.40625 \nL 10.984375 69.390625 \nL 28.421875 72.90625 \nL 38.28125 72.90625 \nL 38.28125 8.296875 \nL 54.390625 8.296875 \nL 54.390625 0 \nL 12.40625 0 \nz\n\" id=\"DejaVuSans-49\"/>\n      <path d=\"M 30.421875 75.984375 \nL 30.421875 -13.1875 \nL 9.71875 -13.1875 \nL 9.71875 -6.203125 \nL 21.390625 -6.203125 \nL 21.390625 69 \nL 9.71875 69 \nL 9.71875 75.984375 \nz\n\" id=\"DejaVuSans-93\"/>\n     </defs>\n     <g transform=\"translate(77.754376 281.886245)scale(0.08 -0.08)\">\n      <use transform=\"translate(0 0.015625)\" xlink:href=\"#DejaVuSans-91\"/>\n      <use transform=\"translate(39.013672 0.015625)\" xlink:href=\"#DejaVuSans-48\"/>\n      <use transform=\"translate(102.636719 0.015625)\" xlink:href=\"#DejaVuSans-44\"/>\n      <use transform=\"translate(153.90625 0.015625)\" xlink:href=\"#DejaVuSans-49\"/>\n      <use transform=\"translate(217.529297 0.015625)\" xlink:href=\"#DejaVuSans-93\"/>\n     </g>\n    </g>\n   </g>\n   <g id=\"text_5\">\n    <g clip-path=\"url(#pee9acba707)\">\n     <!-- $|\\psi\\rangle$ -->\n     <g transform=\"translate(78.999376 315.280327)scale(0.13 -0.13)\">\n      <use transform=\"translate(0 0.578125)\" xlink:href=\"#DejaVuSans-124\"/>\n      <use transform=\"translate(33.691406 0.578125)\" xlink:href=\"#DejaVuSans-Oblique-968\"/>\n      <use transform=\"translate(99.658203 0.578125)\" xlink:href=\"#DejaVuSans-10217\"/>\n     </g>\n    </g>\n   </g>\n   <g id=\"text_6\">\n    <g clip-path=\"url(#pee9acba707)\">\n     <!-- $[0, 1]$ -->\n     <g transform=\"translate(77.754376 327.337245)scale(0.08 -0.08)\">\n      <use transform=\"translate(0 0.015625)\" xlink:href=\"#DejaVuSans-91\"/>\n      <use transform=\"translate(39.013672 0.015625)\" xlink:href=\"#DejaVuSans-48\"/>\n      <use transform=\"translate(102.636719 0.015625)\" xlink:href=\"#DejaVuSans-44\"/>\n      <use transform=\"translate(153.90625 0.015625)\" xlink:href=\"#DejaVuSans-49\"/>\n      <use transform=\"translate(217.529297 0.015625)\" xlink:href=\"#DejaVuSans-93\"/>\n     </g>\n    </g>\n   </g>\n   <g id=\"text_7\">\n    <g clip-path=\"url(#pee9acba707)\">\n     <!-- X -->\n     <defs>\n      <path d=\"M 6.296875 72.90625 \nL 16.890625 72.90625 \nL 35.015625 45.796875 \nL 53.21875 72.90625 \nL 63.8125 72.90625 \nL 40.375 37.890625 \nL 65.375 0 \nL 54.78125 0 \nL 34.28125 31 \nL 13.625 0 \nL 2.984375 0 \nL 29 38.921875 \nz\n\" id=\"DejaVuSans-88\"/>\n     </defs>\n     <g transform=\"translate(356.287876 138.049987)scale(0.13 -0.13)\">\n      <use xlink:href=\"#DejaVuSans-88\"/>\n     </g>\n    </g>\n   </g>\n   <g id=\"text_8\">\n    <g clip-path=\"url(#pee9acba707)\">\n     <!-- X -->\n     <g transform=\"translate(356.287876 183.500987)scale(0.13 -0.13)\">\n      <use xlink:href=\"#DejaVuSans-88\"/>\n     </g>\n    </g>\n   </g>\n   <g id=\"text_9\">\n    <g clip-path=\"url(#pee9acba707)\">\n     <!-- X -->\n     <g transform=\"translate(628.993876 228.951987)scale(0.13 -0.13)\">\n      <use xlink:href=\"#DejaVuSans-88\"/>\n     </g>\n    </g>\n   </g>\n   <g id=\"text_10\">\n    <g clip-path=\"url(#pee9acba707)\">\n     <!-- X -->\n     <g transform=\"translate(628.993876 274.402987)scale(0.13 -0.13)\">\n      <use xlink:href=\"#DejaVuSans-88\"/>\n     </g>\n    </g>\n   </g>\n   <g id=\"text_11\">\n    <g clip-path=\"url(#pee9acba707)\">\n     <!-- H -->\n     <g transform=\"translate(628.558173 319.853987)scale(0.13 -0.13)\">\n      <use xlink:href=\"#DejaVuSans-72\"/>\n     </g>\n    </g>\n   </g>\n   <g id=\"text_12\">\n    <g clip-path=\"url(#pee9acba707)\">\n     <!-- X -->\n     <g transform=\"translate(719.895876 228.951987)scale(0.13 -0.13)\">\n      <use xlink:href=\"#DejaVuSans-88\"/>\n     </g>\n    </g>\n   </g>\n   <g id=\"text_13\">\n    <g clip-path=\"url(#pee9acba707)\">\n     <!-- X -->\n     <g transform=\"translate(719.895876 274.402987)scale(0.13 -0.13)\">\n      <use xlink:href=\"#DejaVuSans-88\"/>\n     </g>\n    </g>\n   </g>\n   <g id=\"text_14\">\n    <g clip-path=\"url(#pee9acba707)\">\n     <!-- H -->\n     <g transform=\"translate(719.460173 319.853987)scale(0.13 -0.13)\">\n      <use xlink:href=\"#DejaVuSans-72\"/>\n     </g>\n    </g>\n   </g>\n   <g id=\"text_15\">\n    <g clip-path=\"url(#pee9acba707)\">\n     <!-- X -->\n     <g transform=\"translate(992.601876 138.049987)scale(0.13 -0.13)\">\n      <use xlink:href=\"#DejaVuSans-88\"/>\n     </g>\n    </g>\n   </g>\n   <g id=\"text_16\">\n    <g clip-path=\"url(#pee9acba707)\">\n     <!-- X -->\n     <g transform=\"translate(992.601876 183.500987)scale(0.13 -0.13)\">\n      <use xlink:href=\"#DejaVuSans-88\"/>\n     </g>\n    </g>\n   </g>\n   <g id=\"text_17\">\n    <g clip-path=\"url(#pee9acba707)\">\n     <!-- 0 -->\n     <g transform=\"translate(82.325731 456.206987)scale(0.13 -0.13)\">\n      <use xlink:href=\"#DejaVuSans-48\"/>\n     </g>\n    </g>\n   </g>\n   <g id=\"text_18\">\n    <g clip-path=\"url(#pee9acba707)\">\n     <!-- 1 -->\n     <g transform=\"translate(82.325731 501.657987)scale(0.13 -0.13)\">\n      <use xlink:href=\"#DejaVuSans-49\"/>\n     </g>\n    </g>\n   </g>\n   <g id=\"text_19\">\n    <g clip-path=\"url(#pee9acba707)\">\n     <!-- Diffuser -->\n     <defs>\n      <path d=\"M 19.671875 64.796875 \nL 19.671875 8.109375 \nL 31.59375 8.109375 \nQ 46.6875 8.109375 53.6875 14.9375 \nQ 60.6875 21.78125 60.6875 36.53125 \nQ 60.6875 51.171875 53.6875 57.984375 \nQ 46.6875 64.796875 31.59375 64.796875 \nz\nM 9.8125 72.90625 \nL 30.078125 72.90625 \nQ 51.265625 72.90625 61.171875 64.09375 \nQ 71.09375 55.28125 71.09375 36.53125 \nQ 71.09375 17.671875 61.125 8.828125 \nQ 51.171875 0 30.078125 0 \nL 9.8125 0 \nz\n\" id=\"DejaVuSans-68\"/>\n      <path d=\"M 9.421875 54.6875 \nL 18.40625 54.6875 \nL 18.40625 0 \nL 9.421875 0 \nz\nM 9.421875 75.984375 \nL 18.40625 75.984375 \nL 18.40625 64.59375 \nL 9.421875 64.59375 \nz\n\" id=\"DejaVuSans-105\"/>\n      <path d=\"M 37.109375 75.984375 \nL 37.109375 68.5 \nL 28.515625 68.5 \nQ 23.6875 68.5 21.796875 66.546875 \nQ 19.921875 64.59375 19.921875 59.515625 \nL 19.921875 54.6875 \nL 34.71875 54.6875 \nL 34.71875 47.703125 \nL 19.921875 47.703125 \nL 19.921875 0 \nL 10.890625 0 \nL 10.890625 47.703125 \nL 2.296875 47.703125 \nL 2.296875 54.6875 \nL 10.890625 54.6875 \nL 10.890625 58.5 \nQ 10.890625 67.625 15.140625 71.796875 \nQ 19.390625 75.984375 28.609375 75.984375 \nz\n\" id=\"DejaVuSans-102\"/>\n      <path d=\"M 8.5 21.578125 \nL 8.5 54.6875 \nL 17.484375 54.6875 \nL 17.484375 21.921875 \nQ 17.484375 14.15625 20.5 10.265625 \nQ 23.53125 6.390625 29.59375 6.390625 \nQ 36.859375 6.390625 41.078125 11.03125 \nQ 45.3125 15.671875 45.3125 23.6875 \nL 45.3125 54.6875 \nL 54.296875 54.6875 \nL 54.296875 0 \nL 45.3125 0 \nL 45.3125 8.40625 \nQ 42.046875 3.421875 37.71875 1 \nQ 33.40625 -1.421875 27.6875 -1.421875 \nQ 18.265625 -1.421875 13.375 4.4375 \nQ 8.5 10.296875 8.5 21.578125 \nz\nM 31.109375 56 \nz\n\" id=\"DejaVuSans-117\"/>\n      <path d=\"M 44.28125 53.078125 \nL 44.28125 44.578125 \nQ 40.484375 46.53125 36.375 47.5 \nQ 32.28125 48.484375 27.875 48.484375 \nQ 21.1875 48.484375 17.84375 46.4375 \nQ 14.5 44.390625 14.5 40.28125 \nQ 14.5 37.15625 16.890625 35.375 \nQ 19.28125 33.59375 26.515625 31.984375 \nL 29.59375 31.296875 \nQ 39.15625 29.25 43.1875 25.515625 \nQ 47.21875 21.78125 47.21875 15.09375 \nQ 47.21875 7.46875 41.1875 3.015625 \nQ 35.15625 -1.421875 24.609375 -1.421875 \nQ 20.21875 -1.421875 15.453125 -0.5625 \nQ 10.6875 0.296875 5.421875 2 \nL 5.421875 11.28125 \nQ 10.40625 8.6875 15.234375 7.390625 \nQ 20.0625 6.109375 24.8125 6.109375 \nQ 31.15625 6.109375 34.5625 8.28125 \nQ 37.984375 10.453125 37.984375 14.40625 \nQ 37.984375 18.0625 35.515625 20.015625 \nQ 33.0625 21.96875 24.703125 23.78125 \nL 21.578125 24.515625 \nQ 13.234375 26.265625 9.515625 29.90625 \nQ 5.8125 33.546875 5.8125 39.890625 \nQ 5.8125 47.609375 11.28125 51.796875 \nQ 16.75 56 26.8125 56 \nQ 31.78125 56 36.171875 55.265625 \nQ 40.578125 54.546875 44.28125 53.078125 \nz\n\" id=\"DejaVuSans-115\"/>\n      <path d=\"M 56.203125 29.59375 \nL 56.203125 25.203125 \nL 14.890625 25.203125 \nQ 15.484375 15.921875 20.484375 11.0625 \nQ 25.484375 6.203125 34.421875 6.203125 \nQ 39.59375 6.203125 44.453125 7.46875 \nQ 49.3125 8.734375 54.109375 11.28125 \nL 54.109375 2.78125 \nQ 49.265625 0.734375 44.1875 -0.34375 \nQ 39.109375 -1.421875 33.890625 -1.421875 \nQ 20.796875 -1.421875 13.15625 6.1875 \nQ 5.515625 13.8125 5.515625 26.8125 \nQ 5.515625 40.234375 12.765625 48.109375 \nQ 20.015625 56 32.328125 56 \nQ 43.359375 56 49.78125 48.890625 \nQ 56.203125 41.796875 56.203125 29.59375 \nz\nM 47.21875 32.234375 \nQ 47.125 39.59375 43.09375 43.984375 \nQ 39.0625 48.390625 32.421875 48.390625 \nQ 24.90625 48.390625 20.390625 44.140625 \nQ 15.875 39.890625 15.1875 32.171875 \nz\n\" id=\"DejaVuSans-101\"/>\n      <path d=\"M 41.109375 46.296875 \nQ 39.59375 47.171875 37.8125 47.578125 \nQ 36.03125 48 33.890625 48 \nQ 26.265625 48 22.1875 43.046875 \nQ 18.109375 38.09375 18.109375 28.8125 \nL 18.109375 0 \nL 9.078125 0 \nL 9.078125 54.6875 \nL 18.109375 54.6875 \nL 18.109375 46.1875 \nQ 20.953125 51.171875 25.484375 53.578125 \nQ 30.03125 56 36.53125 56 \nQ 37.453125 56 38.578125 55.875 \nQ 39.703125 55.765625 41.0625 55.515625 \nz\n\" id=\"DejaVuSans-114\"/>\n     </defs>\n     <g transform=\"translate(90.195189 478.932487)scale(0.13 -0.13)\">\n      <use xlink:href=\"#DejaVuSans-68\"/>\n      <use x=\"77.001953\" xlink:href=\"#DejaVuSans-105\"/>\n      <use x=\"104.785156\" xlink:href=\"#DejaVuSans-102\"/>\n      <use x=\"139.990234\" xlink:href=\"#DejaVuSans-102\"/>\n      <use x=\"175.195312\" xlink:href=\"#DejaVuSans-117\"/>\n      <use x=\"238.574219\" xlink:href=\"#DejaVuSans-115\"/>\n      <use x=\"290.673828\" xlink:href=\"#DejaVuSans-101\"/>\n      <use x=\"352.197266\" xlink:href=\"#DejaVuSans-114\"/>\n     </g>\n    </g>\n   </g>\n   <g id=\"text_20\">\n    <g clip-path=\"url(#pee9acba707)\">\n     <!-- 0 -->\n     <g transform=\"translate(235.750126 764.068825)scale(0.104 -0.104)\">\n      <use xlink:href=\"#DejaVuSans-48\"/>\n     </g>\n    </g>\n   </g>\n   <g id=\"text_21\">\n    <g clip-path=\"url(#pee9acba707)\">\n     <!-- 1 -->\n     <g transform=\"translate(281.201126 764.068825)scale(0.104 -0.104)\">\n      <use xlink:href=\"#DejaVuSans-49\"/>\n     </g>\n    </g>\n   </g>\n   <g id=\"text_22\">\n    <g clip-path=\"url(#pee9acba707)\">\n     <!-- ${q}_{0}$ -->\n     <defs>\n      <path d=\"M 41.703125 8.203125 \nQ 38.09375 3.46875 33.171875 1.015625 \nQ 28.265625 -1.421875 22.3125 -1.421875 \nQ 14.015625 -1.421875 9.296875 4.171875 \nQ 4.59375 9.765625 4.59375 19.578125 \nQ 4.59375 27.484375 7.5 34.859375 \nQ 10.40625 42.234375 15.828125 48.09375 \nQ 19.34375 51.90625 23.90625 53.953125 \nQ 28.46875 56 33.5 56 \nQ 39.546875 56 43.453125 53.609375 \nQ 47.359375 51.21875 49.125 46.390625 \nL 50.6875 54.59375 \nL 59.71875 54.59375 \nL 45.125 -20.609375 \nL 36.078125 -20.609375 \nz\nM 13.921875 20.90625 \nQ 13.921875 13.671875 16.9375 9.890625 \nQ 19.96875 6.109375 25.6875 6.109375 \nQ 34.1875 6.109375 40.1875 14.234375 \nQ 46.1875 22.359375 46.1875 33.984375 \nQ 46.1875 41.015625 43.078125 44.75 \nQ 39.984375 48.484375 34.1875 48.484375 \nQ 29.9375 48.484375 26.3125 46.5 \nQ 22.703125 44.53125 20.015625 40.71875 \nQ 17.1875 36.71875 15.546875 31.34375 \nQ 13.921875 25.984375 13.921875 20.90625 \nz\n\" id=\"DejaVuSans-Oblique-113\"/>\n     </defs>\n     <g transform=\"translate(36.363136 48.011777)scale(0.1625 -0.1625)\">\n      <use xlink:href=\"#DejaVuSans-Oblique-113\"/>\n      <use transform=\"translate(63.476562 -16.40625)scale(0.7)\" xlink:href=\"#DejaVuSans-48\"/>\n     </g>\n    </g>\n   </g>\n   <g id=\"text_23\">\n    <g clip-path=\"url(#pee9acba707)\">\n     <!-- ${q}_{1}$ -->\n     <g transform=\"translate(36.363136 93.462777)scale(0.1625 -0.1625)\">\n      <use xlink:href=\"#DejaVuSans-Oblique-113\"/>\n      <use transform=\"translate(63.476562 -16.40625)scale(0.7)\" xlink:href=\"#DejaVuSans-49\"/>\n     </g>\n    </g>\n   </g>\n   <g id=\"text_24\">\n    <g clip-path=\"url(#pee9acba707)\">\n     <!-- ${q}_{2}$ -->\n     <defs>\n      <path d=\"M 19.1875 8.296875 \nL 53.609375 8.296875 \nL 53.609375 0 \nL 7.328125 0 \nL 7.328125 8.296875 \nQ 12.9375 14.109375 22.625 23.890625 \nQ 32.328125 33.6875 34.8125 36.53125 \nQ 39.546875 41.84375 41.421875 45.53125 \nQ 43.3125 49.21875 43.3125 52.78125 \nQ 43.3125 58.59375 39.234375 62.25 \nQ 35.15625 65.921875 28.609375 65.921875 \nQ 23.96875 65.921875 18.8125 64.3125 \nQ 13.671875 62.703125 7.8125 59.421875 \nL 7.8125 69.390625 \nQ 13.765625 71.78125 18.9375 73 \nQ 24.125 74.21875 28.421875 74.21875 \nQ 39.75 74.21875 46.484375 68.546875 \nQ 53.21875 62.890625 53.21875 53.421875 \nQ 53.21875 48.921875 51.53125 44.890625 \nQ 49.859375 40.875 45.40625 35.40625 \nQ 44.1875 33.984375 37.640625 27.21875 \nQ 31.109375 20.453125 19.1875 8.296875 \nz\n\" id=\"DejaVuSans-50\"/>\n     </defs>\n     <g transform=\"translate(36.363136 138.913777)scale(0.1625 -0.1625)\">\n      <use xlink:href=\"#DejaVuSans-Oblique-113\"/>\n      <use transform=\"translate(63.476562 -16.40625)scale(0.7)\" xlink:href=\"#DejaVuSans-50\"/>\n     </g>\n    </g>\n   </g>\n   <g id=\"text_25\">\n    <g clip-path=\"url(#pee9acba707)\">\n     <!-- ${q}_{3}$ -->\n     <defs>\n      <path d=\"M 40.578125 39.3125 \nQ 47.65625 37.796875 51.625 33 \nQ 55.609375 28.21875 55.609375 21.1875 \nQ 55.609375 10.40625 48.1875 4.484375 \nQ 40.765625 -1.421875 27.09375 -1.421875 \nQ 22.515625 -1.421875 17.65625 -0.515625 \nQ 12.796875 0.390625 7.625 2.203125 \nL 7.625 11.71875 \nQ 11.71875 9.328125 16.59375 8.109375 \nQ 21.484375 6.890625 26.8125 6.890625 \nQ 36.078125 6.890625 40.9375 10.546875 \nQ 45.796875 14.203125 45.796875 21.1875 \nQ 45.796875 27.640625 41.28125 31.265625 \nQ 36.765625 34.90625 28.71875 34.90625 \nL 20.21875 34.90625 \nL 20.21875 43.015625 \nL 29.109375 43.015625 \nQ 36.375 43.015625 40.234375 45.921875 \nQ 44.09375 48.828125 44.09375 54.296875 \nQ 44.09375 59.90625 40.109375 62.90625 \nQ 36.140625 65.921875 28.71875 65.921875 \nQ 24.65625 65.921875 20.015625 65.03125 \nQ 15.375 64.15625 9.8125 62.3125 \nL 9.8125 71.09375 \nQ 15.4375 72.65625 20.34375 73.4375 \nQ 25.25 74.21875 29.59375 74.21875 \nQ 40.828125 74.21875 47.359375 69.109375 \nQ 53.90625 64.015625 53.90625 55.328125 \nQ 53.90625 49.265625 50.4375 45.09375 \nQ 46.96875 40.921875 40.578125 39.3125 \nz\n\" id=\"DejaVuSans-51\"/>\n     </defs>\n     <g transform=\"translate(36.363136 184.364777)scale(0.1625 -0.1625)\">\n      <use xlink:href=\"#DejaVuSans-Oblique-113\"/>\n      <use transform=\"translate(63.476562 -16.40625)scale(0.7)\" xlink:href=\"#DejaVuSans-51\"/>\n     </g>\n    </g>\n   </g>\n   <g id=\"text_26\">\n    <g clip-path=\"url(#pee9acba707)\">\n     <!-- ${q}_{4}$ -->\n     <defs>\n      <path d=\"M 37.796875 64.3125 \nL 12.890625 25.390625 \nL 37.796875 25.390625 \nz\nM 35.203125 72.90625 \nL 47.609375 72.90625 \nL 47.609375 25.390625 \nL 58.015625 25.390625 \nL 58.015625 17.1875 \nL 47.609375 17.1875 \nL 47.609375 0 \nL 37.796875 0 \nL 37.796875 17.1875 \nL 4.890625 17.1875 \nL 4.890625 26.703125 \nz\n\" id=\"DejaVuSans-52\"/>\n     </defs>\n     <g transform=\"translate(36.363136 229.815777)scale(0.1625 -0.1625)\">\n      <use xlink:href=\"#DejaVuSans-Oblique-113\"/>\n      <use transform=\"translate(63.476562 -16.40625)scale(0.7)\" xlink:href=\"#DejaVuSans-52\"/>\n     </g>\n    </g>\n   </g>\n   <g id=\"text_27\">\n    <g clip-path=\"url(#pee9acba707)\">\n     <!-- ${q}_{5}$ -->\n     <defs>\n      <path d=\"M 10.796875 72.90625 \nL 49.515625 72.90625 \nL 49.515625 64.59375 \nL 19.828125 64.59375 \nL 19.828125 46.734375 \nQ 21.96875 47.46875 24.109375 47.828125 \nQ 26.265625 48.1875 28.421875 48.1875 \nQ 40.625 48.1875 47.75 41.5 \nQ 54.890625 34.8125 54.890625 23.390625 \nQ 54.890625 11.625 47.5625 5.09375 \nQ 40.234375 -1.421875 26.90625 -1.421875 \nQ 22.3125 -1.421875 17.546875 -0.640625 \nQ 12.796875 0.140625 7.71875 1.703125 \nL 7.71875 11.625 \nQ 12.109375 9.234375 16.796875 8.0625 \nQ 21.484375 6.890625 26.703125 6.890625 \nQ 35.15625 6.890625 40.078125 11.328125 \nQ 45.015625 15.765625 45.015625 23.390625 \nQ 45.015625 31 40.078125 35.4375 \nQ 35.15625 39.890625 26.703125 39.890625 \nQ 22.75 39.890625 18.8125 39.015625 \nQ 14.890625 38.140625 10.796875 36.28125 \nz\n\" id=\"DejaVuSans-53\"/>\n     </defs>\n     <g transform=\"translate(36.363136 275.266777)scale(0.1625 -0.1625)\">\n      <use xlink:href=\"#DejaVuSans-Oblique-113\"/>\n      <use transform=\"translate(63.476562 -16.40625)scale(0.7)\" xlink:href=\"#DejaVuSans-53\"/>\n     </g>\n    </g>\n   </g>\n   <g id=\"text_28\">\n    <g clip-path=\"url(#pee9acba707)\">\n     <!-- ${q}_{6}$ -->\n     <defs>\n      <path d=\"M 33.015625 40.375 \nQ 26.375 40.375 22.484375 35.828125 \nQ 18.609375 31.296875 18.609375 23.390625 \nQ 18.609375 15.53125 22.484375 10.953125 \nQ 26.375 6.390625 33.015625 6.390625 \nQ 39.65625 6.390625 43.53125 10.953125 \nQ 47.40625 15.53125 47.40625 23.390625 \nQ 47.40625 31.296875 43.53125 35.828125 \nQ 39.65625 40.375 33.015625 40.375 \nz\nM 52.59375 71.296875 \nL 52.59375 62.3125 \nQ 48.875 64.0625 45.09375 64.984375 \nQ 41.3125 65.921875 37.59375 65.921875 \nQ 27.828125 65.921875 22.671875 59.328125 \nQ 17.53125 52.734375 16.796875 39.40625 \nQ 19.671875 43.65625 24.015625 45.921875 \nQ 28.375 48.1875 33.59375 48.1875 \nQ 44.578125 48.1875 50.953125 41.515625 \nQ 57.328125 34.859375 57.328125 23.390625 \nQ 57.328125 12.15625 50.6875 5.359375 \nQ 44.046875 -1.421875 33.015625 -1.421875 \nQ 20.359375 -1.421875 13.671875 8.265625 \nQ 6.984375 17.96875 6.984375 36.375 \nQ 6.984375 53.65625 15.1875 63.9375 \nQ 23.390625 74.21875 37.203125 74.21875 \nQ 40.921875 74.21875 44.703125 73.484375 \nQ 48.484375 72.75 52.59375 71.296875 \nz\n\" id=\"DejaVuSans-54\"/>\n     </defs>\n     <g transform=\"translate(36.363136 320.717777)scale(0.1625 -0.1625)\">\n      <use xlink:href=\"#DejaVuSans-Oblique-113\"/>\n      <use transform=\"translate(63.476562 -16.40625)scale(0.7)\" xlink:href=\"#DejaVuSans-54\"/>\n     </g>\n    </g>\n   </g>\n   <g id=\"text_29\">\n    <g clip-path=\"url(#pee9acba707)\">\n     <!-- 2 -->\n     <g transform=\"translate(68.035936 355.009825)scale(0.104 -0.104)\">\n      <use xlink:href=\"#DejaVuSans-50\"/>\n     </g>\n    </g>\n   </g>\n   <g id=\"text_30\">\n    <g clip-path=\"url(#pee9acba707)\">\n     <!-- c -->\n     <defs>\n      <path d=\"M 48.78125 52.59375 \nL 48.78125 44.1875 \nQ 44.96875 46.296875 41.140625 47.34375 \nQ 37.3125 48.390625 33.40625 48.390625 \nQ 24.65625 48.390625 19.8125 42.84375 \nQ 14.984375 37.3125 14.984375 27.296875 \nQ 14.984375 17.28125 19.8125 11.734375 \nQ 24.65625 6.203125 33.40625 6.203125 \nQ 37.3125 6.203125 41.140625 7.25 \nQ 44.96875 8.296875 48.78125 10.40625 \nL 48.78125 2.09375 \nQ 45.015625 0.34375 40.984375 -0.53125 \nQ 36.96875 -1.421875 32.421875 -1.421875 \nQ 20.0625 -1.421875 12.78125 6.34375 \nQ 5.515625 14.109375 5.515625 27.296875 \nQ 5.515625 40.671875 12.859375 48.328125 \nQ 20.21875 56 33.015625 56 \nQ 37.15625 56 41.109375 55.140625 \nQ 45.0625 54.296875 48.78125 52.59375 \nz\n\" id=\"DejaVuSans-99\"/>\n     </defs>\n     <g transform=\"translate(45.465675 366.201784)scale(0.1625 -0.1625)\">\n      <use xlink:href=\"#DejaVuSans-99\"/>\n     </g>\n    </g>\n   </g>\n   <g id=\"text_31\">\n    <g clip-path=\"url(#pee9acba707)\">\n     <!-- ${q}_{0}$ -->\n     <g transform=\"translate(36.363136 457.070777)scale(0.1625 -0.1625)\">\n      <use xlink:href=\"#DejaVuSans-Oblique-113\"/>\n      <use transform=\"translate(63.476562 -16.40625)scale(0.7)\" xlink:href=\"#DejaVuSans-48\"/>\n     </g>\n    </g>\n   </g>\n   <g id=\"text_32\">\n    <g clip-path=\"url(#pee9acba707)\">\n     <!-- ${q}_{1}$ -->\n     <g transform=\"translate(36.363136 502.521777)scale(0.1625 -0.1625)\">\n      <use xlink:href=\"#DejaVuSans-Oblique-113\"/>\n      <use transform=\"translate(63.476562 -16.40625)scale(0.7)\" xlink:href=\"#DejaVuSans-49\"/>\n     </g>\n    </g>\n   </g>\n   <g id=\"text_33\">\n    <g clip-path=\"url(#pee9acba707)\">\n     <!-- ${q}_{2}$ -->\n     <g transform=\"translate(36.363136 547.972777)scale(0.1625 -0.1625)\">\n      <use xlink:href=\"#DejaVuSans-Oblique-113\"/>\n      <use transform=\"translate(63.476562 -16.40625)scale(0.7)\" xlink:href=\"#DejaVuSans-50\"/>\n     </g>\n    </g>\n   </g>\n   <g id=\"text_34\">\n    <g clip-path=\"url(#pee9acba707)\">\n     <!-- ${q}_{3}$ -->\n     <g transform=\"translate(36.363136 593.423777)scale(0.1625 -0.1625)\">\n      <use xlink:href=\"#DejaVuSans-Oblique-113\"/>\n      <use transform=\"translate(63.476562 -16.40625)scale(0.7)\" xlink:href=\"#DejaVuSans-51\"/>\n     </g>\n    </g>\n   </g>\n   <g id=\"text_35\">\n    <g clip-path=\"url(#pee9acba707)\">\n     <!-- ${q}_{4}$ -->\n     <g transform=\"translate(36.363136 638.874777)scale(0.1625 -0.1625)\">\n      <use xlink:href=\"#DejaVuSans-Oblique-113\"/>\n      <use transform=\"translate(63.476562 -16.40625)scale(0.7)\" xlink:href=\"#DejaVuSans-52\"/>\n     </g>\n    </g>\n   </g>\n   <g id=\"text_36\">\n    <g clip-path=\"url(#pee9acba707)\">\n     <!-- ${q}_{5}$ -->\n     <g transform=\"translate(36.363136 684.325777)scale(0.1625 -0.1625)\">\n      <use xlink:href=\"#DejaVuSans-Oblique-113\"/>\n      <use transform=\"translate(63.476562 -16.40625)scale(0.7)\" xlink:href=\"#DejaVuSans-53\"/>\n     </g>\n    </g>\n   </g>\n   <g id=\"text_37\">\n    <g clip-path=\"url(#pee9acba707)\">\n     <!-- ${q}_{6}$ -->\n     <g transform=\"translate(36.363136 729.776777)scale(0.1625 -0.1625)\">\n      <use xlink:href=\"#DejaVuSans-Oblique-113\"/>\n      <use transform=\"translate(63.476562 -16.40625)scale(0.7)\" xlink:href=\"#DejaVuSans-54\"/>\n     </g>\n    </g>\n   </g>\n   <g id=\"text_38\">\n    <g clip-path=\"url(#pee9acba707)\">\n     <!-- 2 -->\n     <g transform=\"translate(68.035936 764.068825)scale(0.104 -0.104)\">\n      <use xlink:href=\"#DejaVuSans-50\"/>\n     </g>\n    </g>\n   </g>\n   <g id=\"text_39\">\n    <g clip-path=\"url(#pee9acba707)\">\n     <!-- c -->\n     <g transform=\"translate(45.465675 775.260784)scale(0.1625 -0.1625)\">\n      <use xlink:href=\"#DejaVuSans-99\"/>\n     </g>\n    </g>\n   </g>\n  </g>\n </g>\n <defs>\n  <clipPath id=\"pee9acba707\">\n   <rect height=\"790.8474\" width=\"1201.656036\" x=\"7.2\" y=\"7.2\"/>\n  </clipPath>\n </defs>\n</svg>\n"
          },
          "metadata": {
            "tags": []
          },
          "execution_count": 48
        }
      ]
    },
    {
      "cell_type": "code",
      "metadata": {
        "id": "P8vww0yxu446",
        "colab": {
          "base_uri": "https://localhost:8080/",
          "height": 457
        },
        "outputId": "1c5875ff-62c5-4156-d80e-5f315cd1d966"
      },
      "source": [
        "# Explorez le Probabilities\n",
        "%config InlineBackend.figure_format = 'svg' # Makes the images fit\n",
        "result_2 = probabilities(grover_circuit)\n",
        "print(\"Simulation Result\")\n",
        "plot_histogram(result_2)"
      ],
      "execution_count": 49,
      "outputs": [
        {
          "output_type": "stream",
          "text": [
            "Simulation Result\n"
          ],
          "name": "stdout"
        },
        {
          "output_type": "execute_result",
          "data": {
            "text/plain": [
              "<Figure size 504x360 with 1 Axes>"
            ],
            "image/svg+xml": "<?xml version=\"1.0\" encoding=\"utf-8\" standalone=\"no\"?>\n<!DOCTYPE svg PUBLIC \"-//W3C//DTD SVG 1.1//EN\"\n  \"http://www.w3.org/Graphics/SVG/1.1/DTD/svg11.dtd\">\n<!-- Created with matplotlib (https://matplotlib.org/) -->\n<svg height=\"314.574783pt\" version=\"1.1\" viewBox=\"0 0 460.72125 314.574783\" width=\"460.72125pt\" xmlns=\"http://www.w3.org/2000/svg\" xmlns:xlink=\"http://www.w3.org/1999/xlink\">\n <defs>\n  <style type=\"text/css\">\n*{stroke-linecap:butt;stroke-linejoin:round;}\n  </style>\n </defs>\n <g id=\"figure_1\">\n  <g id=\"patch_1\">\n   <path d=\"M 0 314.574783 \nL 460.72125 314.574783 \nL 460.72125 0 \nL 0 0 \nz\n\" style=\"fill:none;\"/>\n  </g>\n  <g id=\"axes_1\">\n   <g id=\"patch_2\">\n    <path d=\"M 62.92125 279 \nL 453.52125 279 \nL 453.52125 7.2 \nL 62.92125 7.2 \nz\n\" style=\"fill:#ffffff;\"/>\n   </g>\n   <g id=\"matplotlib.axis_1\">\n    <g id=\"xtick_1\">\n     <g id=\"line2d_1\">\n      <defs>\n       <path d=\"M 0 0 \nL 0 3.5 \n\" id=\"m6e38d97fd1\" style=\"stroke:#000000;stroke-width:0.8;\"/>\n      </defs>\n      <g>\n       <use style=\"stroke:#000000;stroke-width:0.8;\" x=\"258.22125\" xlink:href=\"#m6e38d97fd1\" y=\"279\"/>\n      </g>\n     </g>\n     <g id=\"text_1\">\n      <!-- 00 -->\n      <defs>\n       <path d=\"M 31.78125 66.40625 \nQ 24.171875 66.40625 20.328125 58.90625 \nQ 16.5 51.421875 16.5 36.375 \nQ 16.5 21.390625 20.328125 13.890625 \nQ 24.171875 6.390625 31.78125 6.390625 \nQ 39.453125 6.390625 43.28125 13.890625 \nQ 47.125 21.390625 47.125 36.375 \nQ 47.125 51.421875 43.28125 58.90625 \nQ 39.453125 66.40625 31.78125 66.40625 \nz\nM 31.78125 74.21875 \nQ 44.046875 74.21875 50.515625 64.515625 \nQ 56.984375 54.828125 56.984375 36.375 \nQ 56.984375 17.96875 50.515625 8.265625 \nQ 44.046875 -1.421875 31.78125 -1.421875 \nQ 19.53125 -1.421875 13.0625 8.265625 \nQ 6.59375 17.96875 6.59375 36.375 \nQ 6.59375 54.828125 13.0625 64.515625 \nQ 19.53125 74.21875 31.78125 74.21875 \nz\n\" id=\"DejaVuSans-48\"/>\n      </defs>\n      <g transform=\"translate(258.804856 306.37897)rotate(-70)scale(0.14 -0.14)\">\n       <use xlink:href=\"#DejaVuSans-48\"/>\n       <use x=\"63.623047\" xlink:href=\"#DejaVuSans-48\"/>\n      </g>\n     </g>\n    </g>\n   </g>\n   <g id=\"matplotlib.axis_2\">\n    <g id=\"ytick_1\">\n     <g id=\"line2d_2\">\n      <path clip-path=\"url(#p88817b31ed)\" d=\"M 62.92125 279 \nL 453.52125 279 \n\" style=\"fill:none;stroke:#b0b0b0;stroke-dasharray:2.96,1.28;stroke-dashoffset:0;stroke-width:0.8;\"/>\n     </g>\n     <g id=\"line2d_3\">\n      <defs>\n       <path d=\"M 0 0 \nL -3.5 0 \n\" id=\"m276a6fe8c0\" style=\"stroke:#000000;stroke-width:0.8;\"/>\n      </defs>\n      <g>\n       <use style=\"stroke:#000000;stroke-width:0.8;\" x=\"62.92125\" xlink:href=\"#m276a6fe8c0\" y=\"279\"/>\n      </g>\n     </g>\n     <g id=\"text_2\">\n      <!-- 0.00 -->\n      <defs>\n       <path d=\"M 10.6875 12.40625 \nL 21 12.40625 \nL 21 0 \nL 10.6875 0 \nz\n\" id=\"DejaVuSans-46\"/>\n      </defs>\n      <g transform=\"translate(24.749375 284.318906)scale(0.14 -0.14)\">\n       <use xlink:href=\"#DejaVuSans-48\"/>\n       <use x=\"63.623047\" xlink:href=\"#DejaVuSans-46\"/>\n       <use x=\"95.410156\" xlink:href=\"#DejaVuSans-48\"/>\n       <use x=\"159.033203\" xlink:href=\"#DejaVuSans-48\"/>\n      </g>\n     </g>\n    </g>\n    <g id=\"ytick_2\">\n     <g id=\"line2d_4\">\n      <path clip-path=\"url(#p88817b31ed)\" d=\"M 62.92125 222.375 \nL 453.52125 222.375 \n\" style=\"fill:none;stroke:#b0b0b0;stroke-dasharray:2.96,1.28;stroke-dashoffset:0;stroke-width:0.8;\"/>\n     </g>\n     <g id=\"line2d_5\">\n      <g>\n       <use style=\"stroke:#000000;stroke-width:0.8;\" x=\"62.92125\" xlink:href=\"#m276a6fe8c0\" y=\"222.375\"/>\n      </g>\n     </g>\n     <g id=\"text_3\">\n      <!-- 0.25 -->\n      <defs>\n       <path d=\"M 19.1875 8.296875 \nL 53.609375 8.296875 \nL 53.609375 0 \nL 7.328125 0 \nL 7.328125 8.296875 \nQ 12.9375 14.109375 22.625 23.890625 \nQ 32.328125 33.6875 34.8125 36.53125 \nQ 39.546875 41.84375 41.421875 45.53125 \nQ 43.3125 49.21875 43.3125 52.78125 \nQ 43.3125 58.59375 39.234375 62.25 \nQ 35.15625 65.921875 28.609375 65.921875 \nQ 23.96875 65.921875 18.8125 64.3125 \nQ 13.671875 62.703125 7.8125 59.421875 \nL 7.8125 69.390625 \nQ 13.765625 71.78125 18.9375 73 \nQ 24.125 74.21875 28.421875 74.21875 \nQ 39.75 74.21875 46.484375 68.546875 \nQ 53.21875 62.890625 53.21875 53.421875 \nQ 53.21875 48.921875 51.53125 44.890625 \nQ 49.859375 40.875 45.40625 35.40625 \nQ 44.1875 33.984375 37.640625 27.21875 \nQ 31.109375 20.453125 19.1875 8.296875 \nz\n\" id=\"DejaVuSans-50\"/>\n       <path d=\"M 10.796875 72.90625 \nL 49.515625 72.90625 \nL 49.515625 64.59375 \nL 19.828125 64.59375 \nL 19.828125 46.734375 \nQ 21.96875 47.46875 24.109375 47.828125 \nQ 26.265625 48.1875 28.421875 48.1875 \nQ 40.625 48.1875 47.75 41.5 \nQ 54.890625 34.8125 54.890625 23.390625 \nQ 54.890625 11.625 47.5625 5.09375 \nQ 40.234375 -1.421875 26.90625 -1.421875 \nQ 22.3125 -1.421875 17.546875 -0.640625 \nQ 12.796875 0.140625 7.71875 1.703125 \nL 7.71875 11.625 \nQ 12.109375 9.234375 16.796875 8.0625 \nQ 21.484375 6.890625 26.703125 6.890625 \nQ 35.15625 6.890625 40.078125 11.328125 \nQ 45.015625 15.765625 45.015625 23.390625 \nQ 45.015625 31 40.078125 35.4375 \nQ 35.15625 39.890625 26.703125 39.890625 \nQ 22.75 39.890625 18.8125 39.015625 \nQ 14.890625 38.140625 10.796875 36.28125 \nz\n\" id=\"DejaVuSans-53\"/>\n      </defs>\n      <g transform=\"translate(24.749375 227.693906)scale(0.14 -0.14)\">\n       <use xlink:href=\"#DejaVuSans-48\"/>\n       <use x=\"63.623047\" xlink:href=\"#DejaVuSans-46\"/>\n       <use x=\"95.410156\" xlink:href=\"#DejaVuSans-50\"/>\n       <use x=\"159.033203\" xlink:href=\"#DejaVuSans-53\"/>\n      </g>\n     </g>\n    </g>\n    <g id=\"ytick_3\">\n     <g id=\"line2d_6\">\n      <path clip-path=\"url(#p88817b31ed)\" d=\"M 62.92125 165.75 \nL 453.52125 165.75 \n\" style=\"fill:none;stroke:#b0b0b0;stroke-dasharray:2.96,1.28;stroke-dashoffset:0;stroke-width:0.8;\"/>\n     </g>\n     <g id=\"line2d_7\">\n      <g>\n       <use style=\"stroke:#000000;stroke-width:0.8;\" x=\"62.92125\" xlink:href=\"#m276a6fe8c0\" y=\"165.75\"/>\n      </g>\n     </g>\n     <g id=\"text_4\">\n      <!-- 0.50 -->\n      <g transform=\"translate(24.749375 171.068906)scale(0.14 -0.14)\">\n       <use xlink:href=\"#DejaVuSans-48\"/>\n       <use x=\"63.623047\" xlink:href=\"#DejaVuSans-46\"/>\n       <use x=\"95.410156\" xlink:href=\"#DejaVuSans-53\"/>\n       <use x=\"159.033203\" xlink:href=\"#DejaVuSans-48\"/>\n      </g>\n     </g>\n    </g>\n    <g id=\"ytick_4\">\n     <g id=\"line2d_8\">\n      <path clip-path=\"url(#p88817b31ed)\" d=\"M 62.92125 109.125 \nL 453.52125 109.125 \n\" style=\"fill:none;stroke:#b0b0b0;stroke-dasharray:2.96,1.28;stroke-dashoffset:0;stroke-width:0.8;\"/>\n     </g>\n     <g id=\"line2d_9\">\n      <g>\n       <use style=\"stroke:#000000;stroke-width:0.8;\" x=\"62.92125\" xlink:href=\"#m276a6fe8c0\" y=\"109.125\"/>\n      </g>\n     </g>\n     <g id=\"text_5\">\n      <!-- 0.75 -->\n      <defs>\n       <path d=\"M 8.203125 72.90625 \nL 55.078125 72.90625 \nL 55.078125 68.703125 \nL 28.609375 0 \nL 18.3125 0 \nL 43.21875 64.59375 \nL 8.203125 64.59375 \nz\n\" id=\"DejaVuSans-55\"/>\n      </defs>\n      <g transform=\"translate(24.749375 114.443906)scale(0.14 -0.14)\">\n       <use xlink:href=\"#DejaVuSans-48\"/>\n       <use x=\"63.623047\" xlink:href=\"#DejaVuSans-46\"/>\n       <use x=\"95.410156\" xlink:href=\"#DejaVuSans-55\"/>\n       <use x=\"159.033203\" xlink:href=\"#DejaVuSans-53\"/>\n      </g>\n     </g>\n    </g>\n    <g id=\"ytick_5\">\n     <g id=\"line2d_10\">\n      <path clip-path=\"url(#p88817b31ed)\" d=\"M 62.92125 52.5 \nL 453.52125 52.5 \n\" style=\"fill:none;stroke:#b0b0b0;stroke-dasharray:2.96,1.28;stroke-dashoffset:0;stroke-width:0.8;\"/>\n     </g>\n     <g id=\"line2d_11\">\n      <g>\n       <use style=\"stroke:#000000;stroke-width:0.8;\" x=\"62.92125\" xlink:href=\"#m276a6fe8c0\" y=\"52.5\"/>\n      </g>\n     </g>\n     <g id=\"text_6\">\n      <!-- 1.00 -->\n      <defs>\n       <path d=\"M 12.40625 8.296875 \nL 28.515625 8.296875 \nL 28.515625 63.921875 \nL 10.984375 60.40625 \nL 10.984375 69.390625 \nL 28.421875 72.90625 \nL 38.28125 72.90625 \nL 38.28125 8.296875 \nL 54.390625 8.296875 \nL 54.390625 0 \nL 12.40625 0 \nz\n\" id=\"DejaVuSans-49\"/>\n      </defs>\n      <g transform=\"translate(24.749375 57.818906)scale(0.14 -0.14)\">\n       <use xlink:href=\"#DejaVuSans-49\"/>\n       <use x=\"63.623047\" xlink:href=\"#DejaVuSans-46\"/>\n       <use x=\"95.410156\" xlink:href=\"#DejaVuSans-48\"/>\n       <use x=\"159.033203\" xlink:href=\"#DejaVuSans-48\"/>\n      </g>\n     </g>\n    </g>\n    <g id=\"text_7\">\n     <!-- Probabilities -->\n     <defs>\n      <path d=\"M 19.671875 64.796875 \nL 19.671875 37.40625 \nL 32.078125 37.40625 \nQ 38.96875 37.40625 42.71875 40.96875 \nQ 46.484375 44.53125 46.484375 51.125 \nQ 46.484375 57.671875 42.71875 61.234375 \nQ 38.96875 64.796875 32.078125 64.796875 \nz\nM 9.8125 72.90625 \nL 32.078125 72.90625 \nQ 44.34375 72.90625 50.609375 67.359375 \nQ 56.890625 61.8125 56.890625 51.125 \nQ 56.890625 40.328125 50.609375 34.8125 \nQ 44.34375 29.296875 32.078125 29.296875 \nL 19.671875 29.296875 \nL 19.671875 0 \nL 9.8125 0 \nz\n\" id=\"DejaVuSans-80\"/>\n      <path d=\"M 41.109375 46.296875 \nQ 39.59375 47.171875 37.8125 47.578125 \nQ 36.03125 48 33.890625 48 \nQ 26.265625 48 22.1875 43.046875 \nQ 18.109375 38.09375 18.109375 28.8125 \nL 18.109375 0 \nL 9.078125 0 \nL 9.078125 54.6875 \nL 18.109375 54.6875 \nL 18.109375 46.1875 \nQ 20.953125 51.171875 25.484375 53.578125 \nQ 30.03125 56 36.53125 56 \nQ 37.453125 56 38.578125 55.875 \nQ 39.703125 55.765625 41.0625 55.515625 \nz\n\" id=\"DejaVuSans-114\"/>\n      <path d=\"M 30.609375 48.390625 \nQ 23.390625 48.390625 19.1875 42.75 \nQ 14.984375 37.109375 14.984375 27.296875 \nQ 14.984375 17.484375 19.15625 11.84375 \nQ 23.34375 6.203125 30.609375 6.203125 \nQ 37.796875 6.203125 41.984375 11.859375 \nQ 46.1875 17.53125 46.1875 27.296875 \nQ 46.1875 37.015625 41.984375 42.703125 \nQ 37.796875 48.390625 30.609375 48.390625 \nz\nM 30.609375 56 \nQ 42.328125 56 49.015625 48.375 \nQ 55.71875 40.765625 55.71875 27.296875 \nQ 55.71875 13.875 49.015625 6.21875 \nQ 42.328125 -1.421875 30.609375 -1.421875 \nQ 18.84375 -1.421875 12.171875 6.21875 \nQ 5.515625 13.875 5.515625 27.296875 \nQ 5.515625 40.765625 12.171875 48.375 \nQ 18.84375 56 30.609375 56 \nz\n\" id=\"DejaVuSans-111\"/>\n      <path d=\"M 48.6875 27.296875 \nQ 48.6875 37.203125 44.609375 42.84375 \nQ 40.53125 48.484375 33.40625 48.484375 \nQ 26.265625 48.484375 22.1875 42.84375 \nQ 18.109375 37.203125 18.109375 27.296875 \nQ 18.109375 17.390625 22.1875 11.75 \nQ 26.265625 6.109375 33.40625 6.109375 \nQ 40.53125 6.109375 44.609375 11.75 \nQ 48.6875 17.390625 48.6875 27.296875 \nz\nM 18.109375 46.390625 \nQ 20.953125 51.265625 25.265625 53.625 \nQ 29.59375 56 35.59375 56 \nQ 45.5625 56 51.78125 48.09375 \nQ 58.015625 40.1875 58.015625 27.296875 \nQ 58.015625 14.40625 51.78125 6.484375 \nQ 45.5625 -1.421875 35.59375 -1.421875 \nQ 29.59375 -1.421875 25.265625 0.953125 \nQ 20.953125 3.328125 18.109375 8.203125 \nL 18.109375 0 \nL 9.078125 0 \nL 9.078125 75.984375 \nL 18.109375 75.984375 \nz\n\" id=\"DejaVuSans-98\"/>\n      <path d=\"M 34.28125 27.484375 \nQ 23.390625 27.484375 19.1875 25 \nQ 14.984375 22.515625 14.984375 16.5 \nQ 14.984375 11.71875 18.140625 8.90625 \nQ 21.296875 6.109375 26.703125 6.109375 \nQ 34.1875 6.109375 38.703125 11.40625 \nQ 43.21875 16.703125 43.21875 25.484375 \nL 43.21875 27.484375 \nz\nM 52.203125 31.203125 \nL 52.203125 0 \nL 43.21875 0 \nL 43.21875 8.296875 \nQ 40.140625 3.328125 35.546875 0.953125 \nQ 30.953125 -1.421875 24.3125 -1.421875 \nQ 15.921875 -1.421875 10.953125 3.296875 \nQ 6 8.015625 6 15.921875 \nQ 6 25.140625 12.171875 29.828125 \nQ 18.359375 34.515625 30.609375 34.515625 \nL 43.21875 34.515625 \nL 43.21875 35.40625 \nQ 43.21875 41.609375 39.140625 45 \nQ 35.0625 48.390625 27.6875 48.390625 \nQ 23 48.390625 18.546875 47.265625 \nQ 14.109375 46.140625 10.015625 43.890625 \nL 10.015625 52.203125 \nQ 14.9375 54.109375 19.578125 55.046875 \nQ 24.21875 56 28.609375 56 \nQ 40.484375 56 46.34375 49.84375 \nQ 52.203125 43.703125 52.203125 31.203125 \nz\n\" id=\"DejaVuSans-97\"/>\n      <path d=\"M 9.421875 54.6875 \nL 18.40625 54.6875 \nL 18.40625 0 \nL 9.421875 0 \nz\nM 9.421875 75.984375 \nL 18.40625 75.984375 \nL 18.40625 64.59375 \nL 9.421875 64.59375 \nz\n\" id=\"DejaVuSans-105\"/>\n      <path d=\"M 9.421875 75.984375 \nL 18.40625 75.984375 \nL 18.40625 0 \nL 9.421875 0 \nz\n\" id=\"DejaVuSans-108\"/>\n      <path d=\"M 18.3125 70.21875 \nL 18.3125 54.6875 \nL 36.8125 54.6875 \nL 36.8125 47.703125 \nL 18.3125 47.703125 \nL 18.3125 18.015625 \nQ 18.3125 11.328125 20.140625 9.421875 \nQ 21.96875 7.515625 27.59375 7.515625 \nL 36.8125 7.515625 \nL 36.8125 0 \nL 27.59375 0 \nQ 17.1875 0 13.234375 3.875 \nQ 9.28125 7.765625 9.28125 18.015625 \nL 9.28125 47.703125 \nL 2.6875 47.703125 \nL 2.6875 54.6875 \nL 9.28125 54.6875 \nL 9.28125 70.21875 \nz\n\" id=\"DejaVuSans-116\"/>\n      <path d=\"M 56.203125 29.59375 \nL 56.203125 25.203125 \nL 14.890625 25.203125 \nQ 15.484375 15.921875 20.484375 11.0625 \nQ 25.484375 6.203125 34.421875 6.203125 \nQ 39.59375 6.203125 44.453125 7.46875 \nQ 49.3125 8.734375 54.109375 11.28125 \nL 54.109375 2.78125 \nQ 49.265625 0.734375 44.1875 -0.34375 \nQ 39.109375 -1.421875 33.890625 -1.421875 \nQ 20.796875 -1.421875 13.15625 6.1875 \nQ 5.515625 13.8125 5.515625 26.8125 \nQ 5.515625 40.234375 12.765625 48.109375 \nQ 20.015625 56 32.328125 56 \nQ 43.359375 56 49.78125 48.890625 \nQ 56.203125 41.796875 56.203125 29.59375 \nz\nM 47.21875 32.234375 \nQ 47.125 39.59375 43.09375 43.984375 \nQ 39.0625 48.390625 32.421875 48.390625 \nQ 24.90625 48.390625 20.390625 44.140625 \nQ 15.875 39.890625 15.1875 32.171875 \nz\n\" id=\"DejaVuSans-101\"/>\n      <path d=\"M 44.28125 53.078125 \nL 44.28125 44.578125 \nQ 40.484375 46.53125 36.375 47.5 \nQ 32.28125 48.484375 27.875 48.484375 \nQ 21.1875 48.484375 17.84375 46.4375 \nQ 14.5 44.390625 14.5 40.28125 \nQ 14.5 37.15625 16.890625 35.375 \nQ 19.28125 33.59375 26.515625 31.984375 \nL 29.59375 31.296875 \nQ 39.15625 29.25 43.1875 25.515625 \nQ 47.21875 21.78125 47.21875 15.09375 \nQ 47.21875 7.46875 41.1875 3.015625 \nQ 35.15625 -1.421875 24.609375 -1.421875 \nQ 20.21875 -1.421875 15.453125 -0.5625 \nQ 10.6875 0.296875 5.421875 2 \nL 5.421875 11.28125 \nQ 10.40625 8.6875 15.234375 7.390625 \nQ 20.0625 6.109375 24.8125 6.109375 \nQ 31.15625 6.109375 34.5625 8.28125 \nQ 37.984375 10.453125 37.984375 14.40625 \nQ 37.984375 18.0625 35.515625 20.015625 \nQ 33.0625 21.96875 24.703125 23.78125 \nL 21.578125 24.515625 \nQ 13.234375 26.265625 9.515625 29.90625 \nQ 5.8125 33.546875 5.8125 39.890625 \nQ 5.8125 47.609375 11.28125 51.796875 \nQ 16.75 56 26.8125 56 \nQ 31.78125 56 36.171875 55.265625 \nQ 40.578125 54.546875 44.28125 53.078125 \nz\n\" id=\"DejaVuSans-115\"/>\n     </defs>\n     <g transform=\"translate(17.837813 185.855781)rotate(-90)scale(0.14 -0.14)\">\n      <use xlink:href=\"#DejaVuSans-80\"/>\n      <use x=\"58.552734\" xlink:href=\"#DejaVuSans-114\"/>\n      <use x=\"97.416016\" xlink:href=\"#DejaVuSans-111\"/>\n      <use x=\"158.597656\" xlink:href=\"#DejaVuSans-98\"/>\n      <use x=\"222.074219\" xlink:href=\"#DejaVuSans-97\"/>\n      <use x=\"283.353516\" xlink:href=\"#DejaVuSans-98\"/>\n      <use x=\"346.830078\" xlink:href=\"#DejaVuSans-105\"/>\n      <use x=\"374.613281\" xlink:href=\"#DejaVuSans-108\"/>\n      <use x=\"402.396484\" xlink:href=\"#DejaVuSans-105\"/>\n      <use x=\"430.179688\" xlink:href=\"#DejaVuSans-116\"/>\n      <use x=\"469.388672\" xlink:href=\"#DejaVuSans-105\"/>\n      <use x=\"497.171875\" xlink:href=\"#DejaVuSans-101\"/>\n      <use x=\"558.695312\" xlink:href=\"#DejaVuSans-115\"/>\n     </g>\n    </g>\n   </g>\n   <g id=\"patch_3\">\n    <path clip-path=\"url(#p88817b31ed)\" d=\"M 80.675795 279 \nL 435.766705 279 \nL 435.766705 52.5 \nL 80.675795 52.5 \nz\n\" style=\"fill:#648fff;\"/>\n   </g>\n   <g id=\"patch_4\">\n    <path d=\"M 62.92125 279 \nL 62.92125 7.2 \n\" style=\"fill:none;stroke:#000000;stroke-linecap:square;stroke-linejoin:miter;stroke-width:0.8;\"/>\n   </g>\n   <g id=\"patch_5\">\n    <path d=\"M 453.52125 279 \nL 453.52125 7.2 \n\" style=\"fill:none;stroke:#000000;stroke-linecap:square;stroke-linejoin:miter;stroke-width:0.8;\"/>\n   </g>\n   <g id=\"patch_6\">\n    <path d=\"M 62.92125 279 \nL 453.52125 279 \n\" style=\"fill:none;stroke:#000000;stroke-linecap:square;stroke-linejoin:miter;stroke-width:0.8;\"/>\n   </g>\n   <g id=\"patch_7\">\n    <path d=\"M 62.92125 7.2 \nL 453.52125 7.2 \n\" style=\"fill:none;stroke:#000000;stroke-linecap:square;stroke-linejoin:miter;stroke-width:0.8;\"/>\n   </g>\n   <g id=\"text_8\">\n    <!-- 1.000 -->\n    <g transform=\"translate(243.907187 39.095312)scale(0.1 -0.1)\">\n     <use xlink:href=\"#DejaVuSans-49\"/>\n     <use x=\"63.623047\" xlink:href=\"#DejaVuSans-46\"/>\n     <use x=\"95.410156\" xlink:href=\"#DejaVuSans-48\"/>\n     <use x=\"159.033203\" xlink:href=\"#DejaVuSans-48\"/>\n     <use x=\"222.65625\" xlink:href=\"#DejaVuSans-48\"/>\n    </g>\n   </g>\n  </g>\n </g>\n <defs>\n  <clipPath id=\"p88817b31ed\">\n   <rect height=\"271.8\" width=\"390.6\" x=\"62.92125\" y=\"7.2\"/>\n  </clipPath>\n </defs>\n</svg>\n"
          },
          "metadata": {
            "tags": []
          },
          "execution_count": 49
        }
      ]
    }
  ]
}